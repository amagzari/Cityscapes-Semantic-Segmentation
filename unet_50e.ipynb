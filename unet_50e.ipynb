{
  "nbformat": 4,
  "nbformat_minor": 0,
  "metadata": {
    "colab": {
      "provenance": [],
      "machine_shape": "hm"
    },
    "kernelspec": {
      "name": "python3",
      "display_name": "Python 3"
    },
    "language_info": {
      "name": "python"
    },
    "accelerator": "GPU",
    "gpuClass": "standard"
  },
  "cells": [
    {
      "cell_type": "code",
      "source": [
        "from google.colab import drive\n",
        "drive.mount('/content/drive/')"
      ],
      "metadata": {
        "colab": {
          "base_uri": "https://localhost:8080/"
        },
        "id": "YN_il0_giYNC",
        "outputId": "2079f194-d2d0-40b7-9333-a264885f687d"
      },
      "execution_count": null,
      "outputs": [
        {
          "output_type": "stream",
          "name": "stdout",
          "text": [
            "Mounted at /content/drive/\n"
          ]
        }
      ]
    },
    {
      "cell_type": "code",
      "source": [
        "!pip install segmentation_models_pytorch \n",
        "!pip install torchmetrics"
      ],
      "metadata": {
        "colab": {
          "base_uri": "https://localhost:8080/"
        },
        "id": "SsmBsAsHL1Dr",
        "outputId": "8cfe9464-428d-49e4-f697-9a9ef62a033d"
      },
      "execution_count": null,
      "outputs": [
        {
          "output_type": "stream",
          "name": "stdout",
          "text": [
            "Looking in indexes: https://pypi.org/simple, https://us-python.pkg.dev/colab-wheels/public/simple/\n",
            "Collecting segmentation_models_pytorch\n",
            "  Downloading segmentation_models_pytorch-0.3.2-py3-none-any.whl (106 kB)\n",
            "\u001b[2K     \u001b[90m━━━━━━━━━━━━━━━━━━━━━━━━━━━━━━━━━━━━━━━\u001b[0m \u001b[32m106.7/106.7 KB\u001b[0m \u001b[31m3.5 MB/s\u001b[0m eta \u001b[36m0:00:00\u001b[0m\n",
            "\u001b[?25hCollecting pretrainedmodels==0.7.4\n",
            "  Downloading pretrainedmodels-0.7.4.tar.gz (58 kB)\n",
            "\u001b[2K     \u001b[90m━━━━━━━━━━━━━━━━━━━━━━━━━━━━━━━━━━━━━━━━\u001b[0m \u001b[32m58.8/58.8 KB\u001b[0m \u001b[31m7.7 MB/s\u001b[0m eta \u001b[36m0:00:00\u001b[0m\n",
            "\u001b[?25h  Preparing metadata (setup.py) ... \u001b[?25l\u001b[?25hdone\n",
            "Collecting efficientnet-pytorch==0.7.1\n",
            "  Downloading efficientnet_pytorch-0.7.1.tar.gz (21 kB)\n",
            "  Preparing metadata (setup.py) ... \u001b[?25l\u001b[?25hdone\n",
            "Requirement already satisfied: torchvision>=0.5.0 in /usr/local/lib/python3.9/dist-packages (from segmentation_models_pytorch) (0.15.1+cu118)\n",
            "Requirement already satisfied: pillow in /usr/local/lib/python3.9/dist-packages (from segmentation_models_pytorch) (8.4.0)\n",
            "Collecting timm==0.6.12\n",
            "  Downloading timm-0.6.12-py3-none-any.whl (549 kB)\n",
            "\u001b[2K     \u001b[90m━━━━━━━━━━━━━━━━━━━━━━━━━━━━━━━━━━━━━━\u001b[0m \u001b[32m549.1/549.1 KB\u001b[0m \u001b[31m14.8 MB/s\u001b[0m eta \u001b[36m0:00:00\u001b[0m\n",
            "\u001b[?25hRequirement already satisfied: tqdm in /usr/local/lib/python3.9/dist-packages (from segmentation_models_pytorch) (4.65.0)\n",
            "Requirement already satisfied: torch in /usr/local/lib/python3.9/dist-packages (from efficientnet-pytorch==0.7.1->segmentation_models_pytorch) (2.0.0+cu118)\n",
            "Collecting munch\n",
            "  Downloading munch-2.5.0-py2.py3-none-any.whl (10 kB)\n",
            "Collecting huggingface-hub\n",
            "  Downloading huggingface_hub-0.13.4-py3-none-any.whl (200 kB)\n",
            "\u001b[2K     \u001b[90m━━━━━━━━━━━━━━━━━━━━━━━━━━━━━━━━━━━━━━\u001b[0m \u001b[32m200.1/200.1 KB\u001b[0m \u001b[31m23.2 MB/s\u001b[0m eta \u001b[36m0:00:00\u001b[0m\n",
            "\u001b[?25hRequirement already satisfied: pyyaml in /usr/local/lib/python3.9/dist-packages (from timm==0.6.12->segmentation_models_pytorch) (6.0)\n",
            "Requirement already satisfied: numpy in /usr/local/lib/python3.9/dist-packages (from torchvision>=0.5.0->segmentation_models_pytorch) (1.22.4)\n",
            "Requirement already satisfied: requests in /usr/local/lib/python3.9/dist-packages (from torchvision>=0.5.0->segmentation_models_pytorch) (2.27.1)\n",
            "Requirement already satisfied: jinja2 in /usr/local/lib/python3.9/dist-packages (from torch->efficientnet-pytorch==0.7.1->segmentation_models_pytorch) (3.1.2)\n",
            "Requirement already satisfied: sympy in /usr/local/lib/python3.9/dist-packages (from torch->efficientnet-pytorch==0.7.1->segmentation_models_pytorch) (1.11.1)\n",
            "Requirement already satisfied: filelock in /usr/local/lib/python3.9/dist-packages (from torch->efficientnet-pytorch==0.7.1->segmentation_models_pytorch) (3.10.7)\n",
            "Requirement already satisfied: typing-extensions in /usr/local/lib/python3.9/dist-packages (from torch->efficientnet-pytorch==0.7.1->segmentation_models_pytorch) (4.5.0)\n",
            "Requirement already satisfied: triton==2.0.0 in /usr/local/lib/python3.9/dist-packages (from torch->efficientnet-pytorch==0.7.1->segmentation_models_pytorch) (2.0.0)\n",
            "Requirement already satisfied: networkx in /usr/local/lib/python3.9/dist-packages (from torch->efficientnet-pytorch==0.7.1->segmentation_models_pytorch) (3.0)\n",
            "Requirement already satisfied: cmake in /usr/local/lib/python3.9/dist-packages (from triton==2.0.0->torch->efficientnet-pytorch==0.7.1->segmentation_models_pytorch) (3.25.2)\n",
            "Requirement already satisfied: lit in /usr/local/lib/python3.9/dist-packages (from triton==2.0.0->torch->efficientnet-pytorch==0.7.1->segmentation_models_pytorch) (16.0.0)\n",
            "Requirement already satisfied: packaging>=20.9 in /usr/local/lib/python3.9/dist-packages (from huggingface-hub->timm==0.6.12->segmentation_models_pytorch) (23.0)\n",
            "Requirement already satisfied: six in /usr/local/lib/python3.9/dist-packages (from munch->pretrainedmodels==0.7.4->segmentation_models_pytorch) (1.16.0)\n",
            "Requirement already satisfied: charset-normalizer~=2.0.0 in /usr/local/lib/python3.9/dist-packages (from requests->torchvision>=0.5.0->segmentation_models_pytorch) (2.0.12)\n",
            "Requirement already satisfied: idna<4,>=2.5 in /usr/local/lib/python3.9/dist-packages (from requests->torchvision>=0.5.0->segmentation_models_pytorch) (3.4)\n",
            "Requirement already satisfied: certifi>=2017.4.17 in /usr/local/lib/python3.9/dist-packages (from requests->torchvision>=0.5.0->segmentation_models_pytorch) (2022.12.7)\n",
            "Requirement already satisfied: urllib3<1.27,>=1.21.1 in /usr/local/lib/python3.9/dist-packages (from requests->torchvision>=0.5.0->segmentation_models_pytorch) (1.26.15)\n",
            "Requirement already satisfied: MarkupSafe>=2.0 in /usr/local/lib/python3.9/dist-packages (from jinja2->torch->efficientnet-pytorch==0.7.1->segmentation_models_pytorch) (2.1.2)\n",
            "Requirement already satisfied: mpmath>=0.19 in /usr/local/lib/python3.9/dist-packages (from sympy->torch->efficientnet-pytorch==0.7.1->segmentation_models_pytorch) (1.3.0)\n",
            "Building wheels for collected packages: efficientnet-pytorch, pretrainedmodels\n",
            "  Building wheel for efficientnet-pytorch (setup.py) ... \u001b[?25l\u001b[?25hdone\n",
            "  Created wheel for efficientnet-pytorch: filename=efficientnet_pytorch-0.7.1-py3-none-any.whl size=16444 sha256=1ac144ff318b302cac87411ffeefc7f57cf2e0140aa558898a8f132d85cdd7a4\n",
            "  Stored in directory: /root/.cache/pip/wheels/29/16/24/752e89d88d333af39a288421e64d613b5f652918e39ef1f8e3\n",
            "  Building wheel for pretrainedmodels (setup.py) ... \u001b[?25l\u001b[?25hdone\n",
            "  Created wheel for pretrainedmodels: filename=pretrainedmodels-0.7.4-py3-none-any.whl size=60962 sha256=7ed7e22f217c78bb3b6dcaf7040331a053f13660a61a883e25bf709c41650a0f\n",
            "  Stored in directory: /root/.cache/pip/wheels/d1/3b/4e/2f3015f1ab76f34be28e04c4bcee27e8cabfa70d2eadf8bc3b\n",
            "Successfully built efficientnet-pytorch pretrainedmodels\n",
            "Installing collected packages: munch, huggingface-hub, timm, pretrainedmodels, efficientnet-pytorch, segmentation_models_pytorch\n",
            "Successfully installed efficientnet-pytorch-0.7.1 huggingface-hub-0.13.4 munch-2.5.0 pretrainedmodels-0.7.4 segmentation_models_pytorch-0.3.2 timm-0.6.12\n",
            "Looking in indexes: https://pypi.org/simple, https://us-python.pkg.dev/colab-wheels/public/simple/\n",
            "Collecting torchmetrics\n",
            "  Downloading torchmetrics-0.11.4-py3-none-any.whl (519 kB)\n",
            "\u001b[2K     \u001b[90m━━━━━━━━━━━━━━━━━━━━━━━━━━━━━━━━━━━━━━━\u001b[0m \u001b[32m519.2/519.2 KB\u001b[0m \u001b[31m8.7 MB/s\u001b[0m eta \u001b[36m0:00:00\u001b[0m\n",
            "\u001b[?25hRequirement already satisfied: packaging in /usr/local/lib/python3.9/dist-packages (from torchmetrics) (23.0)\n",
            "Requirement already satisfied: torch>=1.8.1 in /usr/local/lib/python3.9/dist-packages (from torchmetrics) (2.0.0+cu118)\n",
            "Requirement already satisfied: numpy>=1.17.2 in /usr/local/lib/python3.9/dist-packages (from torchmetrics) (1.22.4)\n",
            "Requirement already satisfied: triton==2.0.0 in /usr/local/lib/python3.9/dist-packages (from torch>=1.8.1->torchmetrics) (2.0.0)\n",
            "Requirement already satisfied: sympy in /usr/local/lib/python3.9/dist-packages (from torch>=1.8.1->torchmetrics) (1.11.1)\n",
            "Requirement already satisfied: networkx in /usr/local/lib/python3.9/dist-packages (from torch>=1.8.1->torchmetrics) (3.0)\n",
            "Requirement already satisfied: jinja2 in /usr/local/lib/python3.9/dist-packages (from torch>=1.8.1->torchmetrics) (3.1.2)\n",
            "Requirement already satisfied: typing-extensions in /usr/local/lib/python3.9/dist-packages (from torch>=1.8.1->torchmetrics) (4.5.0)\n",
            "Requirement already satisfied: filelock in /usr/local/lib/python3.9/dist-packages (from torch>=1.8.1->torchmetrics) (3.10.7)\n",
            "Requirement already satisfied: lit in /usr/local/lib/python3.9/dist-packages (from triton==2.0.0->torch>=1.8.1->torchmetrics) (16.0.0)\n",
            "Requirement already satisfied: cmake in /usr/local/lib/python3.9/dist-packages (from triton==2.0.0->torch>=1.8.1->torchmetrics) (3.25.2)\n",
            "Requirement already satisfied: MarkupSafe>=2.0 in /usr/local/lib/python3.9/dist-packages (from jinja2->torch>=1.8.1->torchmetrics) (2.1.2)\n",
            "Requirement already satisfied: mpmath>=0.19 in /usr/local/lib/python3.9/dist-packages (from sympy->torch>=1.8.1->torchmetrics) (1.3.0)\n",
            "Installing collected packages: torchmetrics\n",
            "Successfully installed torchmetrics-0.11.4\n"
          ]
        }
      ]
    },
    {
      "cell_type": "code",
      "source": [
        "from collections import namedtuple\n",
        "import os\n",
        "import numpy as np\n",
        "import cv2\n",
        "import torch\n",
        "import torch.nn as nn\n",
        "import torch.nn.functional as F\n",
        "import torchvision\n",
        "import torchvision.io as tv\n",
        "import torchvision.transforms as transf\n",
        "import torch.utils.data\n",
        "from torch.utils.data import DataLoader\n",
        "from matplotlib import pyplot as plt\n",
        "from torch.optim import Adam\n",
        "from tqdm import tqdm\n",
        "import segmentation_models_pytorch as smp\n",
        "import torchmetrics\n",
        "from torch.optim.lr_scheduler import ReduceLROnPlateau"
      ],
      "metadata": {
        "id": "Oc0HDZhxdvqS"
      },
      "execution_count": null,
      "outputs": []
    },
    {
      "cell_type": "code",
      "source": [
        "# For reproducibility\n",
        "torch.manual_seed(100)\n",
        "if torch.cuda.is_available():\n",
        "    torch.cuda.manual_seed(100)\n",
        "    torch.backends.cudnn.deterministic = True\n",
        "    torch.backends.cudnn.benchmark = False\n",
        "\n",
        "#################################################################################################################################\n",
        "# Label nemedtuple\n",
        "# taken from Dataset offical Github: https://github.com/mcordts/cityscapesScripts/blob/master/cityscapesscripts/helpers/labels.py\n",
        "#################################################################################################################################\n",
        "Label = namedtuple( 'Label' , [\n",
        "\n",
        "    'name'        , # The identifier of this label, e.g. 'car', 'person', ... .\n",
        "                    # We use them to uniquely name a class\n",
        "\n",
        "    'id'          , # An integer ID that is associated with this label.\n",
        "                    # The IDs are used to represent the label in ground truth images\n",
        "                    # An ID of -1 means that this label does not have an ID and thus\n",
        "                    # is ignored when creating ground truth images (e.g. license plate).\n",
        "                    # Do not modify these IDs, since exactly these IDs are expected by the\n",
        "                    # evaluation server.\n",
        "\n",
        "    'trainId'     , # Feel free to modify these IDs as suitable for your method. Then create\n",
        "                    # ground truth images with train IDs, using the tools provided in the\n",
        "                    # 'preparation' folder. However, make sure to validate or submit results\n",
        "                    # to our evaluation server using the regular IDs above!\n",
        "                    # For trainIds, multiple labels might have the same ID. Then, these labels\n",
        "                    # are mapped to the same class in the ground truth images. For the inverse\n",
        "                    # mapping, we use the label that is defined first in the list below.\n",
        "                    # For example, mapping all void-type classes to the same ID in training,\n",
        "                    # might make sense for some approaches.\n",
        "                    # Max value is 255!\n",
        "\n",
        "    'category'    , # The name of the category that this label belongs to\n",
        "\n",
        "    'categoryId'  , # The ID of this category. Used to create ground truth images\n",
        "                    # on category level.\n",
        "\n",
        "    'hasInstances', # Whether this label distinguishes between single instances or not\n",
        "\n",
        "    'ignoreInEval', # Whether pixels having this class as ground truth label are ignored\n",
        "                    # during evaluations or not\n",
        "\n",
        "    'color'       , # The color of this label\n",
        "    ] )\n",
        "\n",
        "labels = [\n",
        "    #       name                     id    trainId   category            catId     hasInstances   ignoreInEval   color\n",
        "    Label(  'unlabeled'            ,  0 ,      0 , 'void'            , 0       , False        , True         , (  0,  0,  0) ),\n",
        "    Label(  'ego vehicle'          ,  1 ,      0 , 'void'            , 0       , False        , True         , (  0,  0,  0) ),\n",
        "    Label(  'rectification border' ,  2 ,      0 , 'void'            , 0       , False        , True         , (  0,  0,  0) ),\n",
        "    Label(  'out of roi'           ,  3 ,      0 , 'void'            , 0       , False        , True         , (  0,  0,  0) ),\n",
        "    Label(  'static'               ,  4 ,      0 , 'void'            , 0       , False        , True         , (  0,  0,  0) ),\n",
        "    Label(  'dynamic'              ,  5 ,      0 , 'void'            , 0       , False        , True         , (111, 74,  0) ),\n",
        "    Label(  'ground'               ,  6 ,      0 , 'void'            , 0       , False        , True         , ( 81,  0, 81) ),\n",
        "    Label(  'road'                 ,  7 ,      1 , 'flat'            , 1       , False        , False        , (128, 64,128) ),\n",
        "    Label(  'sidewalk'             ,  8 ,      2 , 'flat'            , 1       , False        , False        , (244, 35,232) ),\n",
        "    Label(  'parking'              ,  9 ,      0 , 'flat'            , 1       , False        , True         , (250,170,160) ),\n",
        "    Label(  'rail track'           , 10 ,      0 , 'flat'            , 1       , False        , True         , (230,150,140) ),\n",
        "    Label(  'building'             , 11 ,      3 , 'construction'    , 2       , False        , False        , ( 70, 70, 70) ),\n",
        "    Label(  'wall'                 , 12 ,      4 , 'construction'    , 2       , False        , False        , (102,102,156) ),\n",
        "    Label(  'fence'                , 13 ,      5 , 'construction'    , 2       , False        , False        , (190,153,153) ),\n",
        "    Label(  'guard rail'           , 14 ,      0 , 'construction'    , 2       , False        , True         , (180,165,180) ),\n",
        "    Label(  'bridge'               , 15 ,      0 , 'construction'    , 2       , False        , True         , (150,100,100) ),\n",
        "    Label(  'tunnel'               , 16 ,      0 , 'construction'    , 2       , False        , True         , (150,120, 90) ),\n",
        "    Label(  'pole'                 , 17 ,      6 , 'object'          , 3       , False        , False        , (153,153,153) ),\n",
        "    Label(  'polegroup'            , 18 ,      0 , 'object'          , 3       , False        , True         , (153,153,153) ),\n",
        "    Label(  'traffic light'        , 19 ,      7 , 'object'          , 3       , False        , False        , (250,170, 30) ),\n",
        "    Label(  'traffic sign'         , 20 ,      8 , 'object'          , 3       , False        , False        , (220,220,  0) ),\n",
        "    Label(  'vegetation'           , 21 ,      9 , 'nature'          , 4       , False        , False        , (107,142, 35) ),\n",
        "    Label(  'terrain'              , 22 ,     10 , 'nature'          , 4       , False        , False        , (152,251,152) ),\n",
        "    Label(  'sky'                  , 23 ,     11 , 'sky'             , 5       , False        , False        , ( 70,130,180) ),\n",
        "    Label(  'person'               , 24 ,     12 , 'human'           , 6       , True         , False        , (220, 20, 60) ),\n",
        "    Label(  'rider'                , 25 ,     13 , 'human'           , 6       , True         , False        , (255,  0,  0) ),\n",
        "    Label(  'car'                  , 26 ,     14 , 'vehicle'         , 7       , True         , False        , (  0,  0,142) ),\n",
        "    Label(  'truck'                , 27 ,     15 , 'vehicle'         , 7       , True         , False        , (  0,  0, 70) ),\n",
        "    Label(  'bus'                  , 28 ,     16 , 'vehicle'         , 7       , True         , False        , (  0, 60,100) ),\n",
        "    Label(  'caravan'              , 29 ,      0 , 'vehicle'         , 7       , True         , True         , (  0,  0, 90) ),\n",
        "    Label(  'trailer'              , 30 ,      0 , 'vehicle'         , 7       , True         , True         , (  0,  0,110) ),\n",
        "    Label(  'train'                , 31 ,     17 , 'vehicle'         , 7       , True         , False        , (  0, 80,100) ),\n",
        "    Label(  'motorcycle'           , 32 ,     18 , 'vehicle'         , 7       , True         , False        , (  0,  0,230) ),\n",
        "    Label(  'bicycle'              , 33 ,     19 , 'vehicle'         , 7       , True         , False        , (119, 11, 32) ),\n",
        "    Label(  'license plate'        , -1 ,      0 , 'vehicle'         , 7       , False        , True         , (  0,  0,142) ),\n",
        "]\n",
        "\n",
        "#################################################################################################################################\n",
        "# Define custom Train and Validation set classes\n",
        "# This assusmes that you have downloaded the Cityscpes dataset, and placed the masks with your training IDs in the meta folder\n",
        "# Method inspired from: https://github.com/fregu856/deeplabv3/blob/master/datasets.py\n",
        "#################################################################################################################################\n",
        "train_dirs = [\"jena/\", \"zurich/\", \"weimar/\", \"ulm/\", \"tubingen/\", \"stuttgart/\",\n",
        "              \"strasbourg/\", \"monchengladbach/\", \"krefeld/\", \"hanover/\",\n",
        "              \"hamburg/\", \"erfurt/\", \"dusseldorf/\", \"darmstadt/\", \"cologne/\",\n",
        "              \"bremen/\"]\n",
        "val_dirs = [\"frankfurt/\", \"munster/\", \"lindau/\"]\n",
        "test_dirs = [\"bochum/\", \"aachen/\"]\n",
        "\n",
        "cityscapes_data_path = '../content/drive/MyDrive/Cityscapes_data'\n",
        "cityscapes_meta_path = '../content/drive/MyDrive/Cityscapes_data/meta'\n",
        "\n",
        "class DatasetTrain(torch.utils.data.Dataset):\n",
        "  def __init__(self, cityscapes_data_path, cityscapes_meta_path):\n",
        "    self.img_dir = cityscapes_data_path + \"/leftImg8bit/train/\"\n",
        "    self.label_dir = cityscapes_meta_path + \"/label_imgs/\"\n",
        "\n",
        "    self.examples = []\n",
        "\n",
        "    for train_dir in train_dirs:\n",
        "      train_img_dir_path = self.img_dir + train_dir\n",
        "\n",
        "      file_names = os.listdir(train_img_dir_path)\n",
        "      for file_name in file_names:\n",
        "        img_id = file_name.split(\"_leftImg8bit.png\")[0]\n",
        "        img_path = train_img_dir_path + file_name\n",
        "        label_img_path = self.label_dir + img_id + \".png\"\n",
        "\n",
        "        example = {}\n",
        "        example[\"img_path\"] = img_path\n",
        "        example[\"label_img_path\"] = label_img_path\n",
        "        example[\"img_id\"] = img_id\n",
        "        self.examples.append(example)\n",
        "\n",
        "    self.num_examples = len(self.examples)\n",
        "\n",
        "  def __len__(self):\n",
        "    return self.num_examples\n",
        "\n",
        "  def __getitem__(self, index):\n",
        "    example = self.examples[index]\n",
        "\n",
        "    img_path = example[\"img_path\"]\n",
        "    transform = transf.Resize((256,512), antialias=True)\n",
        "    img = tv.read_image(img_path)\n",
        "    img = transform(img)\n",
        "    img = img.to(torch.float32) / 255.0\n",
        "\n",
        "    label_img_path = example[\"label_img_path\"]\n",
        "    label_img = tv.read_image(label_img_path)\n",
        "    label_img = transform(label_img)\n",
        "    label_img = label_img.to(torch.float32)\n",
        "\n",
        "    return (img, label_img)\n",
        "\n",
        "class DatasetVal(torch.utils.data.Dataset):\n",
        "  def __init__(self, cityscapes_data_path, cityscapes_meta_path):\n",
        "    self.img_dir = cityscapes_data_path + \"/leftImg8bit/val/\"\n",
        "    self.label_dir = cityscapes_meta_path + \"/label_imgs/\"\n",
        "\n",
        "    self.examples = []\n",
        "\n",
        "    for val_dir in val_dirs:\n",
        "      val_img_dir_path = self.img_dir + val_dir\n",
        "\n",
        "      file_names = os.listdir(val_img_dir_path)\n",
        "      for file_name in file_names:\n",
        "        img_id = file_name.split(\"_leftImg8bit.png\")[0]\n",
        "        img_path = val_img_dir_path + file_name\n",
        "        label_img_path = self.label_dir + img_id + \".png\"\n",
        "\n",
        "        example = {}\n",
        "        example[\"img_path\"] = img_path\n",
        "        example[\"label_img_path\"] = label_img_path\n",
        "        example[\"img_id\"] = img_id\n",
        "        self.examples.append(example)\n",
        "\n",
        "    self.num_examples = len(self.examples)\n",
        "\n",
        "  def __len__(self):\n",
        "    return self.num_examples\n",
        "\n",
        "  def __getitem__(self, index):\n",
        "    example = self.examples[index]\n",
        "\n",
        "    img_path = example[\"img_path\"]\n",
        "    \n",
        "    transform = transf.Resize((256,512), antialias=True)\n",
        "    img = tv.read_image(img_path)\n",
        "    img = transform(img)\n",
        "    img = img.to(torch.float32) / 255.0\n",
        "\n",
        "    label_img_path = example[\"label_img_path\"]\n",
        "    label_img = tv.read_image(label_img_path)\n",
        "    label_img = transform(label_img)\n",
        "    label_img = label_img.to(torch.float32)\n",
        "\n",
        "    return (img, label_img)\n",
        "\n",
        "train_dataset = DatasetTrain(cityscapes_data_path=cityscapes_data_path,\n",
        "                             cityscapes_meta_path=cityscapes_meta_path)\n",
        "\n",
        "val_dataset = DatasetVal(cityscapes_data_path=cityscapes_data_path,\n",
        "                         cityscapes_meta_path=cityscapes_meta_path)\n",
        "\n",
        "#################################################################################################################################\n",
        "# Define UNET\n",
        "#################################################################################################################################\n",
        "class DoubleConv(nn.Module):\n",
        "  def __init__(self, in_channels, out_channels):\n",
        "    super(DoubleConv, self).__init__()\n",
        "    self.conv = nn.Sequential(\n",
        "      nn.Conv2d(in_channels, out_channels, kernel_size=3, stride=1, padding=1, bias=False),\n",
        "      nn.BatchNorm2d(out_channels),\n",
        "      nn.ReLU(inplace=True),\n",
        "      nn.Conv2d(out_channels, out_channels, kernel_size=3, stride=1, padding=1, bias=False),\n",
        "      nn.BatchNorm2d(out_channels),\n",
        "      nn.ReLU(inplace=True),\n",
        "      )\n",
        "    \n",
        "  def forward(self, x):\n",
        "    return self.conv(x)\n",
        "\n",
        "class UNet(nn.Module):\n",
        "  def __init__(self, in_channels, out_channels, inter_channels=[64, 128, 256, 512]):\n",
        "    super(UNet, self).__init__()\n",
        "    self.pool = nn.MaxPool2d(kernel_size=2, stride=2, padding=0)\n",
        "\n",
        "    # Encoder - Contracting path (down path)\n",
        "    self.e1 = DoubleConv(in_channels, inter_channels[0])\n",
        "    self.e2 = DoubleConv(inter_channels[0], inter_channels[1])\n",
        "    self.e3 = DoubleConv(inter_channels[1], inter_channels[2])\n",
        "    self.e4 = DoubleConv(inter_channels[2], inter_channels[3])\n",
        "\n",
        "    # Bottom part of the network\n",
        "    self.bottom = DoubleConv(inter_channels[-1], inter_channels[-1]*2)\n",
        "\n",
        "    # Decoder - Expansive path (up path)\n",
        "    rev_channels = inter_channels[::-1]\n",
        "    self.d4_T = nn.ConvTranspose2d(rev_channels[0]*2, rev_channels[0], kernel_size=2, stride=2, padding=0)\n",
        "    self.d4_C = DoubleConv(rev_channels[0]*2, rev_channels[0])\n",
        "    self.d3_T = nn.ConvTranspose2d(rev_channels[0], rev_channels[1], kernel_size=2, stride=2, padding=0)\n",
        "    self.d3_C = DoubleConv(rev_channels[0], rev_channels[1])\n",
        "    self.d2_T = nn.ConvTranspose2d(rev_channels[1], rev_channels[2], kernel_size=2, stride=2, padding=0)\n",
        "    self.d2_C = DoubleConv(rev_channels[1], rev_channels[2])\n",
        "    self.d1_T = nn.ConvTranspose2d(rev_channels[2], rev_channels[3], kernel_size=2, stride=2, padding=0)\n",
        "    self.d1_C = DoubleConv(rev_channels[2], rev_channels[3])\n",
        "\n",
        "    # Final convolution\n",
        "    self.output = nn.Conv2d(rev_channels[3], out_channels, kernel_size=1)\n",
        "    self.softmax = nn.Softmax(dim=1)\n",
        "\n",
        "  def forward(self, x):\n",
        "    x1 = self.e1(x)\n",
        "    x = self.pool(x1)\n",
        "    x2 = self.e2(x)\n",
        "    x = self.pool(x2)\n",
        "    x3 = self.e3(x)\n",
        "    x = self.pool(x3)\n",
        "    x4 = self.e4(x)\n",
        "    x = self.pool(x4)\n",
        "    x_bottom = self.bottom(x)\n",
        "    x = self.d4_T(x_bottom)\n",
        "    x = torch.cat((x4, x), dim=1)\n",
        "    x = self.d4_C(x)\n",
        "    x = self.d3_T(x)\n",
        "    x = torch.cat((x3, x), dim=1)\n",
        "    x = self.d3_C(x)\n",
        "    x = self.d2_T(x)\n",
        "    x = torch.cat((x2, x), dim=1)\n",
        "    x = self.d2_C(x)\n",
        "    x = self.d1_T(x)\n",
        "    x = torch.cat((x1, x), dim=1)\n",
        "    x = self.d1_C(x)\n",
        "    x = self.output(x)\n",
        "    return x\n",
        "\n",
        "#################################################################################################################################\n",
        "# Define data loader, load model, hyper-parameters and metrics\n",
        "#################################################################################################################################\n",
        "train_loader = DataLoader(train_dataset, batch_size=16, shuffle=True)\n",
        "val_loader = DataLoader(val_dataset, batch_size=16, shuffle=False)\n",
        "\n",
        "device = 'cuda' if torch.cuda.is_available() else 'cpu'\n",
        "\n",
        "# model\n",
        "model = UNet(3, 20, [64, 128, 256, 512]).to(device)\n",
        "# Loss Function\n",
        "n_classes = 20\n",
        "loss_fn = nn.CrossEntropyLoss()\n",
        "# Optimizer\n",
        "optimizer = torch.optim.AdamW(model.parameters(), lr=0.01)\n",
        "scheduler = ReduceLROnPlateau(optimizer, mode='min', factor=0.5, patience=3, min_lr= 0.00125, verbose=True)\n",
        "lr = []\n",
        "\n",
        "jaccard_micro = torchmetrics.JaccardIndex(task=\"multiclass\", num_classes=20, average=\"micro\").to(device)\n",
        "jaccard_macro = torchmetrics.JaccardIndex(task=\"multiclass\", num_classes=20, average=\"macro\").to(device)\n",
        "jaccard_weighted = torchmetrics.JaccardIndex(task=\"multiclass\", num_classes=20, average=\"weighted\").to(device)\n",
        "jaccard_none = torchmetrics.JaccardIndex(task=\"multiclass\", num_classes=20, average=None).to(device)\n",
        "\n",
        "epochs = 50\n",
        "\n",
        "len_train = len(train_loader)\n",
        "len_val = len(val_loader)\n",
        "\n",
        "train_loss_per_epoch_avg = []\n",
        "train_jaccard_micro_per_epoch_avg = []\n",
        "train_jaccard_macro_per_epoch_avg = []\n",
        "train_jaccard_weighted_per_epoch_avg = []\n",
        "train_jaccard_none_per_epoch_avg = []\n",
        "\n",
        "val_loss_per_epoch_avg = []\n",
        "val_jaccard_micro_per_epoch_avg = []\n",
        "val_jaccard_macro_per_epoch_avg = []\n",
        "val_jaccard_weighted_per_epoch_avg = []\n",
        "val_jaccard_none_per_epoch_avg = []\n",
        "\n",
        "best_val_loss = float('inf')\n",
        "\n",
        "folder_path = \"/content/drive/MyDrive/Cityscapes_data/256x512_4_batches/unet/\"\n",
        "\n",
        "#################################################################################################################################\n",
        "# Training and validation loops\n",
        "#################################################################################################################################\n",
        "for e in range(epochs):\n",
        "  train_loss_total = 0\n",
        "  train_jaccard_micro_total=0\n",
        "  train_jaccard_macro_total=0\n",
        "  train_jaccard_weighted_total=0\n",
        "  train_jaccard_none_total=0\n",
        "\n",
        "  val_loss_total = 0\n",
        "  val_jaccard_micro_total=0\n",
        "  val_jaccard_macro_total=0\n",
        "  val_jaccard_weighted_total=0\n",
        "  val_jaccard_none_total=0\n",
        "\n",
        "  model.train()\n",
        "\n",
        "  print(\"Epoch: {}\".format(e+1))\n",
        "\n",
        "  # training\n",
        "  for batch, (image, label) in enumerate(tqdm(train_loader)):\n",
        "    optimizer.zero_grad()\n",
        "    image = image.to(device)\n",
        "    label = label.to(device)\n",
        "    output = model(image)\n",
        "\n",
        "    loss = loss_fn(output.to(torch.float32), torch.squeeze(label, 1).long())\n",
        "    loss.backward()\n",
        "    optimizer.step()\n",
        "    train_loss_total += loss.item()\n",
        "\n",
        "    x = torch.softmax(output, dim=1)\n",
        "    index = torch.argmax(x, dim=1)\n",
        "    y = torch.unsqueeze(index, dim=1)\n",
        "    train_jaccard_micro_total += jaccard_micro(y, label)\n",
        "    train_jaccard_macro_total += jaccard_macro(y, label)\n",
        "    train_jaccard_weighted_total += jaccard_weighted(y, label)\n",
        "    train_jaccard_none_total += jaccard_none(y, label)\n",
        "    \n",
        "  train_loss_per_epoch_avg.append(train_loss_total/len_train)\n",
        "  print(\"Epoch: {}, Average train loss per epoch: {}\".format(e+1, train_loss_per_epoch_avg[e]))\n",
        "  train_jaccard_micro_per_epoch_avg.append(train_jaccard_micro_total/len_train)\n",
        "  print(\"Epoch: {}, Average train jaccard_micro coeff per epoch: {}\".format(e+1, train_jaccard_micro_per_epoch_avg[e]))\n",
        "  train_jaccard_macro_per_epoch_avg.append(train_jaccard_macro_total/len_train)\n",
        "  print(\"Epoch: {}, Average train jaccard_macro coeff per epoch: {}\".format(e+1, train_jaccard_macro_per_epoch_avg[e]))\n",
        "  train_jaccard_weighted_per_epoch_avg.append(train_jaccard_weighted_total/len_train)\n",
        "  print(\"Epoch: {}, Average train jaccard_weighted coeff per epoch: {}\".format(e+1, train_jaccard_weighted_per_epoch_avg[e]))\n",
        "  train_jaccard_none_per_epoch_avg.append(train_jaccard_none_total/len_train)\n",
        "  print(\"Epoch: {}, Average train jaccard_none coeff per epoch: {}\".format(e+1, train_jaccard_none_per_epoch_avg[e]))\n",
        "\n",
        "  train_loss_total = 0\n",
        "  train_jaccard_micro_total = 0\n",
        "  train_jaccard_macro_total = 0\n",
        "  train_jaccard_weighted_total = 0\n",
        "  train_jaccard_none_total = 0\n",
        "\n",
        "  torch.save(model, folder_path + \"city_unet.pth\")\n",
        "  file = open(folder_path + 'train_loss.txt','w')\n",
        "  for item in train_loss_per_epoch_avg:\n",
        "\t  file.write(str(item)+\"\\n\")\n",
        "  file.close()\n",
        "\n",
        "  torch.save(train_jaccard_micro_per_epoch_avg, folder_path + \"train_jaccard_micro_per_epoch_avg.pth\")\n",
        "  torch.save(train_jaccard_macro_per_epoch_avg, folder_path + \"train_jaccard_macro_per_epoch_avg.pth\")\n",
        "  torch.save(train_jaccard_weighted_per_epoch_avg, folder_path + \"train_jaccard_weighted_per_epoch_avg.pth\")\n",
        "  torch.save(train_jaccard_none_per_epoch_avg, folder_path + \"train_jaccard_none_per_epoch_avg.pth\")\n",
        "\n",
        "\n",
        "  # validating\n",
        "  with torch.no_grad():\n",
        "    model.eval()\n",
        "    for batch, (image, label) in enumerate(tqdm(val_loader)):\n",
        "      image = image.to(device)\n",
        "      label = label.to(device)\n",
        "      output = model(image)\n",
        "\n",
        "      loss = loss_fn(output.to(torch.float32), torch.squeeze(label, 1).long())\n",
        "      val_loss_total += loss.item()\n",
        "\n",
        "      x = torch.softmax(output, dim=1)\n",
        "      index = torch.argmax(x, dim=1)\n",
        "      y = torch.unsqueeze(index, dim=1)\n",
        "      val_jaccard_micro_total += jaccard_micro(y, label)\n",
        "      val_jaccard_macro_total += jaccard_macro(y, label)\n",
        "      val_jaccard_weighted_total += jaccard_weighted(y, label)\n",
        "      val_jaccard_none_total += jaccard_none(y, label)\n",
        "\n",
        "  scheduler.step(val_loss_total)\n",
        "  print('epoch={}, learning rate={:.4f}'.format(e, optimizer.state_dict()['param_groups'][0]['lr']))\n",
        "  lr.append(optimizer.state_dict()['param_groups'][0]['lr'])\n",
        "\n",
        "  if val_loss_total < best_val_loss:\n",
        "    torch.save(model.state_dict(), folder_path + 'best_weights.pth')\n",
        "    best_val_loss = val_loss_total\n",
        "\n",
        "  val_loss_per_epoch_avg.append(val_loss_total/len_val)\n",
        "  print(\"Epoch: {}, Average val loss per epoch: {}\".format(e+1, val_loss_per_epoch_avg[e]))\n",
        "  val_jaccard_micro_per_epoch_avg.append(val_jaccard_micro_total/len_val)\n",
        "  print(\"Epoch: {}, Average val jaccard_micro coeff per epoch: {}\".format(e+1, val_jaccard_micro_per_epoch_avg[e]))\n",
        "  val_jaccard_macro_per_epoch_avg.append(val_jaccard_macro_total/len_val)\n",
        "  print(\"Epoch: {}, Average val jaccard_macro coeff per epoch: {}\".format(e+1, val_jaccard_macro_per_epoch_avg[e]))\n",
        "  val_jaccard_weighted_per_epoch_avg.append(val_jaccard_weighted_total/len_val)\n",
        "  print(\"Epoch: {}, Average val jaccard_weighted coeff per epoch: {}\".format(e+1, val_jaccard_weighted_per_epoch_avg[e]))\n",
        "  val_jaccard_none_per_epoch_avg.append(val_jaccard_none_total/len_val)\n",
        "  print(\"Epoch: {}, Average val jaccard_none coeff per epoch: {}\".format(e+1, val_jaccard_none_per_epoch_avg[e]))\n",
        "\n",
        "  val_loss_total = 0\n",
        "  val_jaccard_micro_total = 0\n",
        "  val_jaccard_macro_total = 0\n",
        "  val_jaccard_weighted_total = 0\n",
        "  val_jaccard_none_total = 0\n",
        "\n",
        "  file = open(folder_path + 'val_loss.txt','w')\n",
        "  for item in val_loss_per_epoch_avg:\n",
        "\t  file.write(str(item)+\"\\n\")\n",
        "  file.close()\n",
        "\n",
        "  file = open(folder_path + 'lr.txt','w')\n",
        "  for item in lr:\n",
        "\t  file.write(str(item)+\"\\n\")\n",
        "  file.close()\n",
        "\n",
        "  torch.save(val_jaccard_micro_per_epoch_avg, folder_path + \"val_jaccard_micro_per_epoch_avg.pth\")\n",
        "  torch.save(val_jaccard_macro_per_epoch_avg, folder_path + \"/val_jaccard_macro_per_epoch_avg.pth\")\n",
        "  torch.save(val_jaccard_weighted_per_epoch_avg, folder_path + \"/val_jaccard_weighted_per_epoch_avg.pth\")\n",
        "  torch.save(val_jaccard_none_per_epoch_avg, folder_path + \"/val_jaccard_none_per_epoch_avg.pth\")"
      ],
      "metadata": {
        "id": "Gpg6TNxtc5Hm",
        "colab": {
          "base_uri": "https://localhost:8080/"
        },
        "outputId": "38f24416-d057-420d-c8fe-85fd499e1fe1"
      },
      "execution_count": null,
      "outputs": [
        {
          "output_type": "stream",
          "name": "stdout",
          "text": [
            "Epoch: 1\n"
          ]
        },
        {
          "output_type": "stream",
          "name": "stderr",
          "text": [
            "100%|██████████| 170/170 [1:02:54<00:00, 22.20s/it]\n"
          ]
        },
        {
          "output_type": "stream",
          "name": "stdout",
          "text": [
            "Epoch: 1, Average train loss per epoch: 1.2029173440792982\n",
            "Epoch: 1, Average train jaccard_micro coeff per epoch: 0.4798462986946106\n",
            "Epoch: 1, Average train jaccard_macro coeff per epoch: 0.15607640147209167\n",
            "Epoch: 1, Average train jaccard_weighted coeff per epoch: 0.47236499190330505\n",
            "Epoch: 1, Average train jaccard_none coeff per epoch: tensor([3.6813e-01, 6.9308e-01, 6.7015e-02, 4.5904e-01, 9.0200e-06, 1.1032e-04,\n",
            "        1.9667e-02, 3.4255e-06, 1.8047e-02, 5.4322e-01, 1.0138e-01, 6.3553e-01,\n",
            "        2.5964e-04, 6.4108e-06, 2.1599e-01, 9.3503e-06, 6.7772e-06, 1.6211e-06,\n",
            "        4.2816e-06, 9.1543e-06], device='cuda:0')\n"
          ]
        },
        {
          "output_type": "stream",
          "name": "stderr",
          "text": [
            "100%|██████████| 32/32 [10:43<00:00, 20.12s/it]\n"
          ]
        },
        {
          "output_type": "stream",
          "name": "stdout",
          "text": [
            "epoch=0, learning rate=0.0100\n",
            "Epoch: 1, Average val loss per epoch: 1.2197827715426683\n",
            "Epoch: 1, Average val jaccard_micro coeff per epoch: 0.484040230512619\n",
            "Epoch: 1, Average val jaccard_macro coeff per epoch: 0.16365265846252441\n",
            "Epoch: 1, Average val jaccard_weighted coeff per epoch: 0.49467676877975464\n",
            "Epoch: 1, Average val jaccard_none coeff per epoch: tensor([0.3307, 0.7220, 0.1101, 0.5033, 0.0000, 0.0000, 0.0767, 0.0000, 0.0367,\n",
            "        0.5511, 0.1009, 0.5625, 0.0173, 0.0000, 0.2617, 0.0000, 0.0000, 0.0000,\n",
            "        0.0000, 0.0000], device='cuda:0')\n",
            "Epoch: 2\n"
          ]
        },
        {
          "output_type": "stream",
          "name": "stderr",
          "text": [
            "100%|██████████| 170/170 [09:00<00:00,  3.18s/it]\n"
          ]
        },
        {
          "output_type": "stream",
          "name": "stdout",
          "text": [
            "Epoch: 2, Average train loss per epoch: 0.8933468264691969\n",
            "Epoch: 2, Average train jaccard_micro coeff per epoch: 0.5892292261123657\n",
            "Epoch: 2, Average train jaccard_macro coeff per epoch: 0.22035305202007294\n",
            "Epoch: 2, Average train jaccard_weighted coeff per epoch: 0.592452883720398\n",
            "Epoch: 2, Average train jaccard_none coeff per epoch: tensor([4.9791e-01, 7.7515e-01, 2.3915e-01, 6.1318e-01, 0.0000e+00, 2.5891e-05,\n",
            "        6.7680e-02, 1.7836e-04, 6.7561e-02, 6.8579e-01, 2.5343e-01, 7.5421e-01,\n",
            "        1.7214e-02, 0.0000e+00, 4.3558e-01, 0.0000e+00, 0.0000e+00, 0.0000e+00,\n",
            "        0.0000e+00, 0.0000e+00], device='cuda:0')\n"
          ]
        },
        {
          "output_type": "stream",
          "name": "stderr",
          "text": [
            "100%|██████████| 32/32 [01:04<00:00,  2.01s/it]\n"
          ]
        },
        {
          "output_type": "stream",
          "name": "stdout",
          "text": [
            "epoch=1, learning rate=0.0100\n",
            "Epoch: 2, Average val loss per epoch: 1.0099973268806934\n",
            "Epoch: 2, Average val jaccard_micro coeff per epoch: 0.5545222759246826\n",
            "Epoch: 2, Average val jaccard_macro coeff per epoch: 0.20444345474243164\n",
            "Epoch: 2, Average val jaccard_weighted coeff per epoch: 0.5675517916679382\n",
            "Epoch: 2, Average val jaccard_none coeff per epoch: tensor([5.3204e-01, 7.5324e-01, 2.5713e-01, 5.4360e-01, 0.0000e+00, 4.0191e-05,\n",
            "        9.7809e-02, 1.3047e-03, 7.6301e-02, 6.3994e-01, 1.8732e-01, 5.9751e-01,\n",
            "        2.0152e-02, 0.0000e+00, 3.8248e-01, 0.0000e+00, 0.0000e+00, 0.0000e+00,\n",
            "        0.0000e+00, 0.0000e+00], device='cuda:0')\n",
            "Epoch: 3\n"
          ]
        },
        {
          "output_type": "stream",
          "name": "stderr",
          "text": [
            "100%|██████████| 170/170 [08:55<00:00,  3.15s/it]\n"
          ]
        },
        {
          "output_type": "stream",
          "name": "stdout",
          "text": [
            "Epoch: 3, Average train loss per epoch: 0.8105352457831888\n",
            "Epoch: 3, Average train jaccard_micro coeff per epoch: 0.623401939868927\n",
            "Epoch: 3, Average train jaccard_macro coeff per epoch: 0.23995940387248993\n",
            "Epoch: 3, Average train jaccard_weighted coeff per epoch: 0.6282346248626709\n",
            "Epoch: 3, Average train jaccard_none coeff per epoch: tensor([5.3213e-01, 8.0458e-01, 3.1648e-01, 6.4937e-01, 7.8896e-04, 9.4280e-05,\n",
            "        8.3418e-02, 6.7892e-04, 8.6820e-02, 7.1226e-01, 2.7069e-01, 7.7513e-01,\n",
            "        6.2118e-02, 0.0000e+00, 5.0463e-01, 0.0000e+00, 0.0000e+00, 0.0000e+00,\n",
            "        0.0000e+00, 0.0000e+00], device='cuda:0')\n"
          ]
        },
        {
          "output_type": "stream",
          "name": "stderr",
          "text": [
            "100%|██████████| 32/32 [01:04<00:00,  2.02s/it]\n"
          ]
        },
        {
          "output_type": "stream",
          "name": "stdout",
          "text": [
            "epoch=2, learning rate=0.0100\n",
            "Epoch: 3, Average val loss per epoch: 0.8637804891914129\n",
            "Epoch: 3, Average val jaccard_micro coeff per epoch: 0.6121078133583069\n",
            "Epoch: 3, Average val jaccard_macro coeff per epoch: 0.21891699731349945\n",
            "Epoch: 3, Average val jaccard_weighted coeff per epoch: 0.6168447732925415\n",
            "Epoch: 3, Average val jaccard_none coeff per epoch: tensor([5.5625e-01, 7.9009e-01, 2.8286e-01, 6.2969e-01, 1.2879e-03, 1.0476e-06,\n",
            "        1.0198e-01, 1.8989e-03, 6.7895e-02, 7.2846e-01, 1.4293e-01, 5.0096e-01,\n",
            "        7.9042e-02, 0.0000e+00, 4.9499e-01, 0.0000e+00, 0.0000e+00, 0.0000e+00,\n",
            "        0.0000e+00, 0.0000e+00], device='cuda:0')\n",
            "Epoch: 4\n"
          ]
        },
        {
          "output_type": "stream",
          "name": "stderr",
          "text": [
            "100%|██████████| 170/170 [08:55<00:00,  3.15s/it]\n"
          ]
        },
        {
          "output_type": "stream",
          "name": "stdout",
          "text": [
            "Epoch: 4, Average train loss per epoch: 0.7323270243756911\n",
            "Epoch: 4, Average train jaccard_micro coeff per epoch: 0.6549397110939026\n",
            "Epoch: 4, Average train jaccard_macro coeff per epoch: 0.2609257400035858\n",
            "Epoch: 4, Average train jaccard_weighted coeff per epoch: 0.6600624918937683\n",
            "Epoch: 4, Average train jaccard_none coeff per epoch: tensor([5.5752e-01, 8.3345e-01, 4.0709e-01, 6.7672e-01, 1.2160e-02, 1.7802e-03,\n",
            "        1.0001e-01, 3.4168e-03, 9.7318e-02, 7.3265e-01, 2.8076e-01, 8.0364e-01,\n",
            "        1.2484e-01, 0.0000e+00, 5.8675e-01, 0.0000e+00, 0.0000e+00, 0.0000e+00,\n",
            "        0.0000e+00, 4.0204e-04], device='cuda:0')\n"
          ]
        },
        {
          "output_type": "stream",
          "name": "stderr",
          "text": [
            "100%|██████████| 32/32 [01:04<00:00,  2.01s/it]\n"
          ]
        },
        {
          "output_type": "stream",
          "name": "stdout",
          "text": [
            "epoch=3, learning rate=0.0100\n",
            "Epoch: 4, Average val loss per epoch: 0.8668248578906059\n",
            "Epoch: 4, Average val jaccard_micro coeff per epoch: 0.6161191463470459\n",
            "Epoch: 4, Average val jaccard_macro coeff per epoch: 0.2351835072040558\n",
            "Epoch: 4, Average val jaccard_weighted coeff per epoch: 0.610871434211731\n",
            "Epoch: 4, Average val jaccard_none coeff per epoch: tensor([0.3599, 0.7700, 0.3656, 0.6293, 0.0029, 0.0040, 0.1166, 0.0024, 0.0786,\n",
            "        0.7696, 0.1913, 0.7232, 0.0930, 0.0000, 0.5959, 0.0000, 0.0000, 0.0000,\n",
            "        0.0000, 0.0015], device='cuda:0')\n",
            "Epoch: 5\n"
          ]
        },
        {
          "output_type": "stream",
          "name": "stderr",
          "text": [
            "100%|██████████| 170/170 [08:55<00:00,  3.15s/it]\n"
          ]
        },
        {
          "output_type": "stream",
          "name": "stdout",
          "text": [
            "Epoch: 5, Average train loss per epoch: 0.6903551459312439\n",
            "Epoch: 5, Average train jaccard_micro coeff per epoch: 0.6726677417755127\n",
            "Epoch: 5, Average train jaccard_macro coeff per epoch: 0.27472102642059326\n",
            "Epoch: 5, Average train jaccard_weighted coeff per epoch: 0.6792302131652832\n",
            "Epoch: 5, Average train jaccard_none coeff per epoch: tensor([0.5717, 0.8512, 0.4500, 0.6930, 0.0213, 0.0041, 0.1197, 0.0149, 0.1064,\n",
            "        0.7460, 0.2962, 0.8102, 0.1680, 0.0000, 0.6311, 0.0000, 0.0000, 0.0000,\n",
            "        0.0000, 0.0106], device='cuda:0')\n"
          ]
        },
        {
          "output_type": "stream",
          "name": "stderr",
          "text": [
            "100%|██████████| 32/32 [01:04<00:00,  2.01s/it]\n"
          ]
        },
        {
          "output_type": "stream",
          "name": "stdout",
          "text": [
            "epoch=4, learning rate=0.0100\n",
            "Epoch: 5, Average val loss per epoch: 0.8435476031154394\n",
            "Epoch: 5, Average val jaccard_micro coeff per epoch: 0.6141188144683838\n",
            "Epoch: 5, Average val jaccard_macro coeff per epoch: 0.23689958453178406\n",
            "Epoch: 5, Average val jaccard_weighted coeff per epoch: 0.6163238286972046\n",
            "Epoch: 5, Average val jaccard_none coeff per epoch: tensor([3.8528e-01, 7.6881e-01, 3.4765e-01, 6.9171e-01, 1.2276e-02, 2.5784e-05,\n",
            "        1.3054e-01, 2.7376e-02, 6.8978e-02, 7.6863e-01, 1.7644e-01, 7.6025e-01,\n",
            "        1.2545e-01, 0.0000e+00, 4.6133e-01, 0.0000e+00, 0.0000e+00, 0.0000e+00,\n",
            "        0.0000e+00, 1.3251e-02], device='cuda:0')\n",
            "Epoch: 6\n"
          ]
        },
        {
          "output_type": "stream",
          "name": "stderr",
          "text": [
            "100%|██████████| 170/170 [08:55<00:00,  3.15s/it]\n"
          ]
        },
        {
          "output_type": "stream",
          "name": "stdout",
          "text": [
            "Epoch: 6, Average train loss per epoch: 0.6547334302874173\n",
            "Epoch: 6, Average train jaccard_micro coeff per epoch: 0.6878408789634705\n",
            "Epoch: 6, Average train jaccard_macro coeff per epoch: 0.2866901755332947\n",
            "Epoch: 6, Average train jaccard_weighted coeff per epoch: 0.69487464427948\n",
            "Epoch: 6, Average train jaccard_none coeff per epoch: tensor([5.8775e-01, 8.6530e-01, 4.8173e-01, 7.0318e-01, 2.6981e-02, 4.6742e-03,\n",
            "        1.2996e-01, 2.4176e-02, 1.1448e-01, 7.6288e-01, 3.1050e-01, 8.2484e-01,\n",
            "        2.0488e-01, 0.0000e+00, 6.6287e-01, 1.7959e-04, 0.0000e+00, 1.9014e-06,\n",
            "        0.0000e+00, 2.9407e-02], device='cuda:0')\n"
          ]
        },
        {
          "output_type": "stream",
          "name": "stderr",
          "text": [
            "100%|██████████| 32/32 [01:04<00:00,  2.01s/it]\n"
          ]
        },
        {
          "output_type": "stream",
          "name": "stdout",
          "text": [
            "epoch=5, learning rate=0.0100\n",
            "Epoch: 6, Average val loss per epoch: 0.7487399466335773\n",
            "Epoch: 6, Average val jaccard_micro coeff per epoch: 0.6459075212478638\n",
            "Epoch: 6, Average val jaccard_macro coeff per epoch: 0.25914913415908813\n",
            "Epoch: 6, Average val jaccard_weighted coeff per epoch: 0.6595617532730103\n",
            "Epoch: 6, Average val jaccard_none coeff per epoch: tensor([5.6855e-01, 8.1650e-01, 4.1989e-01, 6.4285e-01, 1.5295e-02, 7.6535e-05,\n",
            "        1.4885e-01, 1.6910e-02, 9.2624e-02, 7.6565e-01, 2.0168e-01, 7.0927e-01,\n",
            "        1.5009e-01, 0.0000e+00, 6.3441e-01, 0.0000e+00, 0.0000e+00, 0.0000e+00,\n",
            "        0.0000e+00, 3.4203e-04], device='cuda:0')\n",
            "Epoch: 7\n"
          ]
        },
        {
          "output_type": "stream",
          "name": "stderr",
          "text": [
            "100%|██████████| 170/170 [08:55<00:00,  3.15s/it]\n"
          ]
        },
        {
          "output_type": "stream",
          "name": "stdout",
          "text": [
            "Epoch: 7, Average train loss per epoch: 0.6257271231973872\n",
            "Epoch: 7, Average train jaccard_micro coeff per epoch: 0.6985447406768799\n",
            "Epoch: 7, Average train jaccard_macro coeff per epoch: 0.29647764563560486\n",
            "Epoch: 7, Average train jaccard_weighted coeff per epoch: 0.705572247505188\n",
            "Epoch: 7, Average train jaccard_none coeff per epoch: tensor([5.9612e-01, 8.7691e-01, 5.1351e-01, 7.0782e-01, 3.0011e-02, 6.1998e-03,\n",
            "        1.4927e-01, 2.7069e-02, 1.2362e-01, 7.7001e-01, 3.2957e-01, 8.3361e-01,\n",
            "        2.2569e-01, 0.0000e+00, 6.8493e-01, 1.0276e-03, 3.8232e-07, 4.0101e-04,\n",
            "        0.0000e+00, 5.3807e-02], device='cuda:0')\n"
          ]
        },
        {
          "output_type": "stream",
          "name": "stderr",
          "text": [
            "100%|██████████| 32/32 [01:04<00:00,  2.01s/it]\n"
          ]
        },
        {
          "output_type": "stream",
          "name": "stdout",
          "text": [
            "epoch=6, learning rate=0.0100\n",
            "Epoch: 7, Average val loss per epoch: 0.8449092451483011\n",
            "Epoch: 7, Average val jaccard_micro coeff per epoch: 0.6172413229942322\n",
            "Epoch: 7, Average val jaccard_macro coeff per epoch: 0.23850542306900024\n",
            "Epoch: 7, Average val jaccard_weighted coeff per epoch: 0.6297059059143066\n",
            "Epoch: 7, Average val jaccard_none coeff per epoch: tensor([5.3748e-01, 7.9277e-01, 4.2472e-01, 6.5779e-01, 2.6694e-02, 4.6437e-03,\n",
            "        1.4562e-01, 2.8772e-02, 6.3176e-02, 7.3028e-01, 1.9007e-01, 4.1051e-01,\n",
            "        1.6866e-01, 0.0000e+00, 5.3339e-01, 0.0000e+00, 0.0000e+00, 4.1156e-06,\n",
            "        0.0000e+00, 5.5539e-02], device='cuda:0')\n",
            "Epoch: 8\n"
          ]
        },
        {
          "output_type": "stream",
          "name": "stderr",
          "text": [
            "100%|██████████| 170/170 [08:54<00:00,  3.15s/it]\n"
          ]
        },
        {
          "output_type": "stream",
          "name": "stdout",
          "text": [
            "Epoch: 8, Average train loss per epoch: 0.611130597836831\n",
            "Epoch: 8, Average train jaccard_micro coeff per epoch: 0.7036236524581909\n",
            "Epoch: 8, Average train jaccard_macro coeff per epoch: 0.30149897933006287\n",
            "Epoch: 8, Average train jaccard_weighted coeff per epoch: 0.7118362188339233\n",
            "Epoch: 8, Average train jaccard_none coeff per epoch: tensor([6.0094e-01, 8.8290e-01, 5.2273e-01, 7.1334e-01, 3.3554e-02, 8.6482e-03,\n",
            "        1.5982e-01, 2.8764e-02, 1.2023e-01, 7.7140e-01, 3.2483e-01, 8.2701e-01,\n",
            "        2.4006e-01, 3.5853e-06, 7.0452e-01, 4.9479e-04, 8.4388e-04, 3.1412e-03,\n",
            "        0.0000e+00, 8.6756e-02], device='cuda:0')\n"
          ]
        },
        {
          "output_type": "stream",
          "name": "stderr",
          "text": [
            "100%|██████████| 32/32 [01:05<00:00,  2.04s/it]\n"
          ]
        },
        {
          "output_type": "stream",
          "name": "stdout",
          "text": [
            "epoch=7, learning rate=0.0100\n",
            "Epoch: 8, Average val loss per epoch: 0.8367455825209618\n",
            "Epoch: 8, Average val jaccard_micro coeff per epoch: 0.6308439373970032\n",
            "Epoch: 8, Average val jaccard_macro coeff per epoch: 0.24430310726165771\n",
            "Epoch: 8, Average val jaccard_weighted coeff per epoch: 0.6425061821937561\n",
            "Epoch: 8, Average val jaccard_none coeff per epoch: tensor([5.9311e-01, 8.5389e-01, 4.3944e-01, 5.5123e-01, 1.0453e-02, 1.5778e-05,\n",
            "        1.1837e-01, 2.1458e-02, 7.6599e-02, 6.8943e-01, 1.4301e-01, 6.2552e-01,\n",
            "        1.0423e-01, 0.0000e+00, 6.3777e-01, 9.6158e-03, 0.0000e+00, 0.0000e+00,\n",
            "        0.0000e+00, 1.1924e-02], device='cuda:0')\n",
            "Epoch: 9\n"
          ]
        },
        {
          "output_type": "stream",
          "name": "stderr",
          "text": [
            "100%|██████████| 170/170 [08:59<00:00,  3.17s/it]\n"
          ]
        },
        {
          "output_type": "stream",
          "name": "stdout",
          "text": [
            "Epoch: 9, Average train loss per epoch: 0.5890505192910924\n",
            "Epoch: 9, Average train jaccard_micro coeff per epoch: 0.7123226523399353\n",
            "Epoch: 9, Average train jaccard_macro coeff per epoch: 0.3094364404678345\n",
            "Epoch: 9, Average train jaccard_weighted coeff per epoch: 0.7208266854286194\n",
            "Epoch: 9, Average train jaccard_none coeff per epoch: tensor([6.1422e-01, 8.8915e-01, 5.4278e-01, 7.1771e-01, 3.7687e-02, 1.3019e-02,\n",
            "        1.7126e-01, 3.1741e-02, 1.2462e-01, 7.8361e-01, 3.3775e-01, 8.3425e-01,\n",
            "        2.5605e-01, 5.5014e-06, 7.1924e-01, 3.8947e-03, 1.7147e-03, 3.4897e-03,\n",
            "        0.0000e+00, 1.0654e-01], device='cuda:0')\n"
          ]
        },
        {
          "output_type": "stream",
          "name": "stderr",
          "text": [
            "100%|██████████| 32/32 [01:05<00:00,  2.04s/it]\n"
          ]
        },
        {
          "output_type": "stream",
          "name": "stdout",
          "text": [
            "epoch=8, learning rate=0.0100\n",
            "Epoch: 9, Average val loss per epoch: 0.7069454370066524\n",
            "Epoch: 9, Average val jaccard_micro coeff per epoch: 0.6690187454223633\n",
            "Epoch: 9, Average val jaccard_macro coeff per epoch: 0.277355819940567\n",
            "Epoch: 9, Average val jaccard_weighted coeff per epoch: 0.6808786392211914\n",
            "Epoch: 9, Average val jaccard_none coeff per epoch: tensor([5.9398e-01, 8.4508e-01, 4.3452e-01, 6.9315e-01, 4.3987e-02, 8.5338e-03,\n",
            "        1.7489e-01, 3.4866e-02, 1.1478e-01, 7.2296e-01, 2.3226e-01, 7.2043e-01,\n",
            "        1.7711e-01, 3.3539e-05, 7.1076e-01, 9.7055e-05, 0.0000e+00, 0.0000e+00,\n",
            "        0.0000e+00, 3.9676e-02], device='cuda:0')\n",
            "Epoch: 10\n"
          ]
        },
        {
          "output_type": "stream",
          "name": "stderr",
          "text": [
            "100%|██████████| 170/170 [09:01<00:00,  3.18s/it]\n"
          ]
        },
        {
          "output_type": "stream",
          "name": "stdout",
          "text": [
            "Epoch: 10, Average train loss per epoch: 0.57515989261515\n",
            "Epoch: 10, Average train jaccard_micro coeff per epoch: 0.7186294794082642\n",
            "Epoch: 10, Average train jaccard_macro coeff per epoch: 0.3153829574584961\n",
            "Epoch: 10, Average train jaccard_weighted coeff per epoch: 0.7276210784912109\n",
            "Epoch: 10, Average train jaccard_none coeff per epoch: tensor([6.1846e-01, 8.9617e-01, 5.6224e-01, 7.2614e-01, 4.4535e-02, 2.9637e-02,\n",
            "        1.7549e-01, 3.2547e-02, 1.3044e-01, 7.8417e-01, 3.4237e-01, 8.3627e-01,\n",
            "        2.7454e-01, 1.3783e-04, 7.3156e-01, 2.8908e-03, 1.8586e-03, 1.2456e-03,\n",
            "        1.4326e-04, 1.1682e-01], device='cuda:0')\n"
          ]
        },
        {
          "output_type": "stream",
          "name": "stderr",
          "text": [
            "100%|██████████| 32/32 [01:05<00:00,  2.03s/it]\n"
          ]
        },
        {
          "output_type": "stream",
          "name": "stdout",
          "text": [
            "epoch=9, learning rate=0.0100\n",
            "Epoch: 10, Average val loss per epoch: 1.0313110295683146\n",
            "Epoch: 10, Average val jaccard_micro coeff per epoch: 0.5462229251861572\n",
            "Epoch: 10, Average val jaccard_macro coeff per epoch: 0.2240382432937622\n",
            "Epoch: 10, Average val jaccard_weighted coeff per epoch: 0.5668679475784302\n",
            "Epoch: 10, Average val jaccard_none coeff per epoch: tensor([5.3215e-01, 7.8642e-01, 3.8683e-01, 5.0411e-01, 9.2590e-03, 2.8086e-02,\n",
            "        1.1359e-01, 3.0720e-02, 8.1387e-02, 5.0172e-01, 1.6527e-01, 6.3759e-01,\n",
            "        1.0805e-01, 8.7633e-06, 4.9334e-01, 0.0000e+00, 4.3610e-03, 0.0000e+00,\n",
            "        0.0000e+00, 9.7865e-02], device='cuda:0')\n",
            "Epoch: 11\n"
          ]
        },
        {
          "output_type": "stream",
          "name": "stderr",
          "text": [
            "100%|██████████| 170/170 [09:00<00:00,  3.18s/it]\n"
          ]
        },
        {
          "output_type": "stream",
          "name": "stdout",
          "text": [
            "Epoch: 11, Average train loss per epoch: 0.6207981370827731\n",
            "Epoch: 11, Average train jaccard_micro coeff per epoch: 0.6987249851226807\n",
            "Epoch: 11, Average train jaccard_macro coeff per epoch: 0.30178311467170715\n",
            "Epoch: 11, Average train jaccard_weighted coeff per epoch: 0.7068129181861877\n",
            "Epoch: 11, Average train jaccard_none coeff per epoch: tensor([6.1051e-01, 8.8283e-01, 5.3310e-01, 6.9821e-01, 2.4381e-02, 1.6361e-02,\n",
            "        1.5699e-01, 3.0000e-02, 1.1753e-01, 7.5176e-01, 3.2366e-01, 8.0988e-01,\n",
            "        2.4737e-01, 3.3820e-04, 7.0983e-01, 2.8011e-03, 1.0738e-03, 1.5794e-03,\n",
            "        0.0000e+00, 1.1746e-01], device='cuda:0')\n"
          ]
        },
        {
          "output_type": "stream",
          "name": "stderr",
          "text": [
            "100%|██████████| 32/32 [01:05<00:00,  2.04s/it]\n"
          ]
        },
        {
          "output_type": "stream",
          "name": "stdout",
          "text": [
            "epoch=10, learning rate=0.0100\n",
            "Epoch: 11, Average val loss per epoch: 0.719705743715167\n",
            "Epoch: 11, Average val jaccard_micro coeff per epoch: 0.6861760020256042\n",
            "Epoch: 11, Average val jaccard_macro coeff per epoch: 0.2852914035320282\n",
            "Epoch: 11, Average val jaccard_weighted coeff per epoch: 0.6952962279319763\n",
            "Epoch: 11, Average val jaccard_none coeff per epoch: tensor([6.1197e-01, 8.5881e-01, 4.8194e-01, 6.5937e-01, 4.3493e-02, 3.2561e-03,\n",
            "        1.6876e-01, 2.4606e-02, 5.4912e-02, 7.9121e-01, 2.3958e-01, 7.7327e-01,\n",
            "        1.5564e-01, 5.1155e-05, 7.2283e-01, 2.1131e-03, 1.7152e-02, 0.0000e+00,\n",
            "        0.0000e+00, 9.6867e-02], device='cuda:0')\n",
            "Epoch: 12\n"
          ]
        },
        {
          "output_type": "stream",
          "name": "stderr",
          "text": [
            "100%|██████████| 170/170 [08:59<00:00,  3.18s/it]\n"
          ]
        },
        {
          "output_type": "stream",
          "name": "stdout",
          "text": [
            "Epoch: 12, Average train loss per epoch: 0.5555568009614944\n",
            "Epoch: 12, Average train jaccard_micro coeff per epoch: 0.7253760695457458\n",
            "Epoch: 12, Average train jaccard_macro coeff per epoch: 0.3260892331600189\n",
            "Epoch: 12, Average train jaccard_weighted coeff per epoch: 0.7355332970619202\n",
            "Epoch: 12, Average train jaccard_none coeff per epoch: tensor([6.2576e-01, 8.9588e-01, 5.7751e-01, 7.3591e-01, 4.4347e-02, 4.2607e-02,\n",
            "        1.8599e-01, 3.4908e-02, 1.3482e-01, 7.9277e-01, 3.4748e-01, 8.4833e-01,\n",
            "        2.8487e-01, 9.9010e-04, 7.4991e-01, 1.3602e-02, 9.9151e-03, 2.9989e-02,\n",
            "        1.1114e-04, 1.6608e-01], device='cuda:0')\n"
          ]
        },
        {
          "output_type": "stream",
          "name": "stderr",
          "text": [
            "100%|██████████| 32/32 [01:04<00:00,  2.03s/it]\n"
          ]
        },
        {
          "output_type": "stream",
          "name": "stdout",
          "text": [
            "epoch=11, learning rate=0.0100\n",
            "Epoch: 12, Average val loss per epoch: 0.7773689143359661\n",
            "Epoch: 12, Average val jaccard_micro coeff per epoch: 0.615716814994812\n",
            "Epoch: 12, Average val jaccard_macro coeff per epoch: 0.2737903892993927\n",
            "Epoch: 12, Average val jaccard_weighted coeff per epoch: 0.6355153918266296\n",
            "Epoch: 12, Average val jaccard_none coeff per epoch: tensor([4.5711e-01, 7.0960e-01, 5.1175e-01, 6.8467e-01, 3.9595e-02, 1.0595e-02,\n",
            "        1.7035e-01, 3.4386e-02, 1.2284e-01, 7.9902e-01, 2.4072e-01, 7.1424e-01,\n",
            "        1.8350e-01, 9.7573e-04, 7.0336e-01, 1.6219e-03, 1.2863e-02, 1.3697e-02,\n",
            "        6.8205e-05, 6.4864e-02], device='cuda:0')\n",
            "Epoch: 13\n"
          ]
        },
        {
          "output_type": "stream",
          "name": "stderr",
          "text": [
            "100%|██████████| 170/170 [08:57<00:00,  3.16s/it]\n"
          ]
        },
        {
          "output_type": "stream",
          "name": "stdout",
          "text": [
            "Epoch: 13, Average train loss per epoch: 0.5425529870916815\n",
            "Epoch: 13, Average train jaccard_micro coeff per epoch: 0.7303925156593323\n",
            "Epoch: 13, Average train jaccard_macro coeff per epoch: 0.33003002405166626\n",
            "Epoch: 13, Average train jaccard_weighted coeff per epoch: 0.7398654818534851\n",
            "Epoch: 13, Average train jaccard_none coeff per epoch: tensor([6.2745e-01, 9.0319e-01, 5.8288e-01, 7.4077e-01, 5.0177e-02, 5.7635e-02,\n",
            "        1.9287e-01, 3.6992e-02, 1.3903e-01, 7.9796e-01, 3.5993e-01, 8.4665e-01,\n",
            "        2.9320e-01, 1.2806e-03, 7.5816e-01, 3.7446e-03, 1.7305e-02, 2.3236e-02,\n",
            "        8.3272e-04, 1.6730e-01], device='cuda:0')\n"
          ]
        },
        {
          "output_type": "stream",
          "name": "stderr",
          "text": [
            "100%|██████████| 32/32 [01:05<00:00,  2.04s/it]\n"
          ]
        },
        {
          "output_type": "stream",
          "name": "stdout",
          "text": [
            "epoch=12, learning rate=0.0100\n",
            "Epoch: 13, Average val loss per epoch: 0.6403752770274878\n",
            "Epoch: 13, Average val jaccard_micro coeff per epoch: 0.6927475929260254\n",
            "Epoch: 13, Average val jaccard_macro coeff per epoch: 0.30097711086273193\n",
            "Epoch: 13, Average val jaccard_weighted coeff per epoch: 0.7005980610847473\n",
            "Epoch: 13, Average val jaccard_none coeff per epoch: tensor([6.0758e-01, 8.4677e-01, 4.0329e-01, 7.3420e-01, 4.0924e-02, 1.2584e-02,\n",
            "        2.0630e-01, 4.2215e-02, 1.2885e-01, 7.8607e-01, 2.5252e-01, 7.8407e-01,\n",
            "        2.3984e-01, 6.5120e-05, 6.7360e-01, 4.2834e-02, 2.3811e-05, 7.8732e-03,\n",
            "        0.0000e+00, 2.0994e-01], device='cuda:0')\n",
            "Epoch: 14\n"
          ]
        },
        {
          "output_type": "stream",
          "name": "stderr",
          "text": [
            "100%|██████████| 170/170 [09:00<00:00,  3.18s/it]\n"
          ]
        },
        {
          "output_type": "stream",
          "name": "stdout",
          "text": [
            "Epoch: 14, Average train loss per epoch: 0.517246562943739\n",
            "Epoch: 14, Average train jaccard_micro coeff per epoch: 0.7389570474624634\n",
            "Epoch: 14, Average train jaccard_macro coeff per epoch: 0.3432661294937134\n",
            "Epoch: 14, Average train jaccard_weighted coeff per epoch: 0.7493881583213806\n",
            "Epoch: 14, Average train jaccard_none coeff per epoch: tensor([0.6389, 0.9092, 0.6015, 0.7514, 0.0700, 0.0896, 0.2113, 0.0400, 0.1531,\n",
            "        0.8024, 0.3688, 0.8529, 0.3061, 0.0032, 0.7671, 0.0224, 0.0263, 0.0583,\n",
            "        0.0033, 0.1895], device='cuda:0')\n"
          ]
        },
        {
          "output_type": "stream",
          "name": "stderr",
          "text": [
            "100%|██████████| 32/32 [01:05<00:00,  2.04s/it]\n"
          ]
        },
        {
          "output_type": "stream",
          "name": "stdout",
          "text": [
            "epoch=13, learning rate=0.0100\n",
            "Epoch: 14, Average val loss per epoch: 0.7395292576402426\n",
            "Epoch: 14, Average val jaccard_micro coeff per epoch: 0.6599623560905457\n",
            "Epoch: 14, Average val jaccard_macro coeff per epoch: 0.2796340584754944\n",
            "Epoch: 14, Average val jaccard_weighted coeff per epoch: 0.6819802522659302\n",
            "Epoch: 14, Average val jaccard_none coeff per epoch: tensor([6.4708e-01, 8.6252e-01, 4.8171e-01, 6.2502e-01, 7.4663e-02, 1.8353e-02,\n",
            "        1.6108e-01, 3.0732e-02, 5.3529e-02, 7.5101e-01, 2.1328e-01, 4.3472e-01,\n",
            "        2.2324e-01, 6.1575e-03, 7.3941e-01, 1.4616e-02, 8.4506e-02, 5.0958e-03,\n",
            "        7.1298e-04, 1.6525e-01], device='cuda:0')\n",
            "Epoch: 15\n"
          ]
        },
        {
          "output_type": "stream",
          "name": "stderr",
          "text": [
            "100%|██████████| 170/170 [09:00<00:00,  3.18s/it]\n"
          ]
        },
        {
          "output_type": "stream",
          "name": "stdout",
          "text": [
            "Epoch: 15, Average train loss per epoch: 0.5023745177423253\n",
            "Epoch: 15, Average train jaccard_micro coeff per epoch: 0.7451188564300537\n",
            "Epoch: 15, Average train jaccard_macro coeff per epoch: 0.3515903949737549\n",
            "Epoch: 15, Average train jaccard_weighted coeff per epoch: 0.7567786574363708\n",
            "Epoch: 15, Average train jaccard_none coeff per epoch: tensor([0.6471, 0.9146, 0.6119, 0.7552, 0.0786, 0.1060, 0.2269, 0.0460, 0.1670,\n",
            "        0.8111, 0.3714, 0.8546, 0.3211, 0.0047, 0.7851, 0.0138, 0.0442, 0.0607,\n",
            "        0.0014, 0.2104], device='cuda:0')\n"
          ]
        },
        {
          "output_type": "stream",
          "name": "stderr",
          "text": [
            "100%|██████████| 32/32 [01:05<00:00,  2.04s/it]\n"
          ]
        },
        {
          "output_type": "stream",
          "name": "stdout",
          "text": [
            "epoch=14, learning rate=0.0100\n",
            "Epoch: 15, Average val loss per epoch: 0.7008059825748205\n",
            "Epoch: 15, Average val jaccard_micro coeff per epoch: 0.6651325821876526\n",
            "Epoch: 15, Average val jaccard_macro coeff per epoch: 0.28176572918891907\n",
            "Epoch: 15, Average val jaccard_weighted coeff per epoch: 0.6854439973831177\n",
            "Epoch: 15, Average val jaccard_none coeff per epoch: tensor([0.5953, 0.8679, 0.4611, 0.6647, 0.0357, 0.0096, 0.2015, 0.0429, 0.1540,\n",
            "        0.7575, 0.1970, 0.6630, 0.1705, 0.0097, 0.6458, 0.0471, 0.0402, 0.0215,\n",
            "        0.0000, 0.0504], device='cuda:0')\n",
            "Epoch: 16\n"
          ]
        },
        {
          "output_type": "stream",
          "name": "stderr",
          "text": [
            "100%|██████████| 170/170 [09:00<00:00,  3.18s/it]\n"
          ]
        },
        {
          "output_type": "stream",
          "name": "stdout",
          "text": [
            "Epoch: 16, Average train loss per epoch: 0.5219837968840318\n",
            "Epoch: 16, Average train jaccard_micro coeff per epoch: 0.7358130812644958\n",
            "Epoch: 16, Average train jaccard_macro coeff per epoch: 0.34473270177841187\n",
            "Epoch: 16, Average train jaccard_weighted coeff per epoch: 0.7467274069786072\n",
            "Epoch: 16, Average train jaccard_none coeff per epoch: tensor([0.6336, 0.9073, 0.6016, 0.7426, 0.0678, 0.1016, 0.2193, 0.0417, 0.1592,\n",
            "        0.7958, 0.3700, 0.8465, 0.3147, 0.0066, 0.7712, 0.0173, 0.0498, 0.0526,\n",
            "        0.0026, 0.1928], device='cuda:0')\n"
          ]
        },
        {
          "output_type": "stream",
          "name": "stderr",
          "text": [
            "100%|██████████| 32/32 [01:05<00:00,  2.05s/it]\n"
          ]
        },
        {
          "output_type": "stream",
          "name": "stdout",
          "text": [
            "epoch=15, learning rate=0.0100\n",
            "Epoch: 16, Average val loss per epoch: 0.7236820505931973\n",
            "Epoch: 16, Average val jaccard_micro coeff per epoch: 0.6576601266860962\n",
            "Epoch: 16, Average val jaccard_macro coeff per epoch: 0.29707977175712585\n",
            "Epoch: 16, Average val jaccard_weighted coeff per epoch: 0.6813772916793823\n",
            "Epoch: 16, Average val jaccard_none coeff per epoch: tensor([6.1916e-01, 8.7600e-01, 5.0601e-01, 6.2000e-01, 3.0203e-02, 1.0249e-01,\n",
            "        1.7984e-01, 3.0784e-02, 1.2581e-01, 6.6813e-01, 2.3248e-01, 7.3849e-01,\n",
            "        1.9044e-01, 7.2730e-03, 7.3260e-01, 1.4191e-02, 9.5111e-02, 6.8110e-05,\n",
            "        3.4769e-05, 1.7248e-01], device='cuda:0')\n",
            "Epoch: 17\n"
          ]
        },
        {
          "output_type": "stream",
          "name": "stderr",
          "text": [
            "100%|██████████| 170/170 [08:59<00:00,  3.17s/it]\n"
          ]
        },
        {
          "output_type": "stream",
          "name": "stdout",
          "text": [
            "Epoch: 17, Average train loss per epoch: 0.480586096293786\n",
            "Epoch: 17, Average train jaccard_micro coeff per epoch: 0.7525877356529236\n",
            "Epoch: 17, Average train jaccard_macro coeff per epoch: 0.3649151027202606\n",
            "Epoch: 17, Average train jaccard_weighted coeff per epoch: 0.763910710811615\n",
            "Epoch: 17, Average train jaccard_none coeff per epoch: tensor([0.6480, 0.9161, 0.6294, 0.7684, 0.0867, 0.1354, 0.2369, 0.0488, 0.1802,\n",
            "        0.8165, 0.3893, 0.8590, 0.3418, 0.0080, 0.8008, 0.0211, 0.0900, 0.0818,\n",
            "        0.0078, 0.2321], device='cuda:0')\n"
          ]
        },
        {
          "output_type": "stream",
          "name": "stderr",
          "text": [
            "100%|██████████| 32/32 [01:05<00:00,  2.04s/it]\n"
          ]
        },
        {
          "output_type": "stream",
          "name": "stdout",
          "text": [
            "Epoch 00017: reducing learning rate of group 0 to 5.0000e-03.\n",
            "epoch=16, learning rate=0.0050\n",
            "Epoch: 17, Average val loss per epoch: 0.6523045031353831\n",
            "Epoch: 17, Average val jaccard_micro coeff per epoch: 0.6954131722450256\n",
            "Epoch: 17, Average val jaccard_macro coeff per epoch: 0.3017239272594452\n",
            "Epoch: 17, Average val jaccard_weighted coeff per epoch: 0.7068468332290649\n",
            "Epoch: 17, Average val jaccard_none coeff per epoch: tensor([6.4929e-01, 8.8451e-01, 5.5936e-01, 7.0431e-01, 6.1996e-02, 1.5529e-02,\n",
            "        1.9947e-01, 4.2654e-02, 1.3749e-01, 6.9674e-01, 2.1045e-01, 6.2564e-01,\n",
            "        2.6370e-01, 1.4589e-02, 7.3169e-01, 1.9686e-02, 1.3587e-04, 1.3273e-02,\n",
            "        1.5455e-05, 2.0395e-01], device='cuda:0')\n",
            "Epoch: 18\n"
          ]
        },
        {
          "output_type": "stream",
          "name": "stderr",
          "text": [
            "100%|██████████| 170/170 [09:00<00:00,  3.18s/it]\n"
          ]
        },
        {
          "output_type": "stream",
          "name": "stdout",
          "text": [
            "Epoch: 18, Average train loss per epoch: 0.4398999291307786\n",
            "Epoch: 18, Average train jaccard_micro coeff per epoch: 0.7710558772087097\n",
            "Epoch: 18, Average train jaccard_macro coeff per epoch: 0.38429710268974304\n",
            "Epoch: 18, Average train jaccard_weighted coeff per epoch: 0.7831587791442871\n",
            "Epoch: 18, Average train jaccard_none coeff per epoch: tensor([0.6732, 0.9300, 0.6605, 0.7877, 0.1132, 0.1689, 0.2581, 0.0667, 0.2055,\n",
            "        0.8247, 0.3966, 0.8717, 0.3679, 0.0119, 0.8217, 0.0601, 0.0752, 0.1086,\n",
            "        0.0136, 0.2701], device='cuda:0')\n"
          ]
        },
        {
          "output_type": "stream",
          "name": "stderr",
          "text": [
            "100%|██████████| 32/32 [01:05<00:00,  2.03s/it]\n"
          ]
        },
        {
          "output_type": "stream",
          "name": "stdout",
          "text": [
            "epoch=17, learning rate=0.0050\n",
            "Epoch: 18, Average val loss per epoch: 0.557255526073277\n",
            "Epoch: 18, Average val jaccard_micro coeff per epoch: 0.73050856590271\n",
            "Epoch: 18, Average val jaccard_macro coeff per epoch: 0.34660086035728455\n",
            "Epoch: 18, Average val jaccard_weighted coeff per epoch: 0.7468529343605042\n",
            "Epoch: 18, Average val jaccard_none coeff per epoch: tensor([0.6461, 0.8840, 0.5588, 0.7642, 0.0502, 0.0730, 0.2700, 0.0698, 0.1791,\n",
            "        0.8295, 0.2910, 0.7956, 0.2757, 0.0075, 0.7789, 0.0076, 0.1148, 0.0586,\n",
            "        0.0037, 0.2742], device='cuda:0')\n",
            "Epoch: 19\n"
          ]
        },
        {
          "output_type": "stream",
          "name": "stderr",
          "text": [
            "100%|██████████| 170/170 [08:56<00:00,  3.15s/it]\n"
          ]
        },
        {
          "output_type": "stream",
          "name": "stdout",
          "text": [
            "Epoch: 19, Average train loss per epoch: 0.43019425711211035\n",
            "Epoch: 19, Average train jaccard_micro coeff per epoch: 0.7750311493873596\n",
            "Epoch: 19, Average train jaccard_macro coeff per epoch: 0.3940076529979706\n",
            "Epoch: 19, Average train jaccard_weighted coeff per epoch: 0.7870227098464966\n",
            "Epoch: 19, Average train jaccard_none coeff per epoch: tensor([0.6794, 0.9319, 0.6628, 0.7938, 0.1142, 0.1758, 0.2645, 0.0758, 0.2123,\n",
            "        0.8327, 0.4225, 0.8719, 0.3849, 0.0122, 0.8367, 0.0846, 0.0818, 0.1322,\n",
            "        0.0207, 0.2892], device='cuda:0')\n"
          ]
        },
        {
          "output_type": "stream",
          "name": "stderr",
          "text": [
            "100%|██████████| 32/32 [01:04<00:00,  2.01s/it]\n"
          ]
        },
        {
          "output_type": "stream",
          "name": "stdout",
          "text": [
            "epoch=18, learning rate=0.0050\n",
            "Epoch: 19, Average val loss per epoch: 0.5750166680663824\n",
            "Epoch: 19, Average val jaccard_micro coeff per epoch: 0.7207110524177551\n",
            "Epoch: 19, Average val jaccard_macro coeff per epoch: 0.3406459093093872\n",
            "Epoch: 19, Average val jaccard_weighted coeff per epoch: 0.7369990348815918\n",
            "Epoch: 19, Average val jaccard_none coeff per epoch: tensor([0.6169, 0.8837, 0.5418, 0.7426, 0.0481, 0.1083, 0.2321, 0.0562, 0.1573,\n",
            "        0.8331, 0.2685, 0.7547, 0.2494, 0.0017, 0.7616, 0.0731, 0.1484, 0.0550,\n",
            "        0.0272, 0.2533], device='cuda:0')\n",
            "Epoch: 20\n"
          ]
        },
        {
          "output_type": "stream",
          "name": "stderr",
          "text": [
            "100%|██████████| 170/170 [08:54<00:00,  3.15s/it]\n"
          ]
        },
        {
          "output_type": "stream",
          "name": "stdout",
          "text": [
            "Epoch: 20, Average train loss per epoch: 0.42041576013845555\n",
            "Epoch: 20, Average train jaccard_micro coeff per epoch: 0.7789097428321838\n",
            "Epoch: 20, Average train jaccard_macro coeff per epoch: 0.39503148198127747\n",
            "Epoch: 20, Average train jaccard_weighted coeff per epoch: 0.7909559607505798\n",
            "Epoch: 20, Average train jaccard_none coeff per epoch: tensor([0.6858, 0.9322, 0.6738, 0.8007, 0.1281, 0.1849, 0.2654, 0.0748, 0.2144,\n",
            "        0.8365, 0.3986, 0.8758, 0.3680, 0.0101, 0.8357, 0.0764, 0.1056, 0.1387,\n",
            "        0.0170, 0.2780], device='cuda:0')\n"
          ]
        },
        {
          "output_type": "stream",
          "name": "stderr",
          "text": [
            "100%|██████████| 32/32 [01:04<00:00,  2.02s/it]\n"
          ]
        },
        {
          "output_type": "stream",
          "name": "stdout",
          "text": [
            "epoch=19, learning rate=0.0050\n",
            "Epoch: 20, Average val loss per epoch: 0.5263424748554826\n",
            "Epoch: 20, Average val jaccard_micro coeff per epoch: 0.7384632229804993\n",
            "Epoch: 20, Average val jaccard_macro coeff per epoch: 0.36022573709487915\n",
            "Epoch: 20, Average val jaccard_weighted coeff per epoch: 0.7544058561325073\n",
            "Epoch: 20, Average val jaccard_none coeff per epoch: tensor([0.6450, 0.8882, 0.5658, 0.7645, 0.0836, 0.0991, 0.2844, 0.0646, 0.1709,\n",
            "        0.8403, 0.2907, 0.7843, 0.3022, 0.0201, 0.8050, 0.0548, 0.1904, 0.0350,\n",
            "        0.0100, 0.3053], device='cuda:0')\n",
            "Epoch: 21\n"
          ]
        },
        {
          "output_type": "stream",
          "name": "stderr",
          "text": [
            "100%|██████████| 170/170 [08:56<00:00,  3.15s/it]\n"
          ]
        },
        {
          "output_type": "stream",
          "name": "stdout",
          "text": [
            "Epoch: 21, Average train loss per epoch: 0.3980936825275421\n",
            "Epoch: 21, Average train jaccard_micro coeff per epoch: 0.7891180515289307\n",
            "Epoch: 21, Average train jaccard_macro coeff per epoch: 0.40767109394073486\n",
            "Epoch: 21, Average train jaccard_weighted coeff per epoch: 0.8011357188224792\n",
            "Epoch: 21, Average train jaccard_none coeff per epoch: tensor([0.7002, 0.9400, 0.6822, 0.8065, 0.1383, 0.2004, 0.2785, 0.0874, 0.2283,\n",
            "        0.8426, 0.4187, 0.8775, 0.3987, 0.0137, 0.8483, 0.1171, 0.1084, 0.1404,\n",
            "        0.0268, 0.2994], device='cuda:0')\n"
          ]
        },
        {
          "output_type": "stream",
          "name": "stderr",
          "text": [
            "100%|██████████| 32/32 [01:04<00:00,  2.02s/it]\n"
          ]
        },
        {
          "output_type": "stream",
          "name": "stdout",
          "text": [
            "epoch=20, learning rate=0.0050\n",
            "Epoch: 21, Average val loss per epoch: 0.5404894528910518\n",
            "Epoch: 21, Average val jaccard_micro coeff per epoch: 0.7350481152534485\n",
            "Epoch: 21, Average val jaccard_macro coeff per epoch: 0.35757091641426086\n",
            "Epoch: 21, Average val jaccard_weighted coeff per epoch: 0.7523365616798401\n",
            "Epoch: 21, Average val jaccard_none coeff per epoch: tensor([0.6445, 0.8888, 0.5535, 0.7708, 0.0533, 0.1047, 0.2704, 0.0642, 0.1976,\n",
            "        0.8296, 0.2557, 0.7856, 0.2785, 0.0168, 0.7961, 0.0778, 0.2357, 0.0180,\n",
            "        0.0095, 0.3003], device='cuda:0')\n",
            "Epoch: 22\n"
          ]
        },
        {
          "output_type": "stream",
          "name": "stderr",
          "text": [
            "100%|██████████| 170/170 [09:00<00:00,  3.18s/it]\n"
          ]
        },
        {
          "output_type": "stream",
          "name": "stdout",
          "text": [
            "Epoch: 22, Average train loss per epoch: 0.3898083173176822\n",
            "Epoch: 22, Average train jaccard_micro coeff per epoch: 0.7935736179351807\n",
            "Epoch: 22, Average train jaccard_macro coeff per epoch: 0.41554170846939087\n",
            "Epoch: 22, Average train jaccard_weighted coeff per epoch: 0.8049266934394836\n",
            "Epoch: 22, Average train jaccard_none coeff per epoch: tensor([0.7078, 0.9413, 0.6958, 0.8133, 0.1445, 0.2132, 0.2817, 0.0873, 0.2310,\n",
            "        0.8442, 0.4320, 0.8815, 0.4046, 0.0142, 0.8531, 0.1293, 0.1449, 0.1500,\n",
            "        0.0319, 0.3094], device='cuda:0')\n"
          ]
        },
        {
          "output_type": "stream",
          "name": "stderr",
          "text": [
            "100%|██████████| 32/32 [01:05<00:00,  2.05s/it]\n"
          ]
        },
        {
          "output_type": "stream",
          "name": "stdout",
          "text": [
            "epoch=21, learning rate=0.0050\n",
            "Epoch: 22, Average val loss per epoch: 0.5420850841328502\n",
            "Epoch: 22, Average val jaccard_micro coeff per epoch: 0.7390071153640747\n",
            "Epoch: 22, Average val jaccard_macro coeff per epoch: 0.363796591758728\n",
            "Epoch: 22, Average val jaccard_weighted coeff per epoch: 0.7559080719947815\n",
            "Epoch: 22, Average val jaccard_none coeff per epoch: tensor([0.6499, 0.8935, 0.5595, 0.7572, 0.1000, 0.1074, 0.2746, 0.0719, 0.1558,\n",
            "        0.8402, 0.2843, 0.8190, 0.3024, 0.0131, 0.7976, 0.0491, 0.2406, 0.0477,\n",
            "        0.0087, 0.3036], device='cuda:0')\n",
            "Epoch: 23\n"
          ]
        },
        {
          "output_type": "stream",
          "name": "stderr",
          "text": [
            "100%|██████████| 170/170 [09:01<00:00,  3.18s/it]\n"
          ]
        },
        {
          "output_type": "stream",
          "name": "stdout",
          "text": [
            "Epoch: 23, Average train loss per epoch: 0.37916487350183375\n",
            "Epoch: 23, Average train jaccard_micro coeff per epoch: 0.7981172800064087\n",
            "Epoch: 23, Average train jaccard_macro coeff per epoch: 0.42030927538871765\n",
            "Epoch: 23, Average train jaccard_weighted coeff per epoch: 0.8094981908798218\n",
            "Epoch: 23, Average train jaccard_none coeff per epoch: tensor([0.7210, 0.9443, 0.6951, 0.8199, 0.1535, 0.2150, 0.2895, 0.0929, 0.2414,\n",
            "        0.8457, 0.4447, 0.8799, 0.4176, 0.0145, 0.8530, 0.1216, 0.1395, 0.1577,\n",
            "        0.0418, 0.3176], device='cuda:0')\n"
          ]
        },
        {
          "output_type": "stream",
          "name": "stderr",
          "text": [
            "100%|██████████| 32/32 [01:05<00:00,  2.05s/it]\n"
          ]
        },
        {
          "output_type": "stream",
          "name": "stdout",
          "text": [
            "epoch=22, learning rate=0.0050\n",
            "Epoch: 23, Average val loss per epoch: 0.5284111676737666\n",
            "Epoch: 23, Average val jaccard_micro coeff per epoch: 0.7419837713241577\n",
            "Epoch: 23, Average val jaccard_macro coeff per epoch: 0.3688669502735138\n",
            "Epoch: 23, Average val jaccard_weighted coeff per epoch: 0.7581724524497986\n",
            "Epoch: 23, Average val jaccard_none coeff per epoch: tensor([0.6468, 0.8915, 0.5806, 0.7710, 0.1002, 0.0738, 0.2988, 0.0840, 0.1941,\n",
            "        0.8433, 0.2887, 0.8023, 0.3117, 0.0174, 0.8033, 0.0912, 0.1891, 0.0241,\n",
            "        0.0467, 0.3188], device='cuda:0')\n",
            "Epoch: 24\n"
          ]
        },
        {
          "output_type": "stream",
          "name": "stderr",
          "text": [
            "100%|██████████| 170/170 [09:01<00:00,  3.18s/it]\n"
          ]
        },
        {
          "output_type": "stream",
          "name": "stdout",
          "text": [
            "Epoch: 24, Average train loss per epoch: 0.3655813346890842\n",
            "Epoch: 24, Average train jaccard_micro coeff per epoch: 0.8044508099555969\n",
            "Epoch: 24, Average train jaccard_macro coeff per epoch: 0.43182098865509033\n",
            "Epoch: 24, Average train jaccard_weighted coeff per epoch: 0.8152449131011963\n",
            "Epoch: 24, Average train jaccard_none coeff per epoch: tensor([0.7316, 0.9449, 0.7103, 0.8263, 0.1574, 0.2311, 0.2971, 0.0998, 0.2490,\n",
            "        0.8516, 0.4428, 0.8830, 0.4278, 0.0162, 0.8630, 0.1786, 0.1602, 0.1744,\n",
            "        0.0579, 0.3331], device='cuda:0')\n"
          ]
        },
        {
          "output_type": "stream",
          "name": "stderr",
          "text": [
            "100%|██████████| 32/32 [01:05<00:00,  2.04s/it]\n"
          ]
        },
        {
          "output_type": "stream",
          "name": "stdout",
          "text": [
            "Epoch 00024: reducing learning rate of group 0 to 2.5000e-03.\n",
            "epoch=23, learning rate=0.0025\n",
            "Epoch: 24, Average val loss per epoch: 0.5649292543530464\n",
            "Epoch: 24, Average val jaccard_micro coeff per epoch: 0.7298968434333801\n",
            "Epoch: 24, Average val jaccard_macro coeff per epoch: 0.3468984067440033\n",
            "Epoch: 24, Average val jaccard_weighted coeff per epoch: 0.7434554100036621\n",
            "Epoch: 24, Average val jaccard_none coeff per epoch: tensor([0.6589, 0.8925, 0.5536, 0.7433, 0.0966, 0.0913, 0.2768, 0.0420, 0.1602,\n",
            "        0.7978, 0.2691, 0.6969, 0.3150, 0.0124, 0.7977, 0.0563, 0.1416, 0.0068,\n",
            "        0.0078, 0.3215], device='cuda:0')\n",
            "Epoch: 25\n"
          ]
        },
        {
          "output_type": "stream",
          "name": "stderr",
          "text": [
            "100%|██████████| 170/170 [09:00<00:00,  3.18s/it]\n"
          ]
        },
        {
          "output_type": "stream",
          "name": "stdout",
          "text": [
            "Epoch: 25, Average train loss per epoch: 0.33340107114876016\n",
            "Epoch: 25, Average train jaccard_micro coeff per epoch: 0.8221524357795715\n",
            "Epoch: 25, Average train jaccard_macro coeff per epoch: 0.4529513716697693\n",
            "Epoch: 25, Average train jaccard_weighted coeff per epoch: 0.832372784614563\n",
            "Epoch: 25, Average train jaccard_none coeff per epoch: tensor([0.7737, 0.9554, 0.7398, 0.8411, 0.1831, 0.2590, 0.3112, 0.1159, 0.2660,\n",
            "        0.8594, 0.4647, 0.8855, 0.4460, 0.0176, 0.8748, 0.2321, 0.2139, 0.1894,\n",
            "        0.0708, 0.3597], device='cuda:0')\n"
          ]
        },
        {
          "output_type": "stream",
          "name": "stderr",
          "text": [
            "100%|██████████| 32/32 [01:04<00:00,  2.02s/it]\n"
          ]
        },
        {
          "output_type": "stream",
          "name": "stdout",
          "text": [
            "epoch=24, learning rate=0.0025\n",
            "Epoch: 25, Average val loss per epoch: 0.5417071236297488\n",
            "Epoch: 25, Average val jaccard_micro coeff per epoch: 0.7482246160507202\n",
            "Epoch: 25, Average val jaccard_macro coeff per epoch: 0.3721839487552643\n",
            "Epoch: 25, Average val jaccard_weighted coeff per epoch: 0.762281060218811\n",
            "Epoch: 25, Average val jaccard_none coeff per epoch: tensor([0.6505, 0.8930, 0.5726, 0.7763, 0.1001, 0.1222, 0.3074, 0.0665, 0.1672,\n",
            "        0.8459, 0.3048, 0.8009, 0.3335, 0.0130, 0.8093, 0.1267, 0.1735, 0.0205,\n",
            "        0.0171, 0.3428], device='cuda:0')\n",
            "Epoch: 26\n"
          ]
        },
        {
          "output_type": "stream",
          "name": "stderr",
          "text": [
            "100%|██████████| 170/170 [08:57<00:00,  3.16s/it]\n"
          ]
        },
        {
          "output_type": "stream",
          "name": "stdout",
          "text": [
            "Epoch: 26, Average train loss per epoch: 0.32037486714475294\n",
            "Epoch: 26, Average train jaccard_micro coeff per epoch: 0.8289985656738281\n",
            "Epoch: 26, Average train jaccard_macro coeff per epoch: 0.46482348442077637\n",
            "Epoch: 26, Average train jaccard_weighted coeff per epoch: 0.8386900424957275\n",
            "Epoch: 26, Average train jaccard_none coeff per epoch: tensor([0.7863, 0.9582, 0.7554, 0.8476, 0.1935, 0.2836, 0.3208, 0.1208, 0.2743,\n",
            "        0.8625, 0.4743, 0.8915, 0.4535, 0.0206, 0.8745, 0.2791, 0.2537, 0.1809,\n",
            "        0.0891, 0.3763], device='cuda:0')\n"
          ]
        },
        {
          "output_type": "stream",
          "name": "stderr",
          "text": [
            "100%|██████████| 32/32 [01:04<00:00,  2.03s/it]\n"
          ]
        },
        {
          "output_type": "stream",
          "name": "stdout",
          "text": [
            "epoch=25, learning rate=0.0025\n",
            "Epoch: 26, Average val loss per epoch: 0.5579916862770915\n",
            "Epoch: 26, Average val jaccard_micro coeff per epoch: 0.7470083832740784\n",
            "Epoch: 26, Average val jaccard_macro coeff per epoch: 0.37899482250213623\n",
            "Epoch: 26, Average val jaccard_weighted coeff per epoch: 0.7632043957710266\n",
            "Epoch: 26, Average val jaccard_none coeff per epoch: tensor([0.6422, 0.8931, 0.5851, 0.7748, 0.1027, 0.1335, 0.3098, 0.0757, 0.2113,\n",
            "        0.8472, 0.2987, 0.8180, 0.3390, 0.0168, 0.8181, 0.1138, 0.1841, 0.0697,\n",
            "        0.0184, 0.3279], device='cuda:0')\n",
            "Epoch: 27\n"
          ]
        },
        {
          "output_type": "stream",
          "name": "stderr",
          "text": [
            "100%|██████████| 170/170 [08:56<00:00,  3.16s/it]\n"
          ]
        },
        {
          "output_type": "stream",
          "name": "stdout",
          "text": [
            "Epoch: 27, Average train loss per epoch: 0.3186252111897749\n",
            "Epoch: 27, Average train jaccard_micro coeff per epoch: 0.8306398391723633\n",
            "Epoch: 27, Average train jaccard_macro coeff per epoch: 0.46564555168151855\n",
            "Epoch: 27, Average train jaccard_weighted coeff per epoch: 0.84064120054245\n",
            "Epoch: 27, Average train jaccard_none coeff per epoch: tensor([0.7974, 0.9605, 0.7599, 0.8451, 0.1976, 0.2803, 0.3208, 0.1224, 0.2768,\n",
            "        0.8619, 0.4674, 0.8904, 0.4588, 0.0225, 0.8743, 0.2776, 0.2456, 0.1841,\n",
            "        0.0930, 0.3764], device='cuda:0')\n"
          ]
        },
        {
          "output_type": "stream",
          "name": "stderr",
          "text": [
            "100%|██████████| 32/32 [01:04<00:00,  2.02s/it]\n"
          ]
        },
        {
          "output_type": "stream",
          "name": "stdout",
          "text": [
            "epoch=26, learning rate=0.0025\n",
            "Epoch: 27, Average val loss per epoch: 0.5539126358926296\n",
            "Epoch: 27, Average val jaccard_micro coeff per epoch: 0.7399228811264038\n",
            "Epoch: 27, Average val jaccard_macro coeff per epoch: 0.3721568286418915\n",
            "Epoch: 27, Average val jaccard_weighted coeff per epoch: 0.7548783421516418\n",
            "Epoch: 27, Average val jaccard_none coeff per epoch: tensor([0.6366, 0.8924, 0.5453, 0.7775, 0.0894, 0.1241, 0.3072, 0.0682, 0.2254,\n",
            "        0.8172, 0.3035, 0.7491, 0.3321, 0.0245, 0.8106, 0.1491, 0.1772, 0.0583,\n",
            "        0.0165, 0.3389], device='cuda:0')\n",
            "Epoch: 28\n"
          ]
        },
        {
          "output_type": "stream",
          "name": "stderr",
          "text": [
            "100%|██████████| 170/170 [08:56<00:00,  3.16s/it]\n"
          ]
        },
        {
          "output_type": "stream",
          "name": "stdout",
          "text": [
            "Epoch: 28, Average train loss per epoch: 0.31822101833189237\n",
            "Epoch: 28, Average train jaccard_micro coeff per epoch: 0.8303078413009644\n",
            "Epoch: 28, Average train jaccard_macro coeff per epoch: 0.4670065939426422\n",
            "Epoch: 28, Average train jaccard_weighted coeff per epoch: 0.8398717641830444\n",
            "Epoch: 28, Average train jaccard_none coeff per epoch: tensor([0.7962, 0.9592, 0.7539, 0.8476, 0.2081, 0.2872, 0.3208, 0.1180, 0.2727,\n",
            "        0.8593, 0.4643, 0.8879, 0.4607, 0.0246, 0.8771, 0.2686, 0.2463, 0.2081,\n",
            "        0.0918, 0.3877], device='cuda:0')\n"
          ]
        },
        {
          "output_type": "stream",
          "name": "stderr",
          "text": [
            "100%|██████████| 32/32 [01:04<00:00,  2.03s/it]\n"
          ]
        },
        {
          "output_type": "stream",
          "name": "stdout",
          "text": [
            "Epoch 00028: reducing learning rate of group 0 to 1.2500e-03.\n",
            "epoch=27, learning rate=0.0013\n",
            "Epoch: 28, Average val loss per epoch: 0.551574214361608\n",
            "Epoch: 28, Average val jaccard_micro coeff per epoch: 0.7478301525115967\n",
            "Epoch: 28, Average val jaccard_macro coeff per epoch: 0.3824198842048645\n",
            "Epoch: 28, Average val jaccard_weighted coeff per epoch: 0.7645552158355713\n",
            "Epoch: 28, Average val jaccard_none coeff per epoch: tensor([0.6317, 0.8939, 0.5825, 0.7844, 0.1122, 0.1326, 0.3107, 0.0912, 0.2058,\n",
            "        0.8439, 0.2973, 0.8161, 0.3469, 0.0191, 0.8217, 0.0999, 0.2274, 0.0396,\n",
            "        0.0418, 0.3494], device='cuda:0')\n",
            "Epoch: 29\n"
          ]
        },
        {
          "output_type": "stream",
          "name": "stderr",
          "text": [
            "100%|██████████| 170/170 [08:56<00:00,  3.16s/it]\n"
          ]
        },
        {
          "output_type": "stream",
          "name": "stdout",
          "text": [
            "Epoch: 29, Average train loss per epoch: 0.2916791699388448\n",
            "Epoch: 29, Average train jaccard_micro coeff per epoch: 0.8447320461273193\n",
            "Epoch: 29, Average train jaccard_macro coeff per epoch: 0.48909714818000793\n",
            "Epoch: 29, Average train jaccard_weighted coeff per epoch: 0.8534833192825317\n",
            "Epoch: 29, Average train jaccard_none coeff per epoch: tensor([0.8237, 0.9639, 0.7840, 0.8606, 0.2345, 0.3285, 0.3373, 0.1335, 0.2937,\n",
            "        0.8685, 0.4901, 0.8936, 0.4781, 0.0340, 0.8856, 0.3142, 0.2833, 0.2423,\n",
            "        0.1204, 0.4121], device='cuda:0')\n"
          ]
        },
        {
          "output_type": "stream",
          "name": "stderr",
          "text": [
            "100%|██████████| 32/32 [01:04<00:00,  2.02s/it]\n"
          ]
        },
        {
          "output_type": "stream",
          "name": "stdout",
          "text": [
            "epoch=28, learning rate=0.0013\n",
            "Epoch: 29, Average val loss per epoch: 0.5573710706084967\n",
            "Epoch: 29, Average val jaccard_micro coeff per epoch: 0.75053870677948\n",
            "Epoch: 29, Average val jaccard_macro coeff per epoch: 0.38458243012428284\n",
            "Epoch: 29, Average val jaccard_weighted coeff per epoch: 0.7654769420623779\n",
            "Epoch: 29, Average val jaccard_none coeff per epoch: tensor([0.6326, 0.8969, 0.5903, 0.7844, 0.0918, 0.1325, 0.3099, 0.0884, 0.2173,\n",
            "        0.8410, 0.3022, 0.8290, 0.3464, 0.0228, 0.8131, 0.1460, 0.2323, 0.0303,\n",
            "        0.0392, 0.3454], device='cuda:0')\n",
            "Epoch: 30\n"
          ]
        },
        {
          "output_type": "stream",
          "name": "stderr",
          "text": [
            "100%|██████████| 170/170 [08:56<00:00,  3.15s/it]\n"
          ]
        },
        {
          "output_type": "stream",
          "name": "stdout",
          "text": [
            "Epoch: 30, Average train loss per epoch: 0.2934315311558106\n",
            "Epoch: 30, Average train jaccard_micro coeff per epoch: 0.8434944152832031\n",
            "Epoch: 30, Average train jaccard_macro coeff per epoch: 0.4887128472328186\n",
            "Epoch: 30, Average train jaccard_weighted coeff per epoch: 0.8520327806472778\n",
            "Epoch: 30, Average train jaccard_none coeff per epoch: tensor([0.8205, 0.9621, 0.7817, 0.8597, 0.2317, 0.3132, 0.3395, 0.1340, 0.2906,\n",
            "        0.8703, 0.4933, 0.8873, 0.4788, 0.0424, 0.8849, 0.3519, 0.2733, 0.2231,\n",
            "        0.1222, 0.4138], device='cuda:0')\n"
          ]
        },
        {
          "output_type": "stream",
          "name": "stderr",
          "text": [
            "100%|██████████| 32/32 [01:04<00:00,  2.02s/it]\n"
          ]
        },
        {
          "output_type": "stream",
          "name": "stdout",
          "text": [
            "epoch=29, learning rate=0.0013\n",
            "Epoch: 30, Average val loss per epoch: 0.545844386331737\n",
            "Epoch: 30, Average val jaccard_micro coeff per epoch: 0.7514415979385376\n",
            "Epoch: 30, Average val jaccard_macro coeff per epoch: 0.3867397904396057\n",
            "Epoch: 30, Average val jaccard_weighted coeff per epoch: 0.7671212553977966\n",
            "Epoch: 30, Average val jaccard_none coeff per epoch: tensor([0.6399, 0.8966, 0.5853, 0.7855, 0.0913, 0.1322, 0.3182, 0.0932, 0.2222,\n",
            "        0.8473, 0.3028, 0.8143, 0.3497, 0.0214, 0.8121, 0.1534, 0.2223, 0.0465,\n",
            "        0.0429, 0.3576], device='cuda:0')\n",
            "Epoch: 31\n"
          ]
        },
        {
          "output_type": "stream",
          "name": "stderr",
          "text": [
            "100%|██████████| 170/170 [08:56<00:00,  3.16s/it]\n"
          ]
        },
        {
          "output_type": "stream",
          "name": "stdout",
          "text": [
            "Epoch: 31, Average train loss per epoch: 0.2796182501841994\n",
            "Epoch: 31, Average train jaccard_micro coeff per epoch: 0.850852906703949\n",
            "Epoch: 31, Average train jaccard_macro coeff per epoch: 0.5035147070884705\n",
            "Epoch: 31, Average train jaccard_weighted coeff per epoch: 0.8588981628417969\n",
            "Epoch: 31, Average train jaccard_none coeff per epoch: tensor([0.8364, 0.9655, 0.7906, 0.8664, 0.2519, 0.3501, 0.3464, 0.1384, 0.3007,\n",
            "        0.8731, 0.5091, 0.8959, 0.4869, 0.0492, 0.8917, 0.3614, 0.3190, 0.2511,\n",
            "        0.1500, 0.4366], device='cuda:0')\n"
          ]
        },
        {
          "output_type": "stream",
          "name": "stderr",
          "text": [
            "100%|██████████| 32/32 [01:04<00:00,  2.02s/it]\n"
          ]
        },
        {
          "output_type": "stream",
          "name": "stdout",
          "text": [
            "epoch=30, learning rate=0.0013\n",
            "Epoch: 31, Average val loss per epoch: 0.5613844217732549\n",
            "Epoch: 31, Average val jaccard_micro coeff per epoch: 0.7533486485481262\n",
            "Epoch: 31, Average val jaccard_macro coeff per epoch: 0.38908880949020386\n",
            "Epoch: 31, Average val jaccard_weighted coeff per epoch: 0.7684298157691956\n",
            "Epoch: 31, Average val jaccard_none coeff per epoch: tensor([0.6444, 0.8974, 0.5945, 0.7836, 0.1026, 0.1323, 0.3179, 0.0958, 0.2223,\n",
            "        0.8473, 0.3031, 0.8247, 0.3565, 0.0264, 0.8179, 0.1623, 0.2225, 0.0360,\n",
            "        0.0409, 0.3533], device='cuda:0')\n",
            "Epoch: 32\n"
          ]
        },
        {
          "output_type": "stream",
          "name": "stderr",
          "text": [
            "100%|██████████| 170/170 [08:56<00:00,  3.16s/it]\n"
          ]
        },
        {
          "output_type": "stream",
          "name": "stdout",
          "text": [
            "Epoch: 32, Average train loss per epoch: 0.2754953939248534\n",
            "Epoch: 32, Average train jaccard_micro coeff per epoch: 0.8530313968658447\n",
            "Epoch: 32, Average train jaccard_macro coeff per epoch: 0.5071430802345276\n",
            "Epoch: 32, Average train jaccard_weighted coeff per epoch: 0.8609655499458313\n",
            "Epoch: 32, Average train jaccard_none coeff per epoch: tensor([0.8412, 0.9662, 0.7985, 0.8680, 0.2561, 0.3529, 0.3487, 0.1414, 0.3057,\n",
            "        0.8724, 0.5123, 0.8969, 0.4942, 0.0588, 0.8883, 0.3903, 0.3186, 0.2450,\n",
            "        0.1382, 0.4489], device='cuda:0')\n"
          ]
        },
        {
          "output_type": "stream",
          "name": "stderr",
          "text": [
            "100%|██████████| 32/32 [01:04<00:00,  2.03s/it]\n"
          ]
        },
        {
          "output_type": "stream",
          "name": "stdout",
          "text": [
            "epoch=31, learning rate=0.0013\n",
            "Epoch: 32, Average val loss per epoch: 0.5732472650706768\n",
            "Epoch: 32, Average val jaccard_micro coeff per epoch: 0.7485198974609375\n",
            "Epoch: 32, Average val jaccard_macro coeff per epoch: 0.38838547468185425\n",
            "Epoch: 32, Average val jaccard_weighted coeff per epoch: 0.7661553025245667\n",
            "Epoch: 32, Average val jaccard_none coeff per epoch: tensor([0.6378, 0.8957, 0.5768, 0.7860, 0.0970, 0.1344, 0.3191, 0.0948, 0.2345,\n",
            "        0.8455, 0.3012, 0.8101, 0.3515, 0.0379, 0.8086, 0.1258, 0.2654, 0.0436,\n",
            "        0.0426, 0.3594], device='cuda:0')\n",
            "Epoch: 33\n"
          ]
        },
        {
          "output_type": "stream",
          "name": "stderr",
          "text": [
            "100%|██████████| 170/170 [08:56<00:00,  3.15s/it]\n"
          ]
        },
        {
          "output_type": "stream",
          "name": "stdout",
          "text": [
            "Epoch: 33, Average train loss per epoch: 0.27470711381996377\n",
            "Epoch: 33, Average train jaccard_micro coeff per epoch: 0.8534408807754517\n",
            "Epoch: 33, Average train jaccard_macro coeff per epoch: 0.5101960897445679\n",
            "Epoch: 33, Average train jaccard_weighted coeff per epoch: 0.8612315654754639\n",
            "Epoch: 33, Average train jaccard_none coeff per epoch: tensor([0.8413, 0.9654, 0.7971, 0.8678, 0.2579, 0.3640, 0.3526, 0.1424, 0.3070,\n",
            "        0.8747, 0.5087, 0.8959, 0.4989, 0.0691, 0.8933, 0.3771, 0.3481, 0.2563,\n",
            "        0.1548, 0.4314], device='cuda:0')\n"
          ]
        },
        {
          "output_type": "stream",
          "name": "stderr",
          "text": [
            "100%|██████████| 32/32 [01:04<00:00,  2.02s/it]\n"
          ]
        },
        {
          "output_type": "stream",
          "name": "stdout",
          "text": [
            "epoch=32, learning rate=0.0013\n",
            "Epoch: 33, Average val loss per epoch: 0.5705568715929985\n",
            "Epoch: 33, Average val jaccard_micro coeff per epoch: 0.7523865699768066\n",
            "Epoch: 33, Average val jaccard_macro coeff per epoch: 0.388676255941391\n",
            "Epoch: 33, Average val jaccard_weighted coeff per epoch: 0.7677602171897888\n",
            "Epoch: 33, Average val jaccard_none coeff per epoch: tensor([0.6426, 0.8953, 0.5815, 0.7883, 0.1110, 0.1296, 0.3217, 0.0910, 0.2266,\n",
            "        0.8458, 0.3015, 0.8263, 0.3540, 0.0394, 0.8163, 0.1391, 0.2172, 0.0426,\n",
            "        0.0472, 0.3566], device='cuda:0')\n",
            "Epoch: 34\n"
          ]
        },
        {
          "output_type": "stream",
          "name": "stderr",
          "text": [
            "100%|██████████| 170/170 [08:56<00:00,  3.15s/it]\n"
          ]
        },
        {
          "output_type": "stream",
          "name": "stdout",
          "text": [
            "Epoch: 34, Average train loss per epoch: 0.2667899001170607\n",
            "Epoch: 34, Average train jaccard_micro coeff per epoch: 0.857437789440155\n",
            "Epoch: 34, Average train jaccard_macro coeff per epoch: 0.5136568546295166\n",
            "Epoch: 34, Average train jaccard_weighted coeff per epoch: 0.8650569319725037\n",
            "Epoch: 34, Average train jaccard_none coeff per epoch: tensor([0.8500, 0.9675, 0.8013, 0.8721, 0.2608, 0.3734, 0.3604, 0.1490, 0.3136,\n",
            "        0.8758, 0.5146, 0.8971, 0.5047, 0.0789, 0.8919, 0.3880, 0.3319, 0.2371,\n",
            "        0.1507, 0.4544], device='cuda:0')\n"
          ]
        },
        {
          "output_type": "stream",
          "name": "stderr",
          "text": [
            "100%|██████████| 32/32 [01:04<00:00,  2.02s/it]\n"
          ]
        },
        {
          "output_type": "stream",
          "name": "stdout",
          "text": [
            "epoch=33, learning rate=0.0013\n",
            "Epoch: 34, Average val loss per epoch: 0.5738623114302754\n",
            "Epoch: 34, Average val jaccard_micro coeff per epoch: 0.7516377568244934\n",
            "Epoch: 34, Average val jaccard_macro coeff per epoch: 0.39002472162246704\n",
            "Epoch: 34, Average val jaccard_weighted coeff per epoch: 0.7686150074005127\n",
            "Epoch: 34, Average val jaccard_none coeff per epoch: tensor([0.6442, 0.8968, 0.5904, 0.7826, 0.1073, 0.1266, 0.3242, 0.1027, 0.2369,\n",
            "        0.8505, 0.2924, 0.8235, 0.3484, 0.0358, 0.8148, 0.1439, 0.2382, 0.0442,\n",
            "        0.0349, 0.3623], device='cuda:0')\n",
            "Epoch: 35\n"
          ]
        },
        {
          "output_type": "stream",
          "name": "stderr",
          "text": [
            "100%|██████████| 170/170 [08:55<00:00,  3.15s/it]\n"
          ]
        },
        {
          "output_type": "stream",
          "name": "stdout",
          "text": [
            "Epoch: 35, Average train loss per epoch: 0.2644268120912945\n",
            "Epoch: 35, Average train jaccard_micro coeff per epoch: 0.8586153984069824\n",
            "Epoch: 35, Average train jaccard_macro coeff per epoch: 0.5163230895996094\n",
            "Epoch: 35, Average train jaccard_weighted coeff per epoch: 0.8662116527557373\n",
            "Epoch: 35, Average train jaccard_none coeff per epoch: tensor([0.8526, 0.9680, 0.8027, 0.8727, 0.2800, 0.3790, 0.3601, 0.1496, 0.3155,\n",
            "        0.8764, 0.5158, 0.8926, 0.5045, 0.0858, 0.8973, 0.3842, 0.3497, 0.2330,\n",
            "        0.1560, 0.4509], device='cuda:0')\n"
          ]
        },
        {
          "output_type": "stream",
          "name": "stderr",
          "text": [
            "100%|██████████| 32/32 [01:04<00:00,  2.02s/it]\n"
          ]
        },
        {
          "output_type": "stream",
          "name": "stdout",
          "text": [
            "epoch=34, learning rate=0.0013\n",
            "Epoch: 35, Average val loss per epoch: 0.5647878488525748\n",
            "Epoch: 35, Average val jaccard_micro coeff per epoch: 0.7527612447738647\n",
            "Epoch: 35, Average val jaccard_macro coeff per epoch: 0.39443260431289673\n",
            "Epoch: 35, Average val jaccard_weighted coeff per epoch: 0.7693175673484802\n",
            "Epoch: 35, Average val jaccard_none coeff per epoch: tensor([0.6519, 0.8960, 0.5847, 0.7888, 0.1177, 0.1333, 0.3267, 0.1010, 0.2397,\n",
            "        0.8412, 0.3044, 0.8237, 0.3527, 0.0510, 0.8154, 0.1362, 0.2599, 0.0657,\n",
            "        0.0444, 0.3544], device='cuda:0')\n",
            "Epoch: 36\n"
          ]
        },
        {
          "output_type": "stream",
          "name": "stderr",
          "text": [
            "100%|██████████| 170/170 [08:55<00:00,  3.15s/it]\n"
          ]
        },
        {
          "output_type": "stream",
          "name": "stdout",
          "text": [
            "Epoch: 36, Average train loss per epoch: 0.25958867853178696\n",
            "Epoch: 36, Average train jaccard_micro coeff per epoch: 0.8615301251411438\n",
            "Epoch: 36, Average train jaccard_macro coeff per epoch: 0.5228481292724609\n",
            "Epoch: 36, Average train jaccard_weighted coeff per epoch: 0.8692436218261719\n",
            "Epoch: 36, Average train jaccard_none coeff per epoch: tensor([0.8593, 0.9688, 0.8114, 0.8762, 0.2945, 0.3856, 0.3645, 0.1551, 0.3203,\n",
            "        0.8744, 0.5229, 0.8934, 0.5173, 0.1012, 0.8976, 0.4059, 0.3382, 0.2435,\n",
            "        0.1595, 0.4673], device='cuda:0')\n"
          ]
        },
        {
          "output_type": "stream",
          "name": "stderr",
          "text": [
            "100%|██████████| 32/32 [01:04<00:00,  2.01s/it]\n"
          ]
        },
        {
          "output_type": "stream",
          "name": "stdout",
          "text": [
            "epoch=35, learning rate=0.0013\n",
            "Epoch: 36, Average val loss per epoch: 0.6196017321199179\n",
            "Epoch: 36, Average val jaccard_micro coeff per epoch: 0.7477274537086487\n",
            "Epoch: 36, Average val jaccard_macro coeff per epoch: 0.38609305024147034\n",
            "Epoch: 36, Average val jaccard_weighted coeff per epoch: 0.7636449933052063\n",
            "Epoch: 36, Average val jaccard_none coeff per epoch: tensor([0.6492, 0.8962, 0.5761, 0.7648, 0.1180, 0.1233, 0.3179, 0.0840, 0.2206,\n",
            "        0.8454, 0.2903, 0.8245, 0.3459, 0.0420, 0.8138, 0.1309, 0.2196, 0.0532,\n",
            "        0.0488, 0.3572], device='cuda:0')\n",
            "Epoch: 37\n"
          ]
        },
        {
          "output_type": "stream",
          "name": "stderr",
          "text": [
            "100%|██████████| 170/170 [08:55<00:00,  3.15s/it]\n"
          ]
        },
        {
          "output_type": "stream",
          "name": "stdout",
          "text": [
            "Epoch: 37, Average train loss per epoch: 0.26731801707954966\n",
            "Epoch: 37, Average train jaccard_micro coeff per epoch: 0.8573203086853027\n",
            "Epoch: 37, Average train jaccard_macro coeff per epoch: 0.5179386734962463\n",
            "Epoch: 37, Average train jaccard_weighted coeff per epoch: 0.8648149371147156\n",
            "Epoch: 37, Average train jaccard_none coeff per epoch: tensor([0.8552, 0.9681, 0.8100, 0.8681, 0.2754, 0.3710, 0.3610, 0.1477, 0.3120,\n",
            "        0.8717, 0.5275, 0.8961, 0.5147, 0.0930, 0.8927, 0.3963, 0.3390, 0.2408,\n",
            "        0.1658, 0.4523], device='cuda:0')\n"
          ]
        },
        {
          "output_type": "stream",
          "name": "stderr",
          "text": [
            "100%|██████████| 32/32 [01:04<00:00,  2.02s/it]\n"
          ]
        },
        {
          "output_type": "stream",
          "name": "stdout",
          "text": [
            "epoch=36, learning rate=0.0013\n",
            "Epoch: 37, Average val loss per epoch: 0.5786269148811698\n",
            "Epoch: 37, Average val jaccard_micro coeff per epoch: 0.7531250715255737\n",
            "Epoch: 37, Average val jaccard_macro coeff per epoch: 0.39407235383987427\n",
            "Epoch: 37, Average val jaccard_weighted coeff per epoch: 0.7700006365776062\n",
            "Epoch: 37, Average val jaccard_none coeff per epoch: tensor([0.6528, 0.8966, 0.5858, 0.7853, 0.1163, 0.1289, 0.3271, 0.1047, 0.2444,\n",
            "        0.8475, 0.3017, 0.8147, 0.3605, 0.0571, 0.8152, 0.1473, 0.2454, 0.0530,\n",
            "        0.0304, 0.3667], device='cuda:0')\n",
            "Epoch: 38\n"
          ]
        },
        {
          "output_type": "stream",
          "name": "stderr",
          "text": [
            "100%|██████████| 170/170 [08:56<00:00,  3.15s/it]\n"
          ]
        },
        {
          "output_type": "stream",
          "name": "stdout",
          "text": [
            "Epoch: 38, Average train loss per epoch: 0.25173997896559097\n",
            "Epoch: 38, Average train jaccard_micro coeff per epoch: 0.8652136325836182\n",
            "Epoch: 38, Average train jaccard_macro coeff per epoch: 0.5338552594184875\n",
            "Epoch: 38, Average train jaccard_weighted coeff per epoch: 0.8721487522125244\n",
            "Epoch: 38, Average train jaccard_none coeff per epoch: tensor([0.8663, 0.9696, 0.8182, 0.8791, 0.2928, 0.4043, 0.3727, 0.1557, 0.3277,\n",
            "        0.8808, 0.5273, 0.8995, 0.5350, 0.1230, 0.8964, 0.4233, 0.3842, 0.2562,\n",
            "        0.1867, 0.4783], device='cuda:0')\n"
          ]
        },
        {
          "output_type": "stream",
          "name": "stderr",
          "text": [
            "100%|██████████| 32/32 [01:04<00:00,  2.02s/it]\n"
          ]
        },
        {
          "output_type": "stream",
          "name": "stdout",
          "text": [
            "epoch=37, learning rate=0.0013\n",
            "Epoch: 38, Average val loss per epoch: 0.6157137444242835\n",
            "Epoch: 38, Average val jaccard_micro coeff per epoch: 0.7497995495796204\n",
            "Epoch: 38, Average val jaccard_macro coeff per epoch: 0.3916342556476593\n",
            "Epoch: 38, Average val jaccard_weighted coeff per epoch: 0.7672319412231445\n",
            "Epoch: 38, Average val jaccard_none coeff per epoch: tensor([0.6397, 0.8942, 0.5717, 0.7853, 0.1209, 0.1317, 0.3191, 0.0980, 0.2339,\n",
            "        0.8504, 0.3019, 0.8222, 0.3611, 0.0502, 0.8206, 0.1379, 0.2389, 0.0588,\n",
            "        0.0387, 0.3575], device='cuda:0')\n",
            "Epoch: 39\n"
          ]
        },
        {
          "output_type": "stream",
          "name": "stderr",
          "text": [
            "100%|██████████| 170/170 [08:55<00:00,  3.15s/it]\n"
          ]
        },
        {
          "output_type": "stream",
          "name": "stdout",
          "text": [
            "Epoch: 39, Average train loss per epoch: 0.24860597068772597\n",
            "Epoch: 39, Average train jaccard_micro coeff per epoch: 0.8665363192558289\n",
            "Epoch: 39, Average train jaccard_macro coeff per epoch: 0.5359266400337219\n",
            "Epoch: 39, Average train jaccard_weighted coeff per epoch: 0.8734217286109924\n",
            "Epoch: 39, Average train jaccard_none coeff per epoch: tensor([0.8674, 0.9691, 0.8166, 0.8816, 0.2990, 0.4004, 0.3756, 0.1587, 0.3324,\n",
            "        0.8821, 0.5373, 0.8996, 0.5265, 0.1253, 0.8999, 0.4364, 0.3862, 0.2567,\n",
            "        0.1842, 0.4836], device='cuda:0')\n"
          ]
        },
        {
          "output_type": "stream",
          "name": "stderr",
          "text": [
            "100%|██████████| 32/32 [01:04<00:00,  2.01s/it]\n"
          ]
        },
        {
          "output_type": "stream",
          "name": "stdout",
          "text": [
            "epoch=38, learning rate=0.0013\n",
            "Epoch: 39, Average val loss per epoch: 0.6032891143113375\n",
            "Epoch: 39, Average val jaccard_micro coeff per epoch: 0.7512845993041992\n",
            "Epoch: 39, Average val jaccard_macro coeff per epoch: 0.3942003548145294\n",
            "Epoch: 39, Average val jaccard_weighted coeff per epoch: 0.7681501507759094\n",
            "Epoch: 39, Average val jaccard_none coeff per epoch: tensor([0.6394, 0.8961, 0.5828, 0.7868, 0.1142, 0.1333, 0.3275, 0.1054, 0.2402,\n",
            "        0.8471, 0.3022, 0.8206, 0.3583, 0.0744, 0.8147, 0.1342, 0.2487, 0.0487,\n",
            "        0.0448, 0.3645], device='cuda:0')\n",
            "Epoch: 40\n"
          ]
        },
        {
          "output_type": "stream",
          "name": "stderr",
          "text": [
            "100%|██████████| 170/170 [08:55<00:00,  3.15s/it]\n"
          ]
        },
        {
          "output_type": "stream",
          "name": "stdout",
          "text": [
            "Epoch: 40, Average train loss per epoch: 0.24464320742032108\n",
            "Epoch: 40, Average train jaccard_micro coeff per epoch: 0.8686782121658325\n",
            "Epoch: 40, Average train jaccard_macro coeff per epoch: 0.5407586097717285\n",
            "Epoch: 40, Average train jaccard_weighted coeff per epoch: 0.8754254579544067\n",
            "Epoch: 40, Average train jaccard_none coeff per epoch: tensor([0.8727, 0.9705, 0.8222, 0.8827, 0.3102, 0.4147, 0.3818, 0.1617, 0.3339,\n",
            "        0.8821, 0.5418, 0.8986, 0.5355, 0.1359, 0.9019, 0.4161, 0.3843, 0.2784,\n",
            "        0.1949, 0.4950], device='cuda:0')\n"
          ]
        },
        {
          "output_type": "stream",
          "name": "stderr",
          "text": [
            "100%|██████████| 32/32 [01:04<00:00,  2.01s/it]\n"
          ]
        },
        {
          "output_type": "stream",
          "name": "stdout",
          "text": [
            "epoch=39, learning rate=0.0013\n",
            "Epoch: 40, Average val loss per epoch: 0.6150001110509038\n",
            "Epoch: 40, Average val jaccard_micro coeff per epoch: 0.7519000172615051\n",
            "Epoch: 40, Average val jaccard_macro coeff per epoch: 0.38891497254371643\n",
            "Epoch: 40, Average val jaccard_weighted coeff per epoch: 0.7674703598022461\n",
            "Epoch: 40, Average val jaccard_none coeff per epoch: tensor([0.6430, 0.8964, 0.5777, 0.7906, 0.1108, 0.1300, 0.3193, 0.0878, 0.2263,\n",
            "        0.8389, 0.3009, 0.8179, 0.3480, 0.0521, 0.8231, 0.1292, 0.2252, 0.0514,\n",
            "        0.0452, 0.3645], device='cuda:0')\n",
            "Epoch: 41\n"
          ]
        },
        {
          "output_type": "stream",
          "name": "stderr",
          "text": [
            "100%|██████████| 170/170 [08:55<00:00,  3.15s/it]\n"
          ]
        },
        {
          "output_type": "stream",
          "name": "stdout",
          "text": [
            "Epoch: 41, Average train loss per epoch: 0.24157766296583064\n",
            "Epoch: 41, Average train jaccard_micro coeff per epoch: 0.8701583743095398\n",
            "Epoch: 41, Average train jaccard_macro coeff per epoch: 0.54172682762146\n",
            "Epoch: 41, Average train jaccard_weighted coeff per epoch: 0.8768876791000366\n",
            "Epoch: 41, Average train jaccard_none coeff per epoch: tensor([0.8755, 0.9711, 0.8245, 0.8844, 0.3102, 0.4157, 0.3849, 0.1649, 0.3378,\n",
            "        0.8834, 0.5384, 0.8982, 0.5372, 0.1429, 0.9024, 0.4148, 0.3913, 0.2716,\n",
            "        0.1929, 0.4924], device='cuda:0')\n"
          ]
        },
        {
          "output_type": "stream",
          "name": "stderr",
          "text": [
            "100%|██████████| 32/32 [01:04<00:00,  2.01s/it]\n"
          ]
        },
        {
          "output_type": "stream",
          "name": "stdout",
          "text": [
            "epoch=40, learning rate=0.0013\n",
            "Epoch: 41, Average val loss per epoch: 0.6184907807037234\n",
            "Epoch: 41, Average val jaccard_micro coeff per epoch: 0.7512893676757812\n",
            "Epoch: 41, Average val jaccard_macro coeff per epoch: 0.3931475281715393\n",
            "Epoch: 41, Average val jaccard_weighted coeff per epoch: 0.7678474187850952\n",
            "Epoch: 41, Average val jaccard_none coeff per epoch: tensor([0.6408, 0.8964, 0.5835, 0.7802, 0.1162, 0.1333, 0.3252, 0.1006, 0.2277,\n",
            "        0.8481, 0.2980, 0.8209, 0.3649, 0.0535, 0.8232, 0.1345, 0.2537, 0.0600,\n",
            "        0.0457, 0.3565], device='cuda:0')\n",
            "Epoch: 42\n"
          ]
        },
        {
          "output_type": "stream",
          "name": "stderr",
          "text": [
            "100%|██████████| 170/170 [08:54<00:00,  3.14s/it]\n"
          ]
        },
        {
          "output_type": "stream",
          "name": "stdout",
          "text": [
            "Epoch: 42, Average train loss per epoch: 0.2395394379601759\n",
            "Epoch: 42, Average train jaccard_micro coeff per epoch: 0.8712249994277954\n",
            "Epoch: 42, Average train jaccard_macro coeff per epoch: 0.5446215867996216\n",
            "Epoch: 42, Average train jaccard_weighted coeff per epoch: 0.8777841925621033\n",
            "Epoch: 42, Average train jaccard_none coeff per epoch: tensor([0.8774, 0.9712, 0.8266, 0.8843, 0.3129, 0.4242, 0.3890, 0.1649, 0.3394,\n",
            "        0.8860, 0.5351, 0.8999, 0.5467, 0.1482, 0.9028, 0.4538, 0.3728, 0.2532,\n",
            "        0.2016, 0.5024], device='cuda:0')\n"
          ]
        },
        {
          "output_type": "stream",
          "name": "stderr",
          "text": [
            "100%|██████████| 32/32 [01:04<00:00,  2.01s/it]\n"
          ]
        },
        {
          "output_type": "stream",
          "name": "stdout",
          "text": [
            "epoch=41, learning rate=0.0013\n",
            "Epoch: 42, Average val loss per epoch: 0.6219732677564025\n",
            "Epoch: 42, Average val jaccard_micro coeff per epoch: 0.7497297525405884\n",
            "Epoch: 42, Average val jaccard_macro coeff per epoch: 0.3928629457950592\n",
            "Epoch: 42, Average val jaccard_weighted coeff per epoch: 0.7667751312255859\n",
            "Epoch: 42, Average val jaccard_none coeff per epoch: tensor([0.6360, 0.8954, 0.5759, 0.7836, 0.1066, 0.1386, 0.3261, 0.0932, 0.2415,\n",
            "        0.8495, 0.3039, 0.8238, 0.3673, 0.0827, 0.8113, 0.1289, 0.2381, 0.0475,\n",
            "        0.0522, 0.3550], device='cuda:0')\n",
            "Epoch: 43\n"
          ]
        },
        {
          "output_type": "stream",
          "name": "stderr",
          "text": [
            "100%|██████████| 170/170 [08:54<00:00,  3.15s/it]\n"
          ]
        },
        {
          "output_type": "stream",
          "name": "stdout",
          "text": [
            "Epoch: 43, Average train loss per epoch: 0.2543823613839991\n",
            "Epoch: 43, Average train jaccard_micro coeff per epoch: 0.870017945766449\n",
            "Epoch: 43, Average train jaccard_macro coeff per epoch: 0.5492171049118042\n",
            "Epoch: 43, Average train jaccard_weighted coeff per epoch: 0.8764322996139526\n",
            "Epoch: 43, Average train jaccard_none coeff per epoch: tensor([0.8766, 0.9701, 0.8244, 0.8838, 0.3123, 0.4204, 0.3950, 0.1655, 0.3404,\n",
            "        0.8857, 0.5455, 0.9015, 0.5479, 0.1535, 0.9038, 0.4666, 0.4098, 0.2765,\n",
            "        0.1932, 0.5117], device='cuda:0')\n"
          ]
        },
        {
          "output_type": "stream",
          "name": "stderr",
          "text": [
            "100%|██████████| 32/32 [01:04<00:00,  2.01s/it]\n"
          ]
        },
        {
          "output_type": "stream",
          "name": "stdout",
          "text": [
            "epoch=42, learning rate=0.0013\n",
            "Epoch: 43, Average val loss per epoch: 0.6771251354366541\n",
            "Epoch: 43, Average val jaccard_micro coeff per epoch: 0.7387720942497253\n",
            "Epoch: 43, Average val jaccard_macro coeff per epoch: 0.38316041231155396\n",
            "Epoch: 43, Average val jaccard_weighted coeff per epoch: 0.7590233087539673\n",
            "Epoch: 43, Average val jaccard_none coeff per epoch: tensor([0.6190, 0.8954, 0.5749, 0.7677, 0.1175, 0.1265, 0.3132, 0.0746, 0.1991,\n",
            "        0.8443, 0.2962, 0.8231, 0.3558, 0.0303, 0.8033, 0.1222, 0.2445, 0.0600,\n",
            "        0.0474, 0.3482], device='cuda:0')\n",
            "Epoch: 44\n"
          ]
        },
        {
          "output_type": "stream",
          "name": "stderr",
          "text": [
            "100%|██████████| 170/170 [08:54<00:00,  3.15s/it]\n"
          ]
        },
        {
          "output_type": "stream",
          "name": "stdout",
          "text": [
            "Epoch: 44, Average train loss per epoch: 0.269159314299331\n",
            "Epoch: 44, Average train jaccard_micro coeff per epoch: 0.8562577962875366\n",
            "Epoch: 44, Average train jaccard_macro coeff per epoch: 0.5221468806266785\n",
            "Epoch: 44, Average train jaccard_weighted coeff per epoch: 0.8641082644462585\n",
            "Epoch: 44, Average train jaccard_none coeff per epoch: tensor([0.8475, 0.9648, 0.8055, 0.8699, 0.2951, 0.3967, 0.3723, 0.1553, 0.3271,\n",
            "        0.8759, 0.5346, 0.8960, 0.5232, 0.1169, 0.8870, 0.3562, 0.3285, 0.2368,\n",
            "        0.1719, 0.4816], device='cuda:0')\n"
          ]
        },
        {
          "output_type": "stream",
          "name": "stderr",
          "text": [
            "100%|██████████| 32/32 [01:04<00:00,  2.02s/it]\n"
          ]
        },
        {
          "output_type": "stream",
          "name": "stdout",
          "text": [
            "epoch=43, learning rate=0.0013\n",
            "Epoch: 44, Average val loss per epoch: 0.6240794192999601\n",
            "Epoch: 44, Average val jaccard_micro coeff per epoch: 0.7465934753417969\n",
            "Epoch: 44, Average val jaccard_macro coeff per epoch: 0.39276212453842163\n",
            "Epoch: 44, Average val jaccard_weighted coeff per epoch: 0.7635424733161926\n",
            "Epoch: 44, Average val jaccard_none coeff per epoch: tensor([0.6315, 0.8944, 0.5856, 0.7745, 0.1027, 0.1424, 0.3254, 0.1045, 0.2285,\n",
            "        0.8412, 0.2960, 0.8265, 0.3587, 0.0711, 0.8222, 0.1426, 0.2425, 0.0657,\n",
            "        0.0429, 0.3564], device='cuda:0')\n",
            "Epoch: 45\n"
          ]
        },
        {
          "output_type": "stream",
          "name": "stderr",
          "text": [
            "100%|██████████| 170/170 [08:55<00:00,  3.15s/it]\n"
          ]
        },
        {
          "output_type": "stream",
          "name": "stdout",
          "text": [
            "Epoch: 45, Average train loss per epoch: 0.24541805114816218\n",
            "Epoch: 45, Average train jaccard_micro coeff per epoch: 0.8685804009437561\n",
            "Epoch: 45, Average train jaccard_macro coeff per epoch: 0.5448066592216492\n",
            "Epoch: 45, Average train jaccard_weighted coeff per epoch: 0.8752681016921997\n",
            "Epoch: 45, Average train jaccard_none coeff per epoch: tensor([0.8748, 0.9701, 0.8242, 0.8781, 0.3214, 0.4204, 0.3873, 0.1662, 0.3403,\n",
            "        0.8797, 0.5449, 0.8972, 0.5462, 0.1534, 0.9040, 0.4287, 0.3967, 0.2712,\n",
            "        0.1845, 0.5068], device='cuda:0')\n"
          ]
        },
        {
          "output_type": "stream",
          "name": "stderr",
          "text": [
            "100%|██████████| 32/32 [01:04<00:00,  2.02s/it]\n"
          ]
        },
        {
          "output_type": "stream",
          "name": "stdout",
          "text": [
            "epoch=44, learning rate=0.0013\n",
            "Epoch: 45, Average val loss per epoch: 0.5991820255294442\n",
            "Epoch: 45, Average val jaccard_micro coeff per epoch: 0.7502355575561523\n",
            "Epoch: 45, Average val jaccard_macro coeff per epoch: 0.3896539509296417\n",
            "Epoch: 45, Average val jaccard_weighted coeff per epoch: 0.7677175998687744\n",
            "Epoch: 45, Average val jaccard_none coeff per epoch: tensor([0.6508, 0.8961, 0.5810, 0.7927, 0.1115, 0.1359, 0.3275, 0.1061, 0.2430,\n",
            "        0.8361, 0.3003, 0.8090, 0.3398, 0.0754, 0.8085, 0.1340, 0.2091, 0.0200,\n",
            "        0.0487, 0.3676], device='cuda:0')\n",
            "Epoch: 46\n"
          ]
        },
        {
          "output_type": "stream",
          "name": "stderr",
          "text": [
            "100%|██████████| 170/170 [08:55<00:00,  3.15s/it]\n"
          ]
        },
        {
          "output_type": "stream",
          "name": "stdout",
          "text": [
            "Epoch: 46, Average train loss per epoch: 0.23609123904915416\n",
            "Epoch: 46, Average train jaccard_micro coeff per epoch: 0.8730931282043457\n",
            "Epoch: 46, Average train jaccard_macro coeff per epoch: 0.5493016242980957\n",
            "Epoch: 46, Average train jaccard_weighted coeff per epoch: 0.8795717358589172\n",
            "Epoch: 46, Average train jaccard_none coeff per epoch: tensor([0.8810, 0.9715, 0.8298, 0.8869, 0.3301, 0.4259, 0.3960, 0.1695, 0.3445,\n",
            "        0.8863, 0.5483, 0.9027, 0.5555, 0.1688, 0.9048, 0.4478, 0.3827, 0.2236,\n",
            "        0.2123, 0.5181], device='cuda:0')\n"
          ]
        },
        {
          "output_type": "stream",
          "name": "stderr",
          "text": [
            "100%|██████████| 32/32 [01:04<00:00,  2.01s/it]\n"
          ]
        },
        {
          "output_type": "stream",
          "name": "stdout",
          "text": [
            "epoch=45, learning rate=0.0013\n",
            "Epoch: 46, Average val loss per epoch: 0.6176448119804263\n",
            "Epoch: 46, Average val jaccard_micro coeff per epoch: 0.7529827356338501\n",
            "Epoch: 46, Average val jaccard_macro coeff per epoch: 0.39464929699897766\n",
            "Epoch: 46, Average val jaccard_weighted coeff per epoch: 0.7688501477241516\n",
            "Epoch: 46, Average val jaccard_none coeff per epoch: tensor([0.6495, 0.8967, 0.5832, 0.7898, 0.1134, 0.1340, 0.3297, 0.1001, 0.2358,\n",
            "        0.8401, 0.2960, 0.8155, 0.3594, 0.0935, 0.8198, 0.1364, 0.2474, 0.0458,\n",
            "        0.0459, 0.3611], device='cuda:0')\n",
            "Epoch: 47\n"
          ]
        },
        {
          "output_type": "stream",
          "name": "stderr",
          "text": [
            "100%|██████████| 170/170 [08:55<00:00,  3.15s/it]\n"
          ]
        },
        {
          "output_type": "stream",
          "name": "stdout",
          "text": [
            "Epoch: 47, Average train loss per epoch: 0.22898470776922564\n",
            "Epoch: 47, Average train jaccard_micro coeff per epoch: 0.876524031162262\n",
            "Epoch: 47, Average train jaccard_macro coeff per epoch: 0.5569900870323181\n",
            "Epoch: 47, Average train jaccard_weighted coeff per epoch: 0.8827846646308899\n",
            "Epoch: 47, Average train jaccard_none coeff per epoch: tensor([0.8872, 0.9728, 0.8306, 0.8908, 0.3340, 0.4400, 0.4020, 0.1718, 0.3520,\n",
            "        0.8888, 0.5551, 0.9024, 0.5626, 0.1750, 0.9087, 0.4818, 0.4125, 0.2547,\n",
            "        0.2072, 0.5101], device='cuda:0')\n"
          ]
        },
        {
          "output_type": "stream",
          "name": "stderr",
          "text": [
            "100%|██████████| 32/32 [01:04<00:00,  2.01s/it]\n"
          ]
        },
        {
          "output_type": "stream",
          "name": "stdout",
          "text": [
            "epoch=46, learning rate=0.0013\n",
            "Epoch: 47, Average val loss per epoch: 0.6290025897324085\n",
            "Epoch: 47, Average val jaccard_micro coeff per epoch: 0.7523637413978577\n",
            "Epoch: 47, Average val jaccard_macro coeff per epoch: 0.39677420258522034\n",
            "Epoch: 47, Average val jaccard_weighted coeff per epoch: 0.7690405249595642\n",
            "Epoch: 47, Average val jaccard_none coeff per epoch: tensor([0.6367, 0.8970, 0.5801, 0.7893, 0.1152, 0.1349, 0.3288, 0.0951, 0.2372,\n",
            "        0.8480, 0.3002, 0.8250, 0.3736, 0.0905, 0.8217, 0.1309, 0.2620, 0.0561,\n",
            "        0.0538, 0.3593], device='cuda:0')\n",
            "Epoch: 48\n"
          ]
        },
        {
          "output_type": "stream",
          "name": "stderr",
          "text": [
            "100%|██████████| 170/170 [08:55<00:00,  3.15s/it]\n"
          ]
        },
        {
          "output_type": "stream",
          "name": "stdout",
          "text": [
            "Epoch: 48, Average train loss per epoch: 0.22906096937025294\n",
            "Epoch: 48, Average train jaccard_micro coeff per epoch: 0.8771560788154602\n",
            "Epoch: 48, Average train jaccard_macro coeff per epoch: 0.5600520372390747\n",
            "Epoch: 48, Average train jaccard_weighted coeff per epoch: 0.8834760785102844\n",
            "Epoch: 48, Average train jaccard_none coeff per epoch: tensor([0.8879, 0.9725, 0.8364, 0.8893, 0.3346, 0.4445, 0.4071, 0.1750, 0.3549,\n",
            "        0.8900, 0.5552, 0.8981, 0.5635, 0.1830, 0.9044, 0.4675, 0.4052, 0.2836,\n",
            "        0.2202, 0.5280], device='cuda:0')\n"
          ]
        },
        {
          "output_type": "stream",
          "name": "stderr",
          "text": [
            "100%|██████████| 32/32 [01:04<00:00,  2.02s/it]\n"
          ]
        },
        {
          "output_type": "stream",
          "name": "stdout",
          "text": [
            "epoch=47, learning rate=0.0013\n",
            "Epoch: 48, Average val loss per epoch: 0.6612339485436678\n",
            "Epoch: 48, Average val jaccard_micro coeff per epoch: 0.7377428412437439\n",
            "Epoch: 48, Average val jaccard_macro coeff per epoch: 0.3875253200531006\n",
            "Epoch: 48, Average val jaccard_weighted coeff per epoch: 0.7586585283279419\n",
            "Epoch: 48, Average val jaccard_none coeff per epoch: tensor([0.6339, 0.8935, 0.5813, 0.7710, 0.1156, 0.1402, 0.3142, 0.0989, 0.2378,\n",
            "        0.8192, 0.2923, 0.8149, 0.3431, 0.0853, 0.8122, 0.1065, 0.2316, 0.0439,\n",
            "        0.0510, 0.3643], device='cuda:0')\n",
            "Epoch: 49\n"
          ]
        },
        {
          "output_type": "stream",
          "name": "stderr",
          "text": [
            "100%|██████████| 170/170 [08:56<00:00,  3.16s/it]\n"
          ]
        },
        {
          "output_type": "stream",
          "name": "stdout",
          "text": [
            "Epoch: 49, Average train loss per epoch: 0.24953738635077197\n",
            "Epoch: 49, Average train jaccard_micro coeff per epoch: 0.8657593727111816\n",
            "Epoch: 49, Average train jaccard_macro coeff per epoch: 0.538870632648468\n",
            "Epoch: 49, Average train jaccard_weighted coeff per epoch: 0.87261563539505\n",
            "Epoch: 49, Average train jaccard_none coeff per epoch: tensor([0.8661, 0.9679, 0.8137, 0.8810, 0.3178, 0.4132, 0.3914, 0.1630, 0.3412,\n",
            "        0.8796, 0.5331, 0.8989, 0.5378, 0.1497, 0.8940, 0.4164, 0.3740, 0.2456,\n",
            "        0.2026, 0.4903], device='cuda:0')\n"
          ]
        },
        {
          "output_type": "stream",
          "name": "stderr",
          "text": [
            "100%|██████████| 32/32 [01:03<00:00,  2.00s/it]\n"
          ]
        },
        {
          "output_type": "stream",
          "name": "stdout",
          "text": [
            "epoch=48, learning rate=0.0013\n",
            "Epoch: 49, Average val loss per epoch: 0.6262882398441434\n",
            "Epoch: 49, Average val jaccard_micro coeff per epoch: 0.7518161535263062\n",
            "Epoch: 49, Average val jaccard_macro coeff per epoch: 0.3948841989040375\n",
            "Epoch: 49, Average val jaccard_weighted coeff per epoch: 0.7687046527862549\n",
            "Epoch: 49, Average val jaccard_none coeff per epoch: tensor([0.6339, 0.8978, 0.5806, 0.7879, 0.1037, 0.1385, 0.3276, 0.1035, 0.2438,\n",
            "        0.8483, 0.2966, 0.8277, 0.3663, 0.0800, 0.8256, 0.1443, 0.2330, 0.0481,\n",
            "        0.0521, 0.3584], device='cuda:0')\n",
            "Epoch: 50\n"
          ]
        },
        {
          "output_type": "stream",
          "name": "stderr",
          "text": [
            "100%|██████████| 170/170 [08:54<00:00,  3.14s/it]\n"
          ]
        },
        {
          "output_type": "stream",
          "name": "stdout",
          "text": [
            "Epoch: 50, Average train loss per epoch: 0.2225754415287691\n",
            "Epoch: 50, Average train jaccard_micro coeff per epoch: 0.8796579241752625\n",
            "Epoch: 50, Average train jaccard_macro coeff per epoch: 0.5635825395584106\n",
            "Epoch: 50, Average train jaccard_weighted coeff per epoch: 0.8856905102729797\n",
            "Epoch: 50, Average train jaccard_none coeff per epoch: tensor([0.8919, 0.9731, 0.8389, 0.8938, 0.3462, 0.4452, 0.4104, 0.1793, 0.3627,\n",
            "        0.8906, 0.5621, 0.9025, 0.5660, 0.1886, 0.9107, 0.4404, 0.4268, 0.2748,\n",
            "        0.2356, 0.5321], device='cuda:0')\n"
          ]
        },
        {
          "output_type": "stream",
          "name": "stderr",
          "text": [
            "100%|██████████| 32/32 [01:04<00:00,  2.01s/it]"
          ]
        },
        {
          "output_type": "stream",
          "name": "stdout",
          "text": [
            "epoch=49, learning rate=0.0013\n",
            "Epoch: 50, Average val loss per epoch: 0.6233922271057963\n",
            "Epoch: 50, Average val jaccard_micro coeff per epoch: 0.751009464263916\n",
            "Epoch: 50, Average val jaccard_macro coeff per epoch: 0.39649248123168945\n",
            "Epoch: 50, Average val jaccard_weighted coeff per epoch: 0.768438458442688\n",
            "Epoch: 50, Average val jaccard_none coeff per epoch: tensor([0.6364, 0.8950, 0.5875, 0.7864, 0.1087, 0.1368, 0.3263, 0.0981, 0.2445,\n",
            "        0.8524, 0.3031, 0.8148, 0.3686, 0.0811, 0.8205, 0.1373, 0.2572, 0.0539,\n",
            "        0.0540, 0.3675], device='cuda:0')\n"
          ]
        },
        {
          "output_type": "stream",
          "name": "stderr",
          "text": [
            "\n"
          ]
        }
      ]
    },
    {
      "cell_type": "code",
      "source": [],
      "metadata": {
        "id": "21RNEC4q3K0p"
      },
      "execution_count": null,
      "outputs": []
    }
  ]
}