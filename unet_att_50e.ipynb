{
  "nbformat": 4,
  "nbformat_minor": 0,
  "metadata": {
    "colab": {
      "provenance": [],
      "machine_shape": "hm"
    },
    "kernelspec": {
      "name": "python3",
      "display_name": "Python 3"
    },
    "language_info": {
      "name": "python"
    },
    "accelerator": "GPU",
    "gpuClass": "premium"
  },
  "cells": [
    {
      "cell_type": "code",
      "source": [
        "from google.colab import drive\n",
        "drive.mount('/content/drive/')"
      ],
      "metadata": {
        "colab": {
          "base_uri": "https://localhost:8080/"
        },
        "id": "YN_il0_giYNC",
        "outputId": "46aecae3-8655-4850-d0d5-2807ffbdf452"
      },
      "execution_count": null,
      "outputs": [
        {
          "output_type": "stream",
          "name": "stdout",
          "text": [
            "Drive already mounted at /content/drive/; to attempt to forcibly remount, call drive.mount(\"/content/drive/\", force_remount=True).\n"
          ]
        }
      ]
    },
    {
      "cell_type": "code",
      "source": [
        "!ls ../content/drive/MyDrive/Cityscapes_data"
      ],
      "metadata": {
        "colab": {
          "base_uri": "https://localhost:8080/"
        },
        "id": "lcj72j5FidpW",
        "outputId": "3e86728d-28c7-4080-d6a8-a7fbf60334ab"
      },
      "execution_count": null,
      "outputs": [
        {
          "output_type": "stream",
          "name": "stdout",
          "text": [
            "64_128_16_batches\t   leftImg8bit\n",
            "Cityscapes_data_augmented  license.txt\n",
            "Cityscapes_data_grouped    meta\n",
            "city_unet.pth\t\t   README\n",
            "gtFine\t\t\t   train_loss.txt\n",
            "jaccard_macro.txt\t   unet_scheduler_train_val_best_50e\n",
            "jaccard_micro.txt\t   unet_scheduler_train_val_best_50e_2nd\n",
            "jaccard_none.txt\t   unet_train_val_best_50e\n",
            "jaccard_weighted.txt\n"
          ]
        }
      ]
    },
    {
      "cell_type": "code",
      "source": [
        "!pip install segmentation_models_pytorch \n",
        "!pip install torchmetrics"
      ],
      "metadata": {
        "colab": {
          "base_uri": "https://localhost:8080/"
        },
        "id": "SsmBsAsHL1Dr",
        "outputId": "5892a94f-89bf-49b6-cd22-242cb5296881"
      },
      "execution_count": null,
      "outputs": [
        {
          "output_type": "stream",
          "name": "stdout",
          "text": [
            "Looking in indexes: https://pypi.org/simple, https://us-python.pkg.dev/colab-wheels/public/simple/\n",
            "Collecting segmentation_models_pytorch\n",
            "  Downloading segmentation_models_pytorch-0.3.2-py3-none-any.whl (106 kB)\n",
            "\u001b[2K     \u001b[90m━━━━━━━━━━━━━━━━━━━━━━━━━━━━━━━━━━━━━━━\u001b[0m \u001b[32m106.7/106.7 KB\u001b[0m \u001b[31m1.4 MB/s\u001b[0m eta \u001b[36m0:00:00\u001b[0m\n",
            "\u001b[?25hRequirement already satisfied: tqdm in /usr/local/lib/python3.9/dist-packages (from segmentation_models_pytorch) (4.65.0)\n",
            "Collecting pretrainedmodels==0.7.4\n",
            "  Downloading pretrainedmodels-0.7.4.tar.gz (58 kB)\n",
            "\u001b[2K     \u001b[90m━━━━━━━━━━━━━━━━━━━━━━━━━━━━━━━━━━━━━━━━\u001b[0m \u001b[32m58.8/58.8 KB\u001b[0m \u001b[31m8.8 MB/s\u001b[0m eta \u001b[36m0:00:00\u001b[0m\n",
            "\u001b[?25h  Preparing metadata (setup.py) ... \u001b[?25l\u001b[?25hdone\n",
            "Collecting efficientnet-pytorch==0.7.1\n",
            "  Downloading efficientnet_pytorch-0.7.1.tar.gz (21 kB)\n",
            "  Preparing metadata (setup.py) ... \u001b[?25l\u001b[?25hdone\n",
            "Requirement already satisfied: pillow in /usr/local/lib/python3.9/dist-packages (from segmentation_models_pytorch) (8.4.0)\n",
            "Requirement already satisfied: torchvision>=0.5.0 in /usr/local/lib/python3.9/dist-packages (from segmentation_models_pytorch) (0.15.1+cu118)\n",
            "Collecting timm==0.6.12\n",
            "  Downloading timm-0.6.12-py3-none-any.whl (549 kB)\n",
            "\u001b[2K     \u001b[90m━━━━━━━━━━━━━━━━━━━━━━━━━━━━━━━━━━━━━━\u001b[0m \u001b[32m549.1/549.1 KB\u001b[0m \u001b[31m54.1 MB/s\u001b[0m eta \u001b[36m0:00:00\u001b[0m\n",
            "\u001b[?25hRequirement already satisfied: torch in /usr/local/lib/python3.9/dist-packages (from efficientnet-pytorch==0.7.1->segmentation_models_pytorch) (2.0.0+cu118)\n",
            "Collecting munch\n",
            "  Downloading munch-2.5.0-py2.py3-none-any.whl (10 kB)\n",
            "Collecting huggingface-hub\n",
            "  Downloading huggingface_hub-0.13.4-py3-none-any.whl (200 kB)\n",
            "\u001b[2K     \u001b[90m━━━━━━━━━━━━━━━━━━━━━━━━━━━━━━━━━━━━━━\u001b[0m \u001b[32m200.1/200.1 KB\u001b[0m \u001b[31m28.3 MB/s\u001b[0m eta \u001b[36m0:00:00\u001b[0m\n",
            "\u001b[?25hRequirement already satisfied: pyyaml in /usr/local/lib/python3.9/dist-packages (from timm==0.6.12->segmentation_models_pytorch) (6.0)\n",
            "Requirement already satisfied: numpy in /usr/local/lib/python3.9/dist-packages (from torchvision>=0.5.0->segmentation_models_pytorch) (1.22.4)\n",
            "Requirement already satisfied: requests in /usr/local/lib/python3.9/dist-packages (from torchvision>=0.5.0->segmentation_models_pytorch) (2.27.1)\n",
            "Requirement already satisfied: sympy in /usr/local/lib/python3.9/dist-packages (from torch->efficientnet-pytorch==0.7.1->segmentation_models_pytorch) (1.11.1)\n",
            "Requirement already satisfied: networkx in /usr/local/lib/python3.9/dist-packages (from torch->efficientnet-pytorch==0.7.1->segmentation_models_pytorch) (3.0)\n",
            "Requirement already satisfied: filelock in /usr/local/lib/python3.9/dist-packages (from torch->efficientnet-pytorch==0.7.1->segmentation_models_pytorch) (3.10.7)\n",
            "Requirement already satisfied: typing-extensions in /usr/local/lib/python3.9/dist-packages (from torch->efficientnet-pytorch==0.7.1->segmentation_models_pytorch) (4.5.0)\n",
            "Requirement already satisfied: jinja2 in /usr/local/lib/python3.9/dist-packages (from torch->efficientnet-pytorch==0.7.1->segmentation_models_pytorch) (3.1.2)\n",
            "Requirement already satisfied: triton==2.0.0 in /usr/local/lib/python3.9/dist-packages (from torch->efficientnet-pytorch==0.7.1->segmentation_models_pytorch) (2.0.0)\n",
            "Requirement already satisfied: cmake in /usr/local/lib/python3.9/dist-packages (from triton==2.0.0->torch->efficientnet-pytorch==0.7.1->segmentation_models_pytorch) (3.25.2)\n",
            "Requirement already satisfied: lit in /usr/local/lib/python3.9/dist-packages (from triton==2.0.0->torch->efficientnet-pytorch==0.7.1->segmentation_models_pytorch) (16.0.0)\n",
            "Requirement already satisfied: packaging>=20.9 in /usr/local/lib/python3.9/dist-packages (from huggingface-hub->timm==0.6.12->segmentation_models_pytorch) (23.0)\n",
            "Requirement already satisfied: six in /usr/local/lib/python3.9/dist-packages (from munch->pretrainedmodels==0.7.4->segmentation_models_pytorch) (1.16.0)\n",
            "Requirement already satisfied: idna<4,>=2.5 in /usr/local/lib/python3.9/dist-packages (from requests->torchvision>=0.5.0->segmentation_models_pytorch) (3.4)\n",
            "Requirement already satisfied: certifi>=2017.4.17 in /usr/local/lib/python3.9/dist-packages (from requests->torchvision>=0.5.0->segmentation_models_pytorch) (2022.12.7)\n",
            "Requirement already satisfied: urllib3<1.27,>=1.21.1 in /usr/local/lib/python3.9/dist-packages (from requests->torchvision>=0.5.0->segmentation_models_pytorch) (1.26.15)\n",
            "Requirement already satisfied: charset-normalizer~=2.0.0 in /usr/local/lib/python3.9/dist-packages (from requests->torchvision>=0.5.0->segmentation_models_pytorch) (2.0.12)\n",
            "Requirement already satisfied: MarkupSafe>=2.0 in /usr/local/lib/python3.9/dist-packages (from jinja2->torch->efficientnet-pytorch==0.7.1->segmentation_models_pytorch) (2.1.2)\n",
            "Requirement already satisfied: mpmath>=0.19 in /usr/local/lib/python3.9/dist-packages (from sympy->torch->efficientnet-pytorch==0.7.1->segmentation_models_pytorch) (1.3.0)\n",
            "Building wheels for collected packages: efficientnet-pytorch, pretrainedmodels\n",
            "  Building wheel for efficientnet-pytorch (setup.py) ... \u001b[?25l\u001b[?25hdone\n",
            "  Created wheel for efficientnet-pytorch: filename=efficientnet_pytorch-0.7.1-py3-none-any.whl size=16444 sha256=993521bb2090e56e742b1b93c4380e57208dbe812adc827276c60fe13cb4aae2\n",
            "  Stored in directory: /root/.cache/pip/wheels/29/16/24/752e89d88d333af39a288421e64d613b5f652918e39ef1f8e3\n",
            "  Building wheel for pretrainedmodels (setup.py) ... \u001b[?25l\u001b[?25hdone\n",
            "  Created wheel for pretrainedmodels: filename=pretrainedmodels-0.7.4-py3-none-any.whl size=60962 sha256=ef9190fd1501673783959f44de87ecd02d81410dabe8d4a4a67fd63c37f9326f\n",
            "  Stored in directory: /root/.cache/pip/wheels/d1/3b/4e/2f3015f1ab76f34be28e04c4bcee27e8cabfa70d2eadf8bc3b\n",
            "Successfully built efficientnet-pytorch pretrainedmodels\n",
            "Installing collected packages: munch, huggingface-hub, timm, pretrainedmodels, efficientnet-pytorch, segmentation_models_pytorch\n",
            "Successfully installed efficientnet-pytorch-0.7.1 huggingface-hub-0.13.4 munch-2.5.0 pretrainedmodels-0.7.4 segmentation_models_pytorch-0.3.2 timm-0.6.12\n",
            "Looking in indexes: https://pypi.org/simple, https://us-python.pkg.dev/colab-wheels/public/simple/\n",
            "Collecting torchmetrics\n",
            "  Downloading torchmetrics-0.11.4-py3-none-any.whl (519 kB)\n",
            "\u001b[2K     \u001b[90m━━━━━━━━━━━━━━━━━━━━━━━━━━━━━━━━━━━━━━\u001b[0m \u001b[32m519.2/519.2 KB\u001b[0m \u001b[31m34.7 MB/s\u001b[0m eta \u001b[36m0:00:00\u001b[0m\n",
            "\u001b[?25hRequirement already satisfied: torch>=1.8.1 in /usr/local/lib/python3.9/dist-packages (from torchmetrics) (2.0.0+cu118)\n",
            "Requirement already satisfied: packaging in /usr/local/lib/python3.9/dist-packages (from torchmetrics) (23.0)\n",
            "Requirement already satisfied: numpy>=1.17.2 in /usr/local/lib/python3.9/dist-packages (from torchmetrics) (1.22.4)\n",
            "Requirement already satisfied: filelock in /usr/local/lib/python3.9/dist-packages (from torch>=1.8.1->torchmetrics) (3.10.7)\n",
            "Requirement already satisfied: triton==2.0.0 in /usr/local/lib/python3.9/dist-packages (from torch>=1.8.1->torchmetrics) (2.0.0)\n",
            "Requirement already satisfied: jinja2 in /usr/local/lib/python3.9/dist-packages (from torch>=1.8.1->torchmetrics) (3.1.2)\n",
            "Requirement already satisfied: networkx in /usr/local/lib/python3.9/dist-packages (from torch>=1.8.1->torchmetrics) (3.0)\n",
            "Requirement already satisfied: sympy in /usr/local/lib/python3.9/dist-packages (from torch>=1.8.1->torchmetrics) (1.11.1)\n",
            "Requirement already satisfied: typing-extensions in /usr/local/lib/python3.9/dist-packages (from torch>=1.8.1->torchmetrics) (4.5.0)\n",
            "Requirement already satisfied: cmake in /usr/local/lib/python3.9/dist-packages (from triton==2.0.0->torch>=1.8.1->torchmetrics) (3.25.2)\n",
            "Requirement already satisfied: lit in /usr/local/lib/python3.9/dist-packages (from triton==2.0.0->torch>=1.8.1->torchmetrics) (16.0.0)\n",
            "Requirement already satisfied: MarkupSafe>=2.0 in /usr/local/lib/python3.9/dist-packages (from jinja2->torch>=1.8.1->torchmetrics) (2.1.2)\n",
            "Requirement already satisfied: mpmath>=0.19 in /usr/local/lib/python3.9/dist-packages (from sympy->torch>=1.8.1->torchmetrics) (1.3.0)\n",
            "Installing collected packages: torchmetrics\n",
            "Successfully installed torchmetrics-0.11.4\n"
          ]
        }
      ]
    },
    {
      "cell_type": "code",
      "source": [
        "from collections import namedtuple\n",
        "import os\n",
        "import numpy as np\n",
        "import cv2\n",
        "import torch\n",
        "import torch.nn as nn\n",
        "import torch.nn.functional as F\n",
        "import torchvision\n",
        "import torchvision.io as tv\n",
        "import torchvision.transforms as transf\n",
        "import torch.utils.data\n",
        "from torch.utils.data import DataLoader\n",
        "from matplotlib import pyplot as plt\n",
        "from torch.optim import Adam\n",
        "from tqdm import tqdm\n",
        "import segmentation_models_pytorch as smp\n",
        "import torchmetrics\n",
        "from torch.optim.lr_scheduler import ReduceLROnPlateau"
      ],
      "metadata": {
        "id": "Oc0HDZhxdvqS"
      },
      "execution_count": null,
      "outputs": []
    },
    {
      "cell_type": "code",
      "source": [
        "# For reproducibility\n",
        "torch.manual_seed(100)\n",
        "if torch.cuda.is_available():\n",
        "    torch.cuda.manual_seed(100)\n",
        "    torch.backends.cudnn.deterministic = True\n",
        "    torch.backends.cudnn.benchmark = False\n",
        "\n",
        "#################################################################################################################################\n",
        "# Label nemedtuple\n",
        "# taken from Dataset offical Github: https://github.com/mcordts/cityscapesScripts/blob/master/cityscapesscripts/helpers/labels.py\n",
        "#################################################################################################################################\n",
        "Label = namedtuple( 'Label' , [\n",
        "\n",
        "    'name'        , # The identifier of this label, e.g. 'car', 'person', ... .\n",
        "                    # We use them to uniquely name a class\n",
        "\n",
        "    'id'          , # An integer ID that is associated with this label.\n",
        "                    # The IDs are used to represent the label in ground truth images\n",
        "                    # An ID of -1 means that this label does not have an ID and thus\n",
        "                    # is ignored when creating ground truth images (e.g. license plate).\n",
        "                    # Do not modify these IDs, since exactly these IDs are expected by the\n",
        "                    # evaluation server.\n",
        "\n",
        "    'trainId'     , # Feel free to modify these IDs as suitable for your method. Then create\n",
        "                    # ground truth images with train IDs, using the tools provided in the\n",
        "                    # 'preparation' folder. However, make sure to validate or submit results\n",
        "                    # to our evaluation server using the regular IDs above!\n",
        "                    # For trainIds, multiple labels might have the same ID. Then, these labels\n",
        "                    # are mapped to the same class in the ground truth images. For the inverse\n",
        "                    # mapping, we use the label that is defined first in the list below.\n",
        "                    # For example, mapping all void-type classes to the same ID in training,\n",
        "                    # might make sense for some approaches.\n",
        "                    # Max value is 255!\n",
        "\n",
        "    'category'    , # The name of the category that this label belongs to\n",
        "\n",
        "    'categoryId'  , # The ID of this category. Used to create ground truth images\n",
        "                    # on category level.\n",
        "\n",
        "    'hasInstances', # Whether this label distinguishes between single instances or not\n",
        "\n",
        "    'ignoreInEval', # Whether pixels having this class as ground truth label are ignored\n",
        "                    # during evaluations or not\n",
        "\n",
        "    'color'       , # The color of this label\n",
        "    ] )\n",
        "\n",
        "labels = [\n",
        "    #       name                     id    trainId   category            catId     hasInstances   ignoreInEval   color\n",
        "    Label(  'unlabeled'            ,  0 ,      0 , 'void'            , 0       , False        , True         , (  0,  0,  0) ),\n",
        "    Label(  'ego vehicle'          ,  1 ,      0 , 'void'            , 0       , False        , True         , (  0,  0,  0) ),\n",
        "    Label(  'rectification border' ,  2 ,      0 , 'void'            , 0       , False        , True         , (  0,  0,  0) ),\n",
        "    Label(  'out of roi'           ,  3 ,      0 , 'void'            , 0       , False        , True         , (  0,  0,  0) ),\n",
        "    Label(  'static'               ,  4 ,      0 , 'void'            , 0       , False        , True         , (  0,  0,  0) ),\n",
        "    Label(  'dynamic'              ,  5 ,      0 , 'void'            , 0       , False        , True         , (111, 74,  0) ),\n",
        "    Label(  'ground'               ,  6 ,      0 , 'void'            , 0       , False        , True         , ( 81,  0, 81) ),\n",
        "    Label(  'road'                 ,  7 ,      1 , 'flat'            , 1       , False        , False        , (128, 64,128) ),\n",
        "    Label(  'sidewalk'             ,  8 ,      2 , 'flat'            , 1       , False        , False        , (244, 35,232) ),\n",
        "    Label(  'parking'              ,  9 ,      0 , 'flat'            , 1       , False        , True         , (250,170,160) ),\n",
        "    Label(  'rail track'           , 10 ,      0 , 'flat'            , 1       , False        , True         , (230,150,140) ),\n",
        "    Label(  'building'             , 11 ,      3 , 'construction'    , 2       , False        , False        , ( 70, 70, 70) ),\n",
        "    Label(  'wall'                 , 12 ,      4 , 'construction'    , 2       , False        , False        , (102,102,156) ),\n",
        "    Label(  'fence'                , 13 ,      5 , 'construction'    , 2       , False        , False        , (190,153,153) ),\n",
        "    Label(  'guard rail'           , 14 ,      0 , 'construction'    , 2       , False        , True         , (180,165,180) ),\n",
        "    Label(  'bridge'               , 15 ,      0 , 'construction'    , 2       , False        , True         , (150,100,100) ),\n",
        "    Label(  'tunnel'               , 16 ,      0 , 'construction'    , 2       , False        , True         , (150,120, 90) ),\n",
        "    Label(  'pole'                 , 17 ,      6 , 'object'          , 3       , False        , False        , (153,153,153) ),\n",
        "    Label(  'polegroup'            , 18 ,      0 , 'object'          , 3       , False        , True         , (153,153,153) ),\n",
        "    Label(  'traffic light'        , 19 ,      7 , 'object'          , 3       , False        , False        , (250,170, 30) ),\n",
        "    Label(  'traffic sign'         , 20 ,      8 , 'object'          , 3       , False        , False        , (220,220,  0) ),\n",
        "    Label(  'vegetation'           , 21 ,      9 , 'nature'          , 4       , False        , False        , (107,142, 35) ),\n",
        "    Label(  'terrain'              , 22 ,     10 , 'nature'          , 4       , False        , False        , (152,251,152) ),\n",
        "    Label(  'sky'                  , 23 ,     11 , 'sky'             , 5       , False        , False        , ( 70,130,180) ),\n",
        "    Label(  'person'               , 24 ,     12 , 'human'           , 6       , True         , False        , (220, 20, 60) ),\n",
        "    Label(  'rider'                , 25 ,     13 , 'human'           , 6       , True         , False        , (255,  0,  0) ),\n",
        "    Label(  'car'                  , 26 ,     14 , 'vehicle'         , 7       , True         , False        , (  0,  0,142) ),\n",
        "    Label(  'truck'                , 27 ,     15 , 'vehicle'         , 7       , True         , False        , (  0,  0, 70) ),\n",
        "    Label(  'bus'                  , 28 ,     16 , 'vehicle'         , 7       , True         , False        , (  0, 60,100) ),\n",
        "    Label(  'caravan'              , 29 ,      0 , 'vehicle'         , 7       , True         , True         , (  0,  0, 90) ),\n",
        "    Label(  'trailer'              , 30 ,      0 , 'vehicle'         , 7       , True         , True         , (  0,  0,110) ),\n",
        "    Label(  'train'                , 31 ,     17 , 'vehicle'         , 7       , True         , False        , (  0, 80,100) ),\n",
        "    Label(  'motorcycle'           , 32 ,     18 , 'vehicle'         , 7       , True         , False        , (  0,  0,230) ),\n",
        "    Label(  'bicycle'              , 33 ,     19 , 'vehicle'         , 7       , True         , False        , (119, 11, 32) ),\n",
        "    Label(  'license plate'        , -1 ,      0 , 'vehicle'         , 7       , False        , True         , (  0,  0,142) ),\n",
        "]\n",
        "\n",
        "#################################################################################################################################\n",
        "# Define custom Train and Validation set classes\n",
        "# This assusmes that you have downloaded the Cityscpes dataset, and placed the masks with your training IDs in the meta folder\n",
        "# Method inspired from: https://github.com/fregu856/deeplabv3/blob/master/datasets.py\n",
        "#################################################################################################################################\n",
        "train_dirs = [\"jena/\", \"zurich/\", \"weimar/\", \"ulm/\", \"tubingen/\", \"stuttgart/\",\n",
        "              \"strasbourg/\", \"monchengladbach/\", \"krefeld/\", \"hanover/\",\n",
        "              \"hamburg/\", \"erfurt/\", \"dusseldorf/\", \"darmstadt/\", \"cologne/\",\n",
        "              \"bremen/\"]\n",
        "val_dirs = [\"frankfurt/\", \"munster/\", \"lindau/\"]\n",
        "test_dirs = [\"bochum/\", \"aachen/\"]\n",
        "\n",
        "cityscapes_data_path = '../content/drive/MyDrive/Cityscapes_data'\n",
        "cityscapes_meta_path = '../content/drive/MyDrive/Cityscapes_data/meta'\n",
        "\n",
        "class DatasetTrain(torch.utils.data.Dataset):\n",
        "  def __init__(self, cityscapes_data_path, cityscapes_meta_path):\n",
        "    self.img_dir = cityscapes_data_path + \"/leftImg8bit/train/\"\n",
        "    self.label_dir = cityscapes_meta_path + \"/label_imgs/\"\n",
        "\n",
        "    self.examples = []\n",
        "\n",
        "    for train_dir in train_dirs:\n",
        "      train_img_dir_path = self.img_dir + train_dir\n",
        "\n",
        "      file_names = os.listdir(train_img_dir_path)\n",
        "      for file_name in file_names:\n",
        "        img_id = file_name.split(\"_leftImg8bit.png\")[0]\n",
        "        img_path = train_img_dir_path + file_name\n",
        "        label_img_path = self.label_dir + img_id + \".png\"\n",
        "\n",
        "        example = {}\n",
        "        example[\"img_path\"] = img_path\n",
        "        example[\"label_img_path\"] = label_img_path\n",
        "        example[\"img_id\"] = img_id\n",
        "        self.examples.append(example)\n",
        "\n",
        "    self.num_examples = len(self.examples)\n",
        "\n",
        "  def __len__(self):\n",
        "    return self.num_examples\n",
        "\n",
        "  def __getitem__(self, index):\n",
        "    example = self.examples[index]\n",
        "\n",
        "    img_path = example[\"img_path\"]\n",
        "    transform = transf.Resize((256,512), antialias=True)\n",
        "    img = tv.read_image(img_path)\n",
        "    img = transform(img)\n",
        "    img = img.to(torch.float32) / 255.0\n",
        "\n",
        "    label_img_path = example[\"label_img_path\"]\n",
        "    label_img = tv.read_image(label_img_path)\n",
        "    label_img = transform(label_img)\n",
        "    label_img = label_img.to(torch.float32)\n",
        "\n",
        "    return (img, label_img)\n",
        "\n",
        "class DatasetVal(torch.utils.data.Dataset):\n",
        "  def __init__(self, cityscapes_data_path, cityscapes_meta_path):\n",
        "    self.img_dir = cityscapes_data_path + \"/leftImg8bit/val/\"\n",
        "    self.label_dir = cityscapes_meta_path + \"/label_imgs/\"\n",
        "\n",
        "    self.examples = []\n",
        "\n",
        "    for val_dir in val_dirs:\n",
        "      val_img_dir_path = self.img_dir + val_dir\n",
        "\n",
        "      file_names = os.listdir(val_img_dir_path)\n",
        "      for file_name in file_names:\n",
        "        img_id = file_name.split(\"_leftImg8bit.png\")[0]\n",
        "        img_path = val_img_dir_path + file_name\n",
        "        label_img_path = self.label_dir + img_id + \".png\"\n",
        "\n",
        "        example = {}\n",
        "        example[\"img_path\"] = img_path\n",
        "        example[\"label_img_path\"] = label_img_path\n",
        "        example[\"img_id\"] = img_id\n",
        "        self.examples.append(example)\n",
        "\n",
        "    self.num_examples = len(self.examples)\n",
        "\n",
        "  def __len__(self):\n",
        "    return self.num_examples\n",
        "\n",
        "  def __getitem__(self, index):\n",
        "    example = self.examples[index]\n",
        "\n",
        "    img_path = example[\"img_path\"]\n",
        "    \n",
        "    transform = transf.Resize((256,512), antialias=True)\n",
        "    img = tv.read_image(img_path)\n",
        "    img = transform(img)\n",
        "    img = img.to(torch.float32) / 255.0\n",
        "\n",
        "    label_img_path = example[\"label_img_path\"]\n",
        "    label_img = tv.read_image(label_img_path)\n",
        "    label_img = transform(label_img)\n",
        "    label_img = label_img.to(torch.float32)\n",
        "\n",
        "    return (img, label_img)\n",
        "\n",
        "train_dataset = DatasetTrain(cityscapes_data_path=cityscapes_data_path,\n",
        "                             cityscapes_meta_path=cityscapes_meta_path)\n",
        "\n",
        "val_dataset = DatasetVal(cityscapes_data_path=cityscapes_data_path,\n",
        "                         cityscapes_meta_path=cityscapes_meta_path)\n",
        "\n",
        "#################################################################################################################################\n",
        "# Define Attention UNET\n",
        "#################################################################################################################################\n",
        "# Attention Block following the implemention: https://github.com/LeeJunHyun/Image_Segmentation\n",
        "class Attention_block(nn.Module):\n",
        "  def __init__(self,F_g,F_l,F_int):\n",
        "    super(Attention_block,self).__init__()\n",
        "    self.W_g = nn.Sequential(\n",
        "        nn.Conv2d(F_g, F_int, kernel_size=1,stride=1,padding=0,bias=True),\n",
        "        nn.BatchNorm2d(F_int))\n",
        "        \n",
        "    self.W_x = nn.Sequential(\n",
        "        nn.Conv2d(F_l, F_int, kernel_size=1,stride=1,padding=0,bias=True),\n",
        "        nn.BatchNorm2d(F_int))\n",
        "\n",
        "    self.psi = nn.Sequential(\n",
        "        nn.Conv2d(F_int, 1, kernel_size=1,stride=1,padding=0,bias=True),\n",
        "        nn.BatchNorm2d(1),\n",
        "        nn.Sigmoid())\n",
        "        \n",
        "    self.relu = nn.ReLU(inplace=True)\n",
        "        \n",
        "  def forward(self,g,h):\n",
        "    g1 = self.W_g(g)\n",
        "    x1 = self.W_x(h)\n",
        "    psi = self.relu(g1+x1)\n",
        "    psi = self.psi(psi)\n",
        "    return h*psi\n",
        "\n",
        "class DoubleConv(nn.Module):\n",
        "  def __init__(self, in_channels, out_channels):\n",
        "    super(DoubleConv, self).__init__()\n",
        "    self.conv = nn.Sequential(\n",
        "      nn.Conv2d(in_channels, out_channels, kernel_size=3, stride=1, padding=1, bias=False),\n",
        "      nn.BatchNorm2d(out_channels),\n",
        "      nn.ReLU(inplace=True),\n",
        "      nn.Conv2d(out_channels, out_channels, kernel_size=3, stride=1, padding=1, bias=False),\n",
        "      nn.BatchNorm2d(out_channels),\n",
        "      nn.ReLU(inplace=True),\n",
        "      )\n",
        "    \n",
        "  def forward(self, x):\n",
        "    return self.conv(x)\n",
        "\n",
        "class UNet(nn.Module):\n",
        "  def __init__(self, in_channels, out_channels, inter_channels=[64, 128, 256, 512]):\n",
        "    super(UNet, self).__init__()\n",
        "    self.pool = nn.MaxPool2d(kernel_size=2, stride=2, padding=0)\n",
        "\n",
        "    # Encoder - Contracting path (down path)\n",
        "    self.e1 = DoubleConv(in_channels, inter_channels[0])\n",
        "    self.e2 = DoubleConv(inter_channels[0], inter_channels[1])\n",
        "    self.e3 = DoubleConv(inter_channels[1], inter_channels[2])\n",
        "    self.e4 = DoubleConv(inter_channels[2], inter_channels[3])\n",
        "\n",
        "    # Bottom part of the network\n",
        "    self.bottom = DoubleConv(inter_channels[-1], inter_channels[-1]*2)\n",
        "\n",
        "    # Decoder - Expansive path (up path)\n",
        "    rev_channels = inter_channels[::-1]\n",
        "    self.d4_T = nn.ConvTranspose2d(rev_channels[0]*2, rev_channels[0], kernel_size=2, stride=2, padding=0)\n",
        "    self.att4 = Attention_block(F_g=rev_channels[0], F_l=rev_channels[0], F_int=rev_channels[1])\n",
        "    self.d4_C = DoubleConv(rev_channels[0]*2, rev_channels[0])\n",
        "    self.d3_T = nn.ConvTranspose2d(rev_channels[0], rev_channels[1], kernel_size=2, stride=2, padding=0)\n",
        "    self.att3 = Attention_block(F_g=rev_channels[1], F_l=rev_channels[1], F_int=rev_channels[2])\n",
        "    self.d3_C = DoubleConv(rev_channels[0], rev_channels[1])\n",
        "    self.d2_T = nn.ConvTranspose2d(rev_channels[1], rev_channels[2], kernel_size=2, stride=2, padding=0)\n",
        "    self.att2 = Attention_block(F_g=rev_channels[2], F_l=rev_channels[2], F_int=rev_channels[3])\n",
        "    self.d2_C = DoubleConv(rev_channels[1], rev_channels[2])\n",
        "    self.d1_T = nn.ConvTranspose2d(rev_channels[2], rev_channels[3], kernel_size=2, stride=2, padding=0)\n",
        "    self.att1 = Attention_block(F_g=rev_channels[3], F_l=rev_channels[3], F_int=rev_channels[3]//2)\n",
        "    self.d1_C = DoubleConv(rev_channels[2], rev_channels[3])\n",
        "\n",
        "    # Final convolution\n",
        "    self.output = nn.Conv2d(rev_channels[3], out_channels, kernel_size=1)\n",
        "\n",
        "  def forward(self, x):\n",
        "    x1 = self.e1(x)\n",
        "    x = self.pool(x1)\n",
        "    x2 = self.e2(x)\n",
        "    x = self.pool(x2)\n",
        "    x3 = self.e3(x)\n",
        "    x = self.pool(x3)\n",
        "    x4 = self.e4(x)\n",
        "    x = self.pool(x4)\n",
        "\n",
        "    x_bottom = self.bottom(x)\n",
        "\n",
        "    x = self.d4_T(x_bottom)\n",
        "    x4 = self.att4(g=x, h=x4)\n",
        "    x = torch.cat((x4, x), dim=1)\n",
        "    x = self.d4_C(x)\n",
        "\n",
        "    x = self.d3_T(x)\n",
        "    x3 = self.att3(g=x, h=x3)\n",
        "    x = torch.cat((x3, x), dim=1)\n",
        "    x = self.d3_C(x)\n",
        "\n",
        "    x = self.d2_T(x)\n",
        "    x2 = self.att2(g=x, h=x2)\n",
        "    x = torch.cat((x2, x), dim=1)\n",
        "    x = self.d2_C(x)\n",
        "\n",
        "    x = self.d1_T(x)\n",
        "    x1 = self.att1(g=x, h=x1)\n",
        "    x = torch.cat((x1, x), dim=1)\n",
        "    x = self.d1_C(x)\n",
        "    \n",
        "    x = self.output(x)\n",
        "    return x\n",
        "\n",
        "#################################################################################################################################\n",
        "# Define data loader, load model, hyper-parameters and metrics\n",
        "#################################################################################################################################\n",
        "train_loader = DataLoader(train_dataset, batch_size=16, shuffle=True)\n",
        "val_loader = DataLoader(val_dataset, batch_size=16, shuffle=False)\n",
        "\n",
        "device = 'cuda' if torch.cuda.is_available() else 'cpu'\n",
        "\n",
        "# model\n",
        "model = UNet(3, 20, [64, 128, 256, 512]).to(device)\n",
        "# Loss Function\n",
        "n_classes = 20\n",
        "loss_fn = nn.CrossEntropyLoss()\n",
        "# Optimizer\n",
        "optimizer = torch.optim.AdamW(model.parameters(), lr=0.01)\n",
        "scheduler = ReduceLROnPlateau(optimizer, mode='min', factor=0.5, patience=3, min_lr= 0.00125, verbose=True)\n",
        "lr = []\n",
        "\n",
        "jaccard_micro = torchmetrics.JaccardIndex(task=\"multiclass\", num_classes=20, average=\"micro\").to(device)\n",
        "jaccard_macro = torchmetrics.JaccardIndex(task=\"multiclass\", num_classes=20, average=\"macro\").to(device)\n",
        "jaccard_weighted = torchmetrics.JaccardIndex(task=\"multiclass\", num_classes=20, average=\"weighted\").to(device)\n",
        "jaccard_none = torchmetrics.JaccardIndex(task=\"multiclass\", num_classes=20, average=None).to(device)\n",
        "\n",
        "epochs = 50\n",
        "\n",
        "len_train = len(train_loader)\n",
        "len_val = len(val_loader)\n",
        "\n",
        "train_loss_per_epoch_avg = []\n",
        "train_jaccard_micro_per_epoch_avg = []\n",
        "train_jaccard_macro_per_epoch_avg = []\n",
        "train_jaccard_weighted_per_epoch_avg = []\n",
        "train_jaccard_none_per_epoch_avg = []\n",
        "\n",
        "val_loss_per_epoch_avg = []\n",
        "val_jaccard_micro_per_epoch_avg = []\n",
        "val_jaccard_macro_per_epoch_avg = []\n",
        "val_jaccard_weighted_per_epoch_avg = []\n",
        "val_jaccard_none_per_epoch_avg = []\n",
        "\n",
        "best_val_loss = float('inf')\n",
        "\n",
        "folder_path = \"/content/drive/MyDrive/Cityscapes_data/256x512_4_batches/unet_att/\"\n",
        "\n",
        "for e in range(epochs):\n",
        "  train_loss_total = 0\n",
        "  train_jaccard_micro_total=0\n",
        "  train_jaccard_macro_total=0\n",
        "  train_jaccard_weighted_total=0\n",
        "  train_jaccard_none_total=0\n",
        "\n",
        "  val_loss_total = 0\n",
        "  val_jaccard_micro_total=0\n",
        "  val_jaccard_macro_total=0\n",
        "  val_jaccard_weighted_total=0\n",
        "  val_jaccard_none_total=0\n",
        "\n",
        "  model.train()\n",
        "\n",
        "  print(\"Epoch: {}\".format(e+1))\n",
        "\n",
        "#################################################################################################################################\n",
        "# Training and validation loops\n",
        "#################################################################################################################################\n",
        "  # training\n",
        "  for batch, (image, label) in enumerate(tqdm(train_loader)):\n",
        "    optimizer.zero_grad()\n",
        "    image = image.to(device)\n",
        "    label = label.to(device)\n",
        "    output = model(image)\n",
        "\n",
        "    loss = loss_fn(output.to(torch.float32), torch.squeeze(label, 1).long())\n",
        "    loss.backward()\n",
        "    optimizer.step()\n",
        "    train_loss_total += loss.item()\n",
        "\n",
        "    x = torch.softmax(output, dim=1)\n",
        "    index = torch.argmax(x, dim=1)\n",
        "    y = torch.unsqueeze(index, dim=1)\n",
        "    train_jaccard_micro_total += jaccard_micro(y, label)\n",
        "    train_jaccard_macro_total += jaccard_macro(y, label)\n",
        "    train_jaccard_weighted_total += jaccard_weighted(y, label)\n",
        "    train_jaccard_none_total += jaccard_none(y, label)\n",
        "    \n",
        "  train_loss_per_epoch_avg.append(train_loss_total/len_train)\n",
        "  print(\"Epoch: {}, Average train loss per epoch: {}\".format(e+1, train_loss_per_epoch_avg[e]))\n",
        "  train_jaccard_micro_per_epoch_avg.append(train_jaccard_micro_total/len_train)\n",
        "  print(\"Epoch: {}, Average train jaccard_micro coeff per epoch: {}\".format(e+1, train_jaccard_micro_per_epoch_avg[e]))\n",
        "  train_jaccard_macro_per_epoch_avg.append(train_jaccard_macro_total/len_train)\n",
        "  print(\"Epoch: {}, Average train jaccard_macro coeff per epoch: {}\".format(e+1, train_jaccard_macro_per_epoch_avg[e]))\n",
        "  train_jaccard_weighted_per_epoch_avg.append(train_jaccard_weighted_total/len_train)\n",
        "  print(\"Epoch: {}, Average train jaccard_weighted coeff per epoch: {}\".format(e+1, train_jaccard_weighted_per_epoch_avg[e]))\n",
        "  train_jaccard_none_per_epoch_avg.append(train_jaccard_none_total/len_train)\n",
        "  print(\"Epoch: {}, Average train jaccard_none coeff per epoch: {}\".format(e+1, train_jaccard_none_per_epoch_avg[e]))\n",
        "\n",
        "  train_loss_total = 0\n",
        "  train_jaccard_micro_total = 0\n",
        "  train_jaccard_macro_total = 0\n",
        "  train_jaccard_weighted_total = 0\n",
        "  train_jaccard_none_total = 0\n",
        "\n",
        "  torch.save(model, folder_path + \"city_unet.pth\")\n",
        "  file = open(folder_path + 'train_loss.txt','w')\n",
        "  for item in train_loss_per_epoch_avg:\n",
        "\t  file.write(str(item)+\"\\n\")\n",
        "  file.close()\n",
        "\n",
        "  torch.save(train_jaccard_micro_per_epoch_avg, folder_path + \"train_jaccard_micro_per_epoch_avg.pth\")\n",
        "  torch.save(train_jaccard_macro_per_epoch_avg, folder_path + \"train_jaccard_macro_per_epoch_avg.pth\")\n",
        "  torch.save(train_jaccard_weighted_per_epoch_avg, folder_path + \"train_jaccard_weighted_per_epoch_avg.pth\")\n",
        "  torch.save(train_jaccard_none_per_epoch_avg, folder_path + \"train_jaccard_none_per_epoch_avg.pth\")\n",
        "\n",
        "\n",
        "  # validating\n",
        "  with torch.no_grad():\n",
        "    model.eval()\n",
        "    for batch, (image, label) in enumerate(tqdm(val_loader)):\n",
        "      image = image.to(device)\n",
        "      label = label.to(device)\n",
        "      output = model(image)\n",
        "\n",
        "      loss = loss_fn(output.to(torch.float32), torch.squeeze(label, 1).long())\n",
        "      val_loss_total += loss.item()\n",
        "\n",
        "      x = torch.softmax(output, dim=1)\n",
        "      index = torch.argmax(x, dim=1)\n",
        "      y = torch.unsqueeze(index, dim=1)\n",
        "      val_jaccard_micro_total += jaccard_micro(y, label)\n",
        "      val_jaccard_macro_total += jaccard_macro(y, label)\n",
        "      val_jaccard_weighted_total += jaccard_weighted(y, label)\n",
        "      val_jaccard_none_total += jaccard_none(y, label)\n",
        "\n",
        "  scheduler.step(val_loss_total)\n",
        "  print('epoch={}, learning rate={:.4f}'.format(e, optimizer.state_dict()['param_groups'][0]['lr']))\n",
        "  lr.append(optimizer.state_dict()['param_groups'][0]['lr'])\n",
        "\n",
        "  if val_loss_total < best_val_loss:\n",
        "    torch.save(model.state_dict(), folder_path + 'best_weights.pth')\n",
        "    best_val_loss = val_loss_total\n",
        "\n",
        "  val_loss_per_epoch_avg.append(val_loss_total/len_val)\n",
        "  print(\"Epoch: {}, Average val loss per epoch: {}\".format(e+1, val_loss_per_epoch_avg[e]))\n",
        "  val_jaccard_micro_per_epoch_avg.append(val_jaccard_micro_total/len_val)\n",
        "  print(\"Epoch: {}, Average val jaccard_micro coeff per epoch: {}\".format(e+1, val_jaccard_micro_per_epoch_avg[e]))\n",
        "  val_jaccard_macro_per_epoch_avg.append(val_jaccard_macro_total/len_val)\n",
        "  print(\"Epoch: {}, Average val jaccard_macro coeff per epoch: {}\".format(e+1, val_jaccard_macro_per_epoch_avg[e]))\n",
        "  val_jaccard_weighted_per_epoch_avg.append(val_jaccard_weighted_total/len_val)\n",
        "  print(\"Epoch: {}, Average val jaccard_weighted coeff per epoch: {}\".format(e+1, val_jaccard_weighted_per_epoch_avg[e]))\n",
        "  val_jaccard_none_per_epoch_avg.append(val_jaccard_none_total/len_val)\n",
        "  print(\"Epoch: {}, Average val jaccard_none coeff per epoch: {}\".format(e+1, val_jaccard_none_per_epoch_avg[e]))\n",
        "\n",
        "  val_loss_total = 0\n",
        "  val_jaccard_micro_total = 0\n",
        "  val_jaccard_macro_total = 0\n",
        "  val_jaccard_weighted_total = 0\n",
        "  val_jaccard_none_total = 0\n",
        "\n",
        "  file = open(folder_path + 'val_loss.txt','w')\n",
        "  for item in val_loss_per_epoch_avg:\n",
        "\t  file.write(str(item)+\"\\n\")\n",
        "  file.close()\n",
        "\n",
        "  file = open(folder_path + 'lr.txt','w')\n",
        "  for item in lr:\n",
        "\t  file.write(str(item)+\"\\n\")\n",
        "  file.close()\n",
        "\n",
        "  torch.save(val_jaccard_micro_per_epoch_avg, folder_path + \"val_jaccard_micro_per_epoch_avg.pth\")\n",
        "  torch.save(val_jaccard_macro_per_epoch_avg, folder_path + \"/val_jaccard_macro_per_epoch_avg.pth\")\n",
        "  torch.save(val_jaccard_weighted_per_epoch_avg, folder_path + \"/val_jaccard_weighted_per_epoch_avg.pth\")\n",
        "  torch.save(val_jaccard_none_per_epoch_avg, folder_path + \"/val_jaccard_none_per_epoch_avg.pth\")"
      ],
      "metadata": {
        "id": "Gpg6TNxtc5Hm",
        "colab": {
          "base_uri": "https://localhost:8080/"
        },
        "outputId": "f3afeeba-f6f3-46c1-cc44-014735328742"
      },
      "execution_count": null,
      "outputs": [
        {
          "output_type": "stream",
          "name": "stdout",
          "text": [
            "Epoch: 1\n"
          ]
        },
        {
          "output_type": "stream",
          "name": "stderr",
          "text": [
            "100%|██████████| 170/170 [1:11:07<00:00, 25.10s/it]\n"
          ]
        },
        {
          "output_type": "stream",
          "name": "stdout",
          "text": [
            "Epoch: 1, Average train loss per epoch: 1.2243447913843042\n",
            "Epoch: 1, Average train jaccard_micro coeff per epoch: 0.47159281373023987\n",
            "Epoch: 1, Average train jaccard_macro coeff per epoch: 0.1478806883096695\n",
            "Epoch: 1, Average train jaccard_weighted coeff per epoch: 0.4594916105270386\n",
            "Epoch: 1, Average train jaccard_none coeff per epoch: tensor([3.2479e-01, 6.7843e-01, 3.6821e-02, 4.5952e-01, 8.0040e-05, 2.3468e-05,\n",
            "        3.1201e-04, 9.1892e-06, 4.4360e-06, 5.5138e-01, 9.0769e-02, 6.4443e-01,\n",
            "        4.0745e-05, 7.2811e-06, 1.7098e-01, 1.7739e-06, 4.9808e-06, 1.1470e-06,\n",
            "        5.1730e-06, 1.1707e-05], device='cuda:0')\n"
          ]
        },
        {
          "output_type": "stream",
          "name": "stderr",
          "text": [
            "100%|██████████| 32/32 [13:20<00:00, 25.02s/it]\n"
          ]
        },
        {
          "output_type": "stream",
          "name": "stdout",
          "text": [
            "epoch=0, learning rate=0.0100\n",
            "Epoch: 1, Average val loss per epoch: 1.1747315917164087\n",
            "Epoch: 1, Average val jaccard_micro coeff per epoch: 0.49705609679222107\n",
            "Epoch: 1, Average val jaccard_macro coeff per epoch: 0.1538718193769455\n",
            "Epoch: 1, Average val jaccard_weighted coeff per epoch: 0.5069102644920349\n",
            "Epoch: 1, Average val jaccard_none coeff per epoch: tensor([0.4826, 0.7018, 0.0454, 0.5012, 0.0000, 0.0000, 0.0295, 0.0000, 0.0000,\n",
            "        0.6172, 0.1374, 0.2995, 0.0000, 0.0000, 0.2629, 0.0000, 0.0000, 0.0000,\n",
            "        0.0000, 0.0000], device='cuda:0')\n",
            "Epoch: 2\n"
          ]
        },
        {
          "output_type": "stream",
          "name": "stderr",
          "text": [
            "100%|██████████| 170/170 [04:49<00:00,  1.70s/it]\n"
          ]
        },
        {
          "output_type": "stream",
          "name": "stdout",
          "text": [
            "Epoch: 2, Average train loss per epoch: 0.9417337256319382\n",
            "Epoch: 2, Average train jaccard_micro coeff per epoch: 0.5676307082176208\n",
            "Epoch: 2, Average train jaccard_macro coeff per epoch: 0.20800040662288666\n",
            "Epoch: 2, Average train jaccard_weighted coeff per epoch: 0.5719221830368042\n",
            "Epoch: 2, Average train jaccard_none coeff per epoch: tensor([5.0318e-01, 7.6914e-01, 2.0505e-01, 5.7159e-01, 0.0000e+00, 0.0000e+00,\n",
            "        5.4450e-02, 6.0400e-07, 4.9207e-02, 6.5104e-01, 2.4092e-01, 7.2997e-01,\n",
            "        1.0008e-03, 0.0000e+00, 3.8447e-01, 0.0000e+00, 0.0000e+00, 0.0000e+00,\n",
            "        0.0000e+00, 0.0000e+00], device='cuda:0')\n"
          ]
        },
        {
          "output_type": "stream",
          "name": "stderr",
          "text": [
            "100%|██████████| 32/32 [00:48<00:00,  1.50s/it]\n"
          ]
        },
        {
          "output_type": "stream",
          "name": "stdout",
          "text": [
            "epoch=1, learning rate=0.0100\n",
            "Epoch: 2, Average val loss per epoch: 1.3105397000908852\n",
            "Epoch: 2, Average val jaccard_micro coeff per epoch: 0.4688590168952942\n",
            "Epoch: 2, Average val jaccard_macro coeff per epoch: 0.1397933065891266\n",
            "Epoch: 2, Average val jaccard_weighted coeff per epoch: 0.48595479130744934\n",
            "Epoch: 2, Average val jaccard_none coeff per epoch: tensor([0.4070, 0.7301, 0.1882, 0.4446, 0.0000, 0.0000, 0.0688, 0.0000, 0.0026,\n",
            "        0.5620, 0.1138, 0.0274, 0.0012, 0.0000, 0.2502, 0.0000, 0.0000, 0.0000,\n",
            "        0.0000, 0.0000], device='cuda:0')\n",
            "Epoch: 3\n"
          ]
        },
        {
          "output_type": "stream",
          "name": "stderr",
          "text": [
            "100%|██████████| 170/170 [04:50<00:00,  1.71s/it]\n"
          ]
        },
        {
          "output_type": "stream",
          "name": "stdout",
          "text": [
            "Epoch: 3, Average train loss per epoch: 0.8326594107291277\n",
            "Epoch: 3, Average train jaccard_micro coeff per epoch: 0.6160110235214233\n",
            "Epoch: 3, Average train jaccard_macro coeff per epoch: 0.23486781120300293\n",
            "Epoch: 3, Average train jaccard_weighted coeff per epoch: 0.6201640367507935\n",
            "Epoch: 3, Average train jaccard_none coeff per epoch: tensor([5.3677e-01, 8.0437e-01, 3.1432e-01, 6.2877e-01, 8.3325e-06, 4.1686e-04,\n",
            "        7.8142e-02, 0.0000e+00, 7.8164e-02, 6.9359e-01, 2.5868e-01, 7.6897e-01,\n",
            "        3.6317e-02, 0.0000e+00, 4.9867e-01, 0.0000e+00, 0.0000e+00, 0.0000e+00,\n",
            "        0.0000e+00, 1.6341e-04], device='cuda:0')\n"
          ]
        },
        {
          "output_type": "stream",
          "name": "stderr",
          "text": [
            "100%|██████████| 32/32 [00:48<00:00,  1.51s/it]\n"
          ]
        },
        {
          "output_type": "stream",
          "name": "stdout",
          "text": [
            "epoch=2, learning rate=0.0100\n",
            "Epoch: 3, Average val loss per epoch: 0.9840679466724396\n",
            "Epoch: 3, Average val jaccard_micro coeff per epoch: 0.5708737373352051\n",
            "Epoch: 3, Average val jaccard_macro coeff per epoch: 0.20623627305030823\n",
            "Epoch: 3, Average val jaccard_weighted coeff per epoch: 0.5781639218330383\n",
            "Epoch: 3, Average val jaccard_none coeff per epoch: tensor([5.4916e-01, 7.8346e-01, 2.9038e-01, 5.3873e-01, 3.6619e-04, 2.9929e-03,\n",
            "        9.0821e-02, 0.0000e+00, 5.2303e-02, 5.8999e-01, 1.6303e-01, 5.6680e-01,\n",
            "        4.4348e-02, 0.0000e+00, 4.5221e-01, 0.0000e+00, 0.0000e+00, 0.0000e+00,\n",
            "        0.0000e+00, 1.1921e-04], device='cuda:0')\n",
            "Epoch: 4\n"
          ]
        },
        {
          "output_type": "stream",
          "name": "stderr",
          "text": [
            "100%|██████████| 170/170 [04:50<00:00,  1.71s/it]\n"
          ]
        },
        {
          "output_type": "stream",
          "name": "stdout",
          "text": [
            "Epoch: 4, Average train loss per epoch: 0.7693741879042457\n",
            "Epoch: 4, Average train jaccard_micro coeff per epoch: 0.6418953537940979\n",
            "Epoch: 4, Average train jaccard_macro coeff per epoch: 0.25150397419929504\n",
            "Epoch: 4, Average train jaccard_weighted coeff per epoch: 0.6469785571098328\n",
            "Epoch: 4, Average train jaccard_none coeff per epoch: tensor([5.6111e-01, 8.2950e-01, 3.8042e-01, 6.5276e-01, 1.1101e-03, 4.4602e-04,\n",
            "        8.3142e-02, 0.0000e+00, 8.2924e-02, 7.0634e-01, 2.6236e-01, 7.9646e-01,\n",
            "        1.0247e-01, 0.0000e+00, 5.6760e-01, 0.0000e+00, 0.0000e+00, 0.0000e+00,\n",
            "        0.0000e+00, 3.4323e-03], device='cuda:0')\n"
          ]
        },
        {
          "output_type": "stream",
          "name": "stderr",
          "text": [
            "100%|██████████| 32/32 [00:48<00:00,  1.51s/it]\n"
          ]
        },
        {
          "output_type": "stream",
          "name": "stdout",
          "text": [
            "epoch=3, learning rate=0.0100\n",
            "Epoch: 4, Average val loss per epoch: 1.456444799900055\n",
            "Epoch: 4, Average val jaccard_micro coeff per epoch: 0.4098888337612152\n",
            "Epoch: 4, Average val jaccard_macro coeff per epoch: 0.13073204457759857\n",
            "Epoch: 4, Average val jaccard_weighted coeff per epoch: 0.42736226320266724\n",
            "Epoch: 4, Average val jaccard_none coeff per epoch: tensor([4.6521e-01, 5.1423e-01, 1.5544e-01, 4.6236e-01, 6.3088e-03, 5.8193e-05,\n",
            "        1.0383e-01, 0.0000e+00, 7.9442e-03, 6.6376e-01, 9.5490e-02, 9.3427e-03,\n",
            "        2.0766e-02, 0.0000e+00, 1.0913e-01, 0.0000e+00, 0.0000e+00, 0.0000e+00,\n",
            "        0.0000e+00, 7.7838e-04], device='cuda:0')\n",
            "Epoch: 5\n"
          ]
        },
        {
          "output_type": "stream",
          "name": "stderr",
          "text": [
            "100%|██████████| 170/170 [04:51<00:00,  1.71s/it]\n"
          ]
        },
        {
          "output_type": "stream",
          "name": "stdout",
          "text": [
            "Epoch: 5, Average train loss per epoch: 0.7225496579619015\n",
            "Epoch: 5, Average train jaccard_micro coeff per epoch: 0.6624720692634583\n",
            "Epoch: 5, Average train jaccard_macro coeff per epoch: 0.26609447598457336\n",
            "Epoch: 5, Average train jaccard_weighted coeff per epoch: 0.6684234142303467\n",
            "Epoch: 5, Average train jaccard_none coeff per epoch: tensor([0.5761, 0.8468, 0.4290, 0.6748, 0.0075, 0.0012, 0.0983, 0.0016, 0.0940,\n",
            "        0.7267, 0.2836, 0.7844, 0.1685, 0.0000, 0.6120, 0.0000, 0.0000, 0.0000,\n",
            "        0.0000, 0.0173], device='cuda:0')\n"
          ]
        },
        {
          "output_type": "stream",
          "name": "stderr",
          "text": [
            "100%|██████████| 32/32 [00:48<00:00,  1.52s/it]\n"
          ]
        },
        {
          "output_type": "stream",
          "name": "stdout",
          "text": [
            "epoch=4, learning rate=0.0100\n",
            "Epoch: 5, Average val loss per epoch: 0.8146440126001835\n",
            "Epoch: 5, Average val jaccard_micro coeff per epoch: 0.6241065859794617\n",
            "Epoch: 5, Average val jaccard_macro coeff per epoch: 0.2499719262123108\n",
            "Epoch: 5, Average val jaccard_weighted coeff per epoch: 0.6394386887550354\n",
            "Epoch: 5, Average val jaccard_none coeff per epoch: tensor([5.5777e-01, 8.1934e-01, 4.0844e-01, 6.0523e-01, 5.1514e-03, 0.0000e+00,\n",
            "        1.2854e-01, 2.2190e-03, 7.0275e-02, 7.2334e-01, 1.8586e-01, 7.3493e-01,\n",
            "        1.5411e-01, 0.0000e+00, 5.7895e-01, 2.3516e-06, 0.0000e+00, 0.0000e+00,\n",
            "        0.0000e+00, 2.5256e-02], device='cuda:0')\n",
            "Epoch: 6\n"
          ]
        },
        {
          "output_type": "stream",
          "name": "stderr",
          "text": [
            "100%|██████████| 170/170 [04:51<00:00,  1.71s/it]\n"
          ]
        },
        {
          "output_type": "stream",
          "name": "stdout",
          "text": [
            "Epoch: 6, Average train loss per epoch: 0.6662269704482134\n",
            "Epoch: 6, Average train jaccard_micro coeff per epoch: 0.6844058632850647\n",
            "Epoch: 6, Average train jaccard_macro coeff per epoch: 0.28343573212623596\n",
            "Epoch: 6, Average train jaccard_weighted coeff per epoch: 0.6911486387252808\n",
            "Epoch: 6, Average train jaccard_none coeff per epoch: tensor([5.9738e-01, 8.6707e-01, 4.7286e-01, 6.9433e-01, 1.3774e-02, 2.5558e-03,\n",
            "        1.2393e-01, 1.3934e-02, 1.0487e-01, 7.5149e-01, 2.9942e-01, 8.1285e-01,\n",
            "        2.0759e-01, 0.0000e+00, 6.5882e-01, 2.5482e-04, 0.0000e+00, 6.5437e-06,\n",
            "        0.0000e+00, 4.7587e-02], device='cuda:0')\n"
          ]
        },
        {
          "output_type": "stream",
          "name": "stderr",
          "text": [
            "100%|██████████| 32/32 [00:48<00:00,  1.51s/it]\n"
          ]
        },
        {
          "output_type": "stream",
          "name": "stdout",
          "text": [
            "epoch=5, learning rate=0.0100\n",
            "Epoch: 6, Average val loss per epoch: 0.9891884028911591\n",
            "Epoch: 6, Average val jaccard_micro coeff per epoch: 0.5134008526802063\n",
            "Epoch: 6, Average val jaccard_macro coeff per epoch: 0.239455446600914\n",
            "Epoch: 6, Average val jaccard_weighted coeff per epoch: 0.5546945929527283\n",
            "Epoch: 6, Average val jaccard_none coeff per epoch: tensor([5.8206e-01, 5.3967e-01, 2.1162e-01, 6.5001e-01, 1.4759e-02, 1.7738e-05,\n",
            "        1.6415e-01, 1.5329e-02, 9.5336e-02, 7.4330e-01, 2.2619e-01, 7.4087e-01,\n",
            "        1.5339e-01, 0.0000e+00, 5.7505e-01, 0.0000e+00, 0.0000e+00, 0.0000e+00,\n",
            "        0.0000e+00, 7.7366e-02], device='cuda:0')\n",
            "Epoch: 7\n"
          ]
        },
        {
          "output_type": "stream",
          "name": "stderr",
          "text": [
            "100%|██████████| 170/170 [04:51<00:00,  1.71s/it]\n"
          ]
        },
        {
          "output_type": "stream",
          "name": "stdout",
          "text": [
            "Epoch: 7, Average train loss per epoch: 0.6322608654989915\n",
            "Epoch: 7, Average train jaccard_micro coeff per epoch: 0.6982187032699585\n",
            "Epoch: 7, Average train jaccard_macro coeff per epoch: 0.2954860031604767\n",
            "Epoch: 7, Average train jaccard_weighted coeff per epoch: 0.705380916595459\n",
            "Epoch: 7, Average train jaccard_none coeff per epoch: tensor([6.1004e-01, 8.7707e-01, 5.0608e-01, 7.0711e-01, 1.8461e-02, 3.1022e-03,\n",
            "        1.4373e-01, 2.2778e-02, 1.1460e-01, 7.6834e-01, 3.1317e-01, 8.2247e-01,\n",
            "        2.3437e-01, 3.1883e-06, 6.8917e-01, 0.0000e+00, 0.0000e+00, 2.9332e-04,\n",
            "        0.0000e+00, 7.8924e-02], device='cuda:0')\n"
          ]
        },
        {
          "output_type": "stream",
          "name": "stderr",
          "text": [
            "100%|██████████| 32/32 [00:48<00:00,  1.52s/it]\n"
          ]
        },
        {
          "output_type": "stream",
          "name": "stdout",
          "text": [
            "epoch=6, learning rate=0.0100\n",
            "Epoch: 7, Average val loss per epoch: 0.8029589857906103\n",
            "Epoch: 7, Average val jaccard_micro coeff per epoch: 0.6276696920394897\n",
            "Epoch: 7, Average val jaccard_macro coeff per epoch: 0.2604549825191498\n",
            "Epoch: 7, Average val jaccard_weighted coeff per epoch: 0.6457536816596985\n",
            "Epoch: 7, Average val jaccard_none coeff per epoch: tensor([0.5811, 0.7891, 0.3714, 0.6671, 0.0169, 0.0014, 0.1486, 0.0290, 0.0515,\n",
            "        0.7225, 0.1803, 0.7134, 0.1848, 0.0000, 0.6092, 0.0000, 0.0000, 0.0000,\n",
            "        0.0000, 0.1430], device='cuda:0')\n",
            "Epoch: 8\n"
          ]
        },
        {
          "output_type": "stream",
          "name": "stderr",
          "text": [
            "100%|██████████| 170/170 [04:51<00:00,  1.72s/it]\n"
          ]
        },
        {
          "output_type": "stream",
          "name": "stdout",
          "text": [
            "Epoch: 8, Average train loss per epoch: 0.6191419899463654\n",
            "Epoch: 8, Average train jaccard_micro coeff per epoch: 0.7029133439064026\n",
            "Epoch: 8, Average train jaccard_macro coeff per epoch: 0.3014310598373413\n",
            "Epoch: 8, Average train jaccard_weighted coeff per epoch: 0.7104234099388123\n",
            "Epoch: 8, Average train jaccard_none coeff per epoch: tensor([6.1397e-01, 8.8207e-01, 5.1459e-01, 7.0974e-01, 2.4531e-02, 3.7113e-03,\n",
            "        1.5051e-01, 2.6001e-02, 1.2019e-01, 7.7035e-01, 3.1796e-01, 8.3008e-01,\n",
            "        2.5281e-01, 0.0000e+00, 6.9698e-01, 7.1947e-05, 8.5458e-06, 5.9722e-04,\n",
            "        0.0000e+00, 1.1446e-01], device='cuda:0')\n"
          ]
        },
        {
          "output_type": "stream",
          "name": "stderr",
          "text": [
            "100%|██████████| 32/32 [00:48<00:00,  1.52s/it]\n"
          ]
        },
        {
          "output_type": "stream",
          "name": "stdout",
          "text": [
            "epoch=7, learning rate=0.0100\n",
            "Epoch: 8, Average val loss per epoch: 0.7574318777769804\n",
            "Epoch: 8, Average val jaccard_micro coeff per epoch: 0.647459089756012\n",
            "Epoch: 8, Average val jaccard_macro coeff per epoch: 0.2633437216281891\n",
            "Epoch: 8, Average val jaccard_weighted coeff per epoch: 0.663195013999939\n",
            "Epoch: 8, Average val jaccard_none coeff per epoch: tensor([6.0866e-01, 8.4227e-01, 4.0863e-01, 6.2764e-01, 7.2950e-03, 2.8039e-04,\n",
            "        1.2578e-01, 2.7229e-02, 1.1512e-01, 7.2277e-01, 1.9230e-01, 6.6418e-01,\n",
            "        1.9324e-01, 0.0000e+00, 6.5419e-01, 0.0000e+00, 4.8923e-05, 0.0000e+00,\n",
            "        0.0000e+00, 7.7237e-02], device='cuda:0')\n",
            "Epoch: 9\n"
          ]
        },
        {
          "output_type": "stream",
          "name": "stderr",
          "text": [
            "100%|██████████| 170/170 [04:51<00:00,  1.72s/it]\n"
          ]
        },
        {
          "output_type": "stream",
          "name": "stdout",
          "text": [
            "Epoch: 9, Average train loss per epoch: 0.5943901030456319\n",
            "Epoch: 9, Average train jaccard_micro coeff per epoch: 0.7121075987815857\n",
            "Epoch: 9, Average train jaccard_macro coeff per epoch: 0.3088744580745697\n",
            "Epoch: 9, Average train jaccard_weighted coeff per epoch: 0.7201290726661682\n",
            "Epoch: 9, Average train jaccard_none coeff per epoch: tensor([6.1636e-01, 8.9103e-01, 5.3811e-01, 7.2158e-01, 2.8937e-02, 9.5269e-03,\n",
            "        1.6266e-01, 2.8437e-02, 1.2782e-01, 7.7631e-01, 3.2755e-01, 8.2370e-01,\n",
            "        2.5870e-01, 4.6459e-05, 7.2687e-01, 2.5339e-03, 7.6598e-05, 2.9545e-03,\n",
            "        0.0000e+00, 1.3429e-01], device='cuda:0')\n"
          ]
        },
        {
          "output_type": "stream",
          "name": "stderr",
          "text": [
            "100%|██████████| 32/32 [00:48<00:00,  1.52s/it]\n"
          ]
        },
        {
          "output_type": "stream",
          "name": "stdout",
          "text": [
            "epoch=8, learning rate=0.0100\n",
            "Epoch: 9, Average val loss per epoch: 0.6606142316013575\n",
            "Epoch: 9, Average val jaccard_micro coeff per epoch: 0.6899781823158264\n",
            "Epoch: 9, Average val jaccard_macro coeff per epoch: 0.2873731553554535\n",
            "Epoch: 9, Average val jaccard_weighted coeff per epoch: 0.6957067847251892\n",
            "Epoch: 9, Average val jaccard_none coeff per epoch: tensor([6.0573e-01, 8.4940e-01, 4.4802e-01, 7.0049e-01, 2.3709e-02, 6.3835e-05,\n",
            "        1.8035e-01, 2.9217e-02, 9.3502e-02, 8.0382e-01, 2.1379e-01, 7.0707e-01,\n",
            "        2.2047e-01, 4.1980e-06, 6.7385e-01, 0.0000e+00, 0.0000e+00, 7.5942e-04,\n",
            "        0.0000e+00, 1.9723e-01], device='cuda:0')\n",
            "Epoch: 10\n"
          ]
        },
        {
          "output_type": "stream",
          "name": "stderr",
          "text": [
            "100%|██████████| 170/170 [04:52<00:00,  1.72s/it]\n"
          ]
        },
        {
          "output_type": "stream",
          "name": "stdout",
          "text": [
            "Epoch: 10, Average train loss per epoch: 0.5694065707571366\n",
            "Epoch: 10, Average train jaccard_micro coeff per epoch: 0.7196879982948303\n",
            "Epoch: 10, Average train jaccard_macro coeff per epoch: 0.31614023447036743\n",
            "Epoch: 10, Average train jaccard_weighted coeff per epoch: 0.7283615469932556\n",
            "Epoch: 10, Average train jaccard_none coeff per epoch: tensor([6.1869e-01, 8.9742e-01, 5.5629e-01, 7.3092e-01, 3.5372e-02, 1.1248e-02,\n",
            "        1.7117e-01, 3.0819e-02, 1.3276e-01, 7.8816e-01, 3.5322e-01, 8.3079e-01,\n",
            "        2.7345e-01, 1.7423e-04, 7.2630e-01, 3.7530e-03, 1.5132e-04, 1.0835e-02,\n",
            "        0.0000e+00, 1.5128e-01], device='cuda:0')\n"
          ]
        },
        {
          "output_type": "stream",
          "name": "stderr",
          "text": [
            "100%|██████████| 32/32 [00:48<00:00,  1.52s/it]\n"
          ]
        },
        {
          "output_type": "stream",
          "name": "stdout",
          "text": [
            "epoch=9, learning rate=0.0100\n",
            "Epoch: 10, Average val loss per epoch: 0.7314625242725015\n",
            "Epoch: 10, Average val jaccard_micro coeff per epoch: 0.6578983068466187\n",
            "Epoch: 10, Average val jaccard_macro coeff per epoch: 0.269525945186615\n",
            "Epoch: 10, Average val jaccard_weighted coeff per epoch: 0.6752676367759705\n",
            "Epoch: 10, Average val jaccard_none coeff per epoch: tensor([6.1407e-01, 8.5288e-01, 4.4500e-01, 6.1844e-01, 2.8111e-02, 6.4476e-04,\n",
            "        1.6491e-01, 4.2093e-02, 1.1606e-01, 7.8422e-01, 1.6240e-01, 6.7184e-01,\n",
            "        1.7875e-01, 8.4414e-06, 5.9833e-01, 0.0000e+00, 4.5761e-02, 4.9743e-03,\n",
            "        0.0000e+00, 6.2015e-02], device='cuda:0')\n",
            "Epoch: 11\n"
          ]
        },
        {
          "output_type": "stream",
          "name": "stderr",
          "text": [
            "100%|██████████| 170/170 [04:51<00:00,  1.72s/it]\n"
          ]
        },
        {
          "output_type": "stream",
          "name": "stdout",
          "text": [
            "Epoch: 11, Average train loss per epoch: 0.5596720160806881\n",
            "Epoch: 11, Average train jaccard_micro coeff per epoch: 0.7229288816452026\n",
            "Epoch: 11, Average train jaccard_macro coeff per epoch: 0.3217941224575043\n",
            "Epoch: 11, Average train jaccard_weighted coeff per epoch: 0.7318392395973206\n",
            "Epoch: 11, Average train jaccard_none coeff per epoch: tensor([6.2395e-01, 8.9852e-01, 5.6202e-01, 7.2995e-01, 4.0976e-02, 1.9866e-02,\n",
            "        1.7838e-01, 3.3451e-02, 1.4179e-01, 7.8909e-01, 3.4871e-01, 8.4430e-01,\n",
            "        2.9339e-01, 1.3824e-03, 7.4394e-01, 3.1670e-03, 3.1286e-03, 2.1782e-02,\n",
            "        3.4646e-05, 1.5805e-01], device='cuda:0')\n"
          ]
        },
        {
          "output_type": "stream",
          "name": "stderr",
          "text": [
            "100%|██████████| 32/32 [00:48<00:00,  1.52s/it]\n"
          ]
        },
        {
          "output_type": "stream",
          "name": "stdout",
          "text": [
            "epoch=10, learning rate=0.0100\n",
            "Epoch: 11, Average val loss per epoch: 0.7112081237137318\n",
            "Epoch: 11, Average val jaccard_micro coeff per epoch: 0.6699877381324768\n",
            "Epoch: 11, Average val jaccard_macro coeff per epoch: 0.27289581298828125\n",
            "Epoch: 11, Average val jaccard_weighted coeff per epoch: 0.6788319945335388\n",
            "Epoch: 11, Average val jaccard_none coeff per epoch: tensor([5.7211e-01, 8.4971e-01, 4.6607e-01, 6.5239e-01, 7.8364e-03, 9.8918e-03,\n",
            "        1.6696e-01, 4.0478e-02, 1.1516e-01, 7.8178e-01, 1.6988e-01, 7.4288e-01,\n",
            "        1.8663e-01, 2.0682e-05, 6.4963e-01, 0.0000e+00, 1.7309e-02, 1.2436e-02,\n",
            "        0.0000e+00, 1.6735e-02], device='cuda:0')\n",
            "Epoch: 12\n"
          ]
        },
        {
          "output_type": "stream",
          "name": "stderr",
          "text": [
            "100%|██████████| 170/170 [04:51<00:00,  1.72s/it]\n"
          ]
        },
        {
          "output_type": "stream",
          "name": "stdout",
          "text": [
            "Epoch: 12, Average train loss per epoch: 0.5440202949678197\n",
            "Epoch: 12, Average train jaccard_micro coeff per epoch: 0.7284253239631653\n",
            "Epoch: 12, Average train jaccard_macro coeff per epoch: 0.3293452262878418\n",
            "Epoch: 12, Average train jaccard_weighted coeff per epoch: 0.7378625869750977\n",
            "Epoch: 12, Average train jaccard_none coeff per epoch: tensor([6.2751e-01, 9.0409e-01, 5.7552e-01, 7.3818e-01, 4.7745e-02, 3.2906e-02,\n",
            "        1.8758e-01, 3.5762e-02, 1.5366e-01, 7.9303e-01, 3.6013e-01, 8.3841e-01,\n",
            "        3.0844e-01, 4.3217e-03, 7.5403e-01, 1.8641e-03, 1.0102e-02, 4.4246e-02,\n",
            "        3.7837e-04, 1.6899e-01], device='cuda:0')\n"
          ]
        },
        {
          "output_type": "stream",
          "name": "stderr",
          "text": [
            "100%|██████████| 32/32 [00:48<00:00,  1.52s/it]\n"
          ]
        },
        {
          "output_type": "stream",
          "name": "stdout",
          "text": [
            "epoch=11, learning rate=0.0100\n",
            "Epoch: 12, Average val loss per epoch: 0.647282020188868\n",
            "Epoch: 12, Average val jaccard_micro coeff per epoch: 0.6906071901321411\n",
            "Epoch: 12, Average val jaccard_macro coeff per epoch: 0.2971145212650299\n",
            "Epoch: 12, Average val jaccard_weighted coeff per epoch: 0.711295485496521\n",
            "Epoch: 12, Average val jaccard_none coeff per epoch: tensor([6.2891e-01, 8.7452e-01, 5.2062e-01, 7.1110e-01, 3.6172e-02, 2.0135e-02,\n",
            "        1.7561e-01, 3.4283e-02, 9.9740e-02, 8.1333e-01, 2.7102e-01, 7.9203e-01,\n",
            "        1.8774e-01, 4.8245e-03, 5.8781e-01, 0.0000e+00, 2.1242e-02, 4.0446e-04,\n",
            "        7.7275e-06, 1.6280e-01], device='cuda:0')\n",
            "Epoch: 13\n"
          ]
        },
        {
          "output_type": "stream",
          "name": "stderr",
          "text": [
            "100%|██████████| 170/170 [04:51<00:00,  1.71s/it]\n"
          ]
        },
        {
          "output_type": "stream",
          "name": "stdout",
          "text": [
            "Epoch: 13, Average train loss per epoch: 0.5245375741930569\n",
            "Epoch: 13, Average train jaccard_micro coeff per epoch: 0.7359664440155029\n",
            "Epoch: 13, Average train jaccard_macro coeff per epoch: 0.3380367159843445\n",
            "Epoch: 13, Average train jaccard_weighted coeff per epoch: 0.7459656000137329\n",
            "Epoch: 13, Average train jaccard_none coeff per epoch: tensor([0.6294, 0.9071, 0.5953, 0.7504, 0.0643, 0.0487, 0.1996, 0.0413, 0.1635,\n",
            "        0.8004, 0.3707, 0.8545, 0.3198, 0.0067, 0.7627, 0.0019, 0.0084, 0.0481,\n",
            "        0.0012, 0.1867], device='cuda:0')\n"
          ]
        },
        {
          "output_type": "stream",
          "name": "stderr",
          "text": [
            "100%|██████████| 32/32 [00:48<00:00,  1.52s/it]\n"
          ]
        },
        {
          "output_type": "stream",
          "name": "stdout",
          "text": [
            "epoch=12, learning rate=0.0100\n",
            "Epoch: 13, Average val loss per epoch: 0.6018497226759791\n",
            "Epoch: 13, Average val jaccard_micro coeff per epoch: 0.6981662511825562\n",
            "Epoch: 13, Average val jaccard_macro coeff per epoch: 0.30962231755256653\n",
            "Epoch: 13, Average val jaccard_weighted coeff per epoch: 0.71345454454422\n",
            "Epoch: 13, Average val jaccard_none coeff per epoch: tensor([6.1902e-01, 8.6876e-01, 5.0295e-01, 6.8855e-01, 5.8894e-02, 1.9562e-02,\n",
            "        1.6996e-01, 2.9183e-02, 1.0921e-01, 8.0356e-01, 2.3907e-01, 7.9645e-01,\n",
            "        2.7831e-01, 1.7161e-03, 7.6722e-01, 0.0000e+00, 1.9380e-02, 2.3177e-02,\n",
            "        1.5796e-04, 1.9732e-01], device='cuda:0')\n",
            "Epoch: 14\n"
          ]
        },
        {
          "output_type": "stream",
          "name": "stderr",
          "text": [
            "100%|██████████| 170/170 [04:51<00:00,  1.71s/it]\n"
          ]
        },
        {
          "output_type": "stream",
          "name": "stdout",
          "text": [
            "Epoch: 14, Average train loss per epoch: 0.5118872376049266\n",
            "Epoch: 14, Average train jaccard_micro coeff per epoch: 0.7411100268363953\n",
            "Epoch: 14, Average train jaccard_macro coeff per epoch: 0.3473931849002838\n",
            "Epoch: 14, Average train jaccard_weighted coeff per epoch: 0.7509322166442871\n",
            "Epoch: 14, Average train jaccard_none coeff per epoch: tensor([0.6332, 0.9071, 0.5957, 0.7577, 0.0811, 0.0607, 0.2141, 0.0466, 0.1706,\n",
            "        0.8083, 0.3773, 0.8505, 0.3333, 0.0083, 0.7824, 0.0081, 0.0277, 0.0803,\n",
            "        0.0011, 0.2036], device='cuda:0')\n"
          ]
        },
        {
          "output_type": "stream",
          "name": "stderr",
          "text": [
            "100%|██████████| 32/32 [00:48<00:00,  1.51s/it]\n"
          ]
        },
        {
          "output_type": "stream",
          "name": "stdout",
          "text": [
            "epoch=13, learning rate=0.0100\n",
            "Epoch: 14, Average val loss per epoch: 0.7233833409845829\n",
            "Epoch: 14, Average val jaccard_micro coeff per epoch: 0.6762138605117798\n",
            "Epoch: 14, Average val jaccard_macro coeff per epoch: 0.2895050346851349\n",
            "Epoch: 14, Average val jaccard_weighted coeff per epoch: 0.6825997233390808\n",
            "Epoch: 14, Average val jaccard_none coeff per epoch: tensor([5.9483e-01, 8.1306e-01, 3.0884e-01, 7.3069e-01, 1.6086e-02, 3.9098e-02,\n",
            "        2.2452e-01, 4.8848e-02, 1.3197e-01, 8.0686e-01, 2.3303e-01, 7.7619e-01,\n",
            "        2.5805e-01, 6.6134e-05, 6.3266e-01, 4.9043e-03, 5.2870e-02, 7.1096e-03,\n",
            "        8.5412e-04, 1.0957e-01], device='cuda:0')\n",
            "Epoch: 15\n"
          ]
        },
        {
          "output_type": "stream",
          "name": "stderr",
          "text": [
            "100%|██████████| 170/170 [04:50<00:00,  1.71s/it]\n"
          ]
        },
        {
          "output_type": "stream",
          "name": "stdout",
          "text": [
            "Epoch: 15, Average train loss per epoch: 0.491397232167861\n",
            "Epoch: 15, Average train jaccard_micro coeff per epoch: 0.7485182285308838\n",
            "Epoch: 15, Average train jaccard_macro coeff per epoch: 0.3572082221508026\n",
            "Epoch: 15, Average train jaccard_weighted coeff per epoch: 0.7594194412231445\n",
            "Epoch: 15, Average train jaccard_none coeff per epoch: tensor([0.6436, 0.9137, 0.6143, 0.7649, 0.0766, 0.1004, 0.2292, 0.0553, 0.1820,\n",
            "        0.8142, 0.3861, 0.8538, 0.3505, 0.0080, 0.7941, 0.0145, 0.0288, 0.0993,\n",
            "        0.0022, 0.2128], device='cuda:0')\n"
          ]
        },
        {
          "output_type": "stream",
          "name": "stderr",
          "text": [
            "100%|██████████| 32/32 [00:48<00:00,  1.51s/it]\n"
          ]
        },
        {
          "output_type": "stream",
          "name": "stdout",
          "text": [
            "epoch=14, learning rate=0.0100\n",
            "Epoch: 15, Average val loss per epoch: 0.6150794653221965\n",
            "Epoch: 15, Average val jaccard_micro coeff per epoch: 0.7022144794464111\n",
            "Epoch: 15, Average val jaccard_macro coeff per epoch: 0.31577587127685547\n",
            "Epoch: 15, Average val jaccard_weighted coeff per epoch: 0.7148917317390442\n",
            "Epoch: 15, Average val jaccard_none coeff per epoch: tensor([6.1467e-01, 8.6339e-01, 5.0423e-01, 7.2015e-01, 4.1452e-02, 6.1179e-02,\n",
            "        2.2040e-01, 4.0967e-02, 1.6486e-01, 8.0036e-01, 2.5244e-01, 7.1825e-01,\n",
            "        2.6328e-01, 8.2856e-03, 7.2931e-01, 9.6863e-03, 8.7865e-02, 8.4359e-04,\n",
            "        7.1892e-05, 2.1384e-01], device='cuda:0')\n",
            "Epoch: 16\n"
          ]
        },
        {
          "output_type": "stream",
          "name": "stderr",
          "text": [
            "100%|██████████| 170/170 [04:50<00:00,  1.71s/it]\n"
          ]
        },
        {
          "output_type": "stream",
          "name": "stdout",
          "text": [
            "Epoch: 16, Average train loss per epoch: 0.48017484615830813\n",
            "Epoch: 16, Average train jaccard_micro coeff per epoch: 0.7533628940582275\n",
            "Epoch: 16, Average train jaccard_macro coeff per epoch: 0.3652927577495575\n",
            "Epoch: 16, Average train jaccard_weighted coeff per epoch: 0.7647504210472107\n",
            "Epoch: 16, Average train jaccard_none coeff per epoch: tensor([0.6441, 0.9172, 0.6220, 0.7701, 0.0901, 0.1335, 0.2364, 0.0605, 0.1927,\n",
            "        0.8203, 0.3959, 0.8561, 0.3577, 0.0110, 0.8015, 0.0161, 0.0524, 0.0839,\n",
            "        0.0078, 0.2365], device='cuda:0')\n"
          ]
        },
        {
          "output_type": "stream",
          "name": "stderr",
          "text": [
            "100%|██████████| 32/32 [00:48<00:00,  1.51s/it]\n"
          ]
        },
        {
          "output_type": "stream",
          "name": "stdout",
          "text": [
            "epoch=15, learning rate=0.0100\n",
            "Epoch: 16, Average val loss per epoch: 0.6317987916991115\n",
            "Epoch: 16, Average val jaccard_micro coeff per epoch: 0.6969600915908813\n",
            "Epoch: 16, Average val jaccard_macro coeff per epoch: 0.30721795558929443\n",
            "Epoch: 16, Average val jaccard_weighted coeff per epoch: 0.7081783413887024\n",
            "Epoch: 16, Average val jaccard_none coeff per epoch: tensor([6.1030e-01, 8.7965e-01, 5.0652e-01, 7.2005e-01, 5.2564e-02, 6.8230e-03,\n",
            "        1.8486e-01, 4.0192e-02, 1.5369e-01, 7.4748e-01, 2.2441e-01, 6.7571e-01,\n",
            "        2.7890e-01, 1.2042e-02, 6.9858e-01, 9.2767e-02, 1.7037e-05, 2.4157e-02,\n",
            "        1.1327e-03, 2.3451e-01], device='cuda:0')\n",
            "Epoch: 17\n"
          ]
        },
        {
          "output_type": "stream",
          "name": "stderr",
          "text": [
            "100%|██████████| 170/170 [04:50<00:00,  1.71s/it]\n"
          ]
        },
        {
          "output_type": "stream",
          "name": "stdout",
          "text": [
            "Epoch: 17, Average train loss per epoch: 0.4627270917682087\n",
            "Epoch: 17, Average train jaccard_micro coeff per epoch: 0.7609926462173462\n",
            "Epoch: 17, Average train jaccard_macro coeff per epoch: 0.375577449798584\n",
            "Epoch: 17, Average train jaccard_weighted coeff per epoch: 0.7721608877182007\n",
            "Epoch: 17, Average train jaccard_none coeff per epoch: tensor([0.6557, 0.9222, 0.6411, 0.7774, 0.0997, 0.1458, 0.2474, 0.0675, 0.2057,\n",
            "        0.8212, 0.4031, 0.8666, 0.3723, 0.0111, 0.8064, 0.0378, 0.0506, 0.1260,\n",
            "        0.0057, 0.2482], device='cuda:0')\n"
          ]
        },
        {
          "output_type": "stream",
          "name": "stderr",
          "text": [
            "100%|██████████| 32/32 [00:48<00:00,  1.51s/it]\n"
          ]
        },
        {
          "output_type": "stream",
          "name": "stdout",
          "text": [
            "Epoch 00017: reducing learning rate of group 0 to 5.0000e-03.\n",
            "epoch=16, learning rate=0.0050\n",
            "Epoch: 17, Average val loss per epoch: 0.6150549612939358\n",
            "Epoch: 17, Average val jaccard_micro coeff per epoch: 0.7137160897254944\n",
            "Epoch: 17, Average val jaccard_macro coeff per epoch: 0.32809141278266907\n",
            "Epoch: 17, Average val jaccard_weighted coeff per epoch: 0.7272685170173645\n",
            "Epoch: 17, Average val jaccard_none coeff per epoch: tensor([6.2735e-01, 8.6781e-01, 5.0359e-01, 7.4885e-01, 9.2188e-02, 6.2401e-02,\n",
            "        2.5345e-01, 4.5278e-02, 1.6249e-01, 8.1891e-01, 2.8141e-01, 8.0052e-01,\n",
            "        2.7682e-01, 1.2076e-02, 7.1323e-01, 4.1266e-03, 6.3376e-02, 1.6463e-03,\n",
            "        7.6215e-04, 2.2554e-01], device='cuda:0')\n",
            "Epoch: 18\n"
          ]
        },
        {
          "output_type": "stream",
          "name": "stderr",
          "text": [
            "100%|██████████| 170/170 [04:50<00:00,  1.71s/it]\n"
          ]
        },
        {
          "output_type": "stream",
          "name": "stdout",
          "text": [
            "Epoch: 18, Average train loss per epoch: 0.41640313302769383\n",
            "Epoch: 18, Average train jaccard_micro coeff per epoch: 0.7803484201431274\n",
            "Epoch: 18, Average train jaccard_macro coeff per epoch: 0.3997933864593506\n",
            "Epoch: 18, Average train jaccard_weighted coeff per epoch: 0.7919478416442871\n",
            "Epoch: 18, Average train jaccard_none coeff per epoch: tensor([0.6819, 0.9333, 0.6676, 0.8011, 0.1304, 0.1707, 0.2729, 0.0883, 0.2318,\n",
            "        0.8410, 0.4297, 0.8692, 0.4070, 0.0159, 0.8280, 0.0732, 0.0972, 0.1404,\n",
            "        0.0120, 0.3044], device='cuda:0')\n"
          ]
        },
        {
          "output_type": "stream",
          "name": "stderr",
          "text": [
            "100%|██████████| 32/32 [00:48<00:00,  1.51s/it]\n"
          ]
        },
        {
          "output_type": "stream",
          "name": "stdout",
          "text": [
            "epoch=17, learning rate=0.0050\n",
            "Epoch: 18, Average val loss per epoch: 0.532195582985878\n",
            "Epoch: 18, Average val jaccard_micro coeff per epoch: 0.7362928986549377\n",
            "Epoch: 18, Average val jaccard_macro coeff per epoch: 0.35418498516082764\n",
            "Epoch: 18, Average val jaccard_weighted coeff per epoch: 0.7500780820846558\n",
            "Epoch: 18, Average val jaccard_none coeff per epoch: tensor([0.6216, 0.8924, 0.5672, 0.7488, 0.0850, 0.0619, 0.2751, 0.0638, 0.1965,\n",
            "        0.8409, 0.2972, 0.8096, 0.3164, 0.0175, 0.8079, 0.0898, 0.0671, 0.0449,\n",
            "        0.0057, 0.2745], device='cuda:0')\n",
            "Epoch: 19\n"
          ]
        },
        {
          "output_type": "stream",
          "name": "stderr",
          "text": [
            "100%|██████████| 170/170 [04:49<00:00,  1.70s/it]\n"
          ]
        },
        {
          "output_type": "stream",
          "name": "stdout",
          "text": [
            "Epoch: 19, Average train loss per epoch: 0.3995710457072538\n",
            "Epoch: 19, Average train jaccard_micro coeff per epoch: 0.7883328795433044\n",
            "Epoch: 19, Average train jaccard_macro coeff per epoch: 0.4109072685241699\n",
            "Epoch: 19, Average train jaccard_weighted coeff per epoch: 0.7996878623962402\n",
            "Epoch: 19, Average train jaccard_none coeff per epoch: tensor([0.6950, 0.9390, 0.6869, 0.8086, 0.1368, 0.1939, 0.2795, 0.0945, 0.2397,\n",
            "        0.8409, 0.4364, 0.8776, 0.4158, 0.0182, 0.8463, 0.0998, 0.1075, 0.1440,\n",
            "        0.0333, 0.3242], device='cuda:0')\n"
          ]
        },
        {
          "output_type": "stream",
          "name": "stderr",
          "text": [
            "100%|██████████| 32/32 [00:48<00:00,  1.50s/it]\n"
          ]
        },
        {
          "output_type": "stream",
          "name": "stdout",
          "text": [
            "epoch=18, learning rate=0.0050\n",
            "Epoch: 19, Average val loss per epoch: 0.5180621212348342\n",
            "Epoch: 19, Average val jaccard_micro coeff per epoch: 0.7331157326698303\n",
            "Epoch: 19, Average val jaccard_macro coeff per epoch: 0.3574877977371216\n",
            "Epoch: 19, Average val jaccard_weighted coeff per epoch: 0.7465726733207703\n",
            "Epoch: 19, Average val jaccard_none coeff per epoch: tensor([0.6356, 0.8737, 0.5711, 0.7528, 0.0935, 0.0541, 0.2643, 0.0675, 0.1801,\n",
            "        0.8310, 0.2538, 0.8069, 0.3280, 0.0050, 0.7900, 0.1126, 0.1820, 0.0209,\n",
            "        0.0065, 0.3203], device='cuda:0')\n",
            "Epoch: 20\n"
          ]
        },
        {
          "output_type": "stream",
          "name": "stderr",
          "text": [
            "100%|██████████| 170/170 [04:49<00:00,  1.70s/it]\n"
          ]
        },
        {
          "output_type": "stream",
          "name": "stdout",
          "text": [
            "Epoch: 20, Average train loss per epoch: 0.3856281504911535\n",
            "Epoch: 20, Average train jaccard_micro coeff per epoch: 0.7950038313865662\n",
            "Epoch: 20, Average train jaccard_macro coeff per epoch: 0.42262399196624756\n",
            "Epoch: 20, Average train jaccard_weighted coeff per epoch: 0.8061656355857849\n",
            "Epoch: 20, Average train jaccard_none coeff per epoch: tensor([0.7084, 0.9420, 0.6927, 0.8152, 0.1596, 0.1981, 0.2900, 0.1031, 0.2447,\n",
            "        0.8459, 0.4392, 0.8800, 0.4263, 0.0252, 0.8533, 0.1436, 0.1473, 0.1684,\n",
            "        0.0409, 0.3285], device='cuda:0')\n"
          ]
        },
        {
          "output_type": "stream",
          "name": "stderr",
          "text": [
            "100%|██████████| 32/32 [00:48<00:00,  1.50s/it]\n"
          ]
        },
        {
          "output_type": "stream",
          "name": "stdout",
          "text": [
            "epoch=19, learning rate=0.0050\n",
            "Epoch: 20, Average val loss per epoch: 0.5505557730793953\n",
            "Epoch: 20, Average val jaccard_micro coeff per epoch: 0.7354710102081299\n",
            "Epoch: 20, Average val jaccard_macro coeff per epoch: 0.3653736412525177\n",
            "Epoch: 20, Average val jaccard_weighted coeff per epoch: 0.7543017268180847\n",
            "Epoch: 20, Average val jaccard_none coeff per epoch: tensor([0.6581, 0.8910, 0.5779, 0.7484, 0.1101, 0.1248, 0.2738, 0.0771, 0.1964,\n",
            "        0.8350, 0.3117, 0.8038, 0.3261, 0.0353, 0.7991, 0.1227, 0.0380, 0.0478,\n",
            "        0.0151, 0.3152], device='cuda:0')\n",
            "Epoch: 21\n"
          ]
        },
        {
          "output_type": "stream",
          "name": "stderr",
          "text": [
            "100%|██████████| 170/170 [04:50<00:00,  1.71s/it]\n"
          ]
        },
        {
          "output_type": "stream",
          "name": "stdout",
          "text": [
            "Epoch: 21, Average train loss per epoch: 0.3773537462248522\n",
            "Epoch: 21, Average train jaccard_micro coeff per epoch: 0.7990589141845703\n",
            "Epoch: 21, Average train jaccard_macro coeff per epoch: 0.42443040013313293\n",
            "Epoch: 21, Average train jaccard_weighted coeff per epoch: 0.8101608157157898\n",
            "Epoch: 21, Average train jaccard_none coeff per epoch: tensor([0.7178, 0.9431, 0.7045, 0.8216, 0.1564, 0.2212, 0.2927, 0.1038, 0.2501,\n",
            "        0.8474, 0.4453, 0.8783, 0.4315, 0.0369, 0.8489, 0.1394, 0.1110, 0.1577,\n",
            "        0.0482, 0.3329], device='cuda:0')\n"
          ]
        },
        {
          "output_type": "stream",
          "name": "stderr",
          "text": [
            "100%|██████████| 32/32 [00:48<00:00,  1.51s/it]\n"
          ]
        },
        {
          "output_type": "stream",
          "name": "stdout",
          "text": [
            "epoch=20, learning rate=0.0050\n",
            "Epoch: 21, Average val loss per epoch: 0.5867081424221396\n",
            "Epoch: 21, Average val jaccard_micro coeff per epoch: 0.7328422665596008\n",
            "Epoch: 21, Average val jaccard_macro coeff per epoch: 0.3620131015777588\n",
            "Epoch: 21, Average val jaccard_weighted coeff per epoch: 0.747754693031311\n",
            "Epoch: 21, Average val jaccard_none coeff per epoch: tensor([0.6234, 0.8858, 0.5513, 0.7553, 0.1032, 0.1217, 0.2916, 0.0724, 0.2045,\n",
            "        0.8439, 0.2843, 0.7468, 0.3271, 0.0099, 0.7908, 0.1392, 0.1374, 0.0293,\n",
            "        0.0044, 0.3180], device='cuda:0')\n",
            "Epoch: 22\n"
          ]
        },
        {
          "output_type": "stream",
          "name": "stderr",
          "text": [
            "100%|██████████| 170/170 [04:49<00:00,  1.70s/it]\n"
          ]
        },
        {
          "output_type": "stream",
          "name": "stdout",
          "text": [
            "Epoch: 22, Average train loss per epoch: 0.3709080927512225\n",
            "Epoch: 22, Average train jaccard_micro coeff per epoch: 0.8016231060028076\n",
            "Epoch: 22, Average train jaccard_macro coeff per epoch: 0.4316430687904358\n",
            "Epoch: 22, Average train jaccard_weighted coeff per epoch: 0.8125007152557373\n",
            "Epoch: 22, Average train jaccard_none coeff per epoch: tensor([0.7220, 0.9435, 0.7067, 0.8227, 0.1660, 0.2295, 0.2981, 0.1123, 0.2569,\n",
            "        0.8502, 0.4466, 0.8770, 0.4435, 0.0383, 0.8564, 0.1580, 0.1492, 0.1666,\n",
            "        0.0487, 0.3407], device='cuda:0')\n"
          ]
        },
        {
          "output_type": "stream",
          "name": "stderr",
          "text": [
            "100%|██████████| 32/32 [00:48<00:00,  1.51s/it]\n"
          ]
        },
        {
          "output_type": "stream",
          "name": "stdout",
          "text": [
            "epoch=21, learning rate=0.0050\n",
            "Epoch: 22, Average val loss per epoch: 0.5847812462598085\n",
            "Epoch: 22, Average val jaccard_micro coeff per epoch: 0.7154526114463806\n",
            "Epoch: 22, Average val jaccard_macro coeff per epoch: 0.34658995270729065\n",
            "Epoch: 22, Average val jaccard_weighted coeff per epoch: 0.7379227876663208\n",
            "Epoch: 22, Average val jaccard_none coeff per epoch: tensor([0.6154, 0.8741, 0.5333, 0.7544, 0.0838, 0.0939, 0.2780, 0.0815, 0.2141,\n",
            "        0.8369, 0.2661, 0.7894, 0.2799, 0.0117, 0.7433, 0.1001, 0.1225, 0.0126,\n",
            "        0.0057, 0.2351], device='cuda:0')\n",
            "Epoch: 23\n"
          ]
        },
        {
          "output_type": "stream",
          "name": "stderr",
          "text": [
            "100%|██████████| 170/170 [04:49<00:00,  1.70s/it]\n"
          ]
        },
        {
          "output_type": "stream",
          "name": "stdout",
          "text": [
            "Epoch: 23, Average train loss per epoch: 0.3643034542308134\n",
            "Epoch: 23, Average train jaccard_micro coeff per epoch: 0.8064438700675964\n",
            "Epoch: 23, Average train jaccard_macro coeff per epoch: 0.43633851408958435\n",
            "Epoch: 23, Average train jaccard_weighted coeff per epoch: 0.8175482749938965\n",
            "Epoch: 23, Average train jaccard_none coeff per epoch: tensor([0.7350, 0.9477, 0.7169, 0.8262, 0.1809, 0.2344, 0.3066, 0.1129, 0.2596,\n",
            "        0.8472, 0.4460, 0.8808, 0.4482, 0.0472, 0.8627, 0.1505, 0.1429, 0.1674,\n",
            "        0.0600, 0.3536], device='cuda:0')\n"
          ]
        },
        {
          "output_type": "stream",
          "name": "stderr",
          "text": [
            "100%|██████████| 32/32 [00:48<00:00,  1.51s/it]\n"
          ]
        },
        {
          "output_type": "stream",
          "name": "stdout",
          "text": [
            "Epoch 00023: reducing learning rate of group 0 to 2.5000e-03.\n",
            "epoch=22, learning rate=0.0025\n",
            "Epoch: 23, Average val loss per epoch: 0.572182516567409\n",
            "Epoch: 23, Average val jaccard_micro coeff per epoch: 0.7230634093284607\n",
            "Epoch: 23, Average val jaccard_macro coeff per epoch: 0.34997934103012085\n",
            "Epoch: 23, Average val jaccard_weighted coeff per epoch: 0.7397826313972473\n",
            "Epoch: 23, Average val jaccard_none coeff per epoch: tensor([0.6243, 0.8864, 0.5590, 0.7420, 0.0676, 0.1290, 0.2908, 0.0841, 0.1711,\n",
            "        0.8333, 0.2974, 0.7256, 0.3367, 0.0299, 0.7093, 0.1019, 0.1170, 0.0263,\n",
            "        0.0086, 0.2595], device='cuda:0')\n",
            "Epoch: 24\n"
          ]
        },
        {
          "output_type": "stream",
          "name": "stderr",
          "text": [
            "100%|██████████| 170/170 [04:49<00:00,  1.70s/it]\n"
          ]
        },
        {
          "output_type": "stream",
          "name": "stdout",
          "text": [
            "Epoch: 24, Average train loss per epoch: 0.33445349931716917\n",
            "Epoch: 24, Average train jaccard_micro coeff per epoch: 0.8223259449005127\n",
            "Epoch: 24, Average train jaccard_macro coeff per epoch: 0.4588448703289032\n",
            "Epoch: 24, Average train jaccard_weighted coeff per epoch: 0.8319140672683716\n",
            "Epoch: 24, Average train jaccard_none coeff per epoch: tensor([0.7731, 0.9557, 0.7459, 0.8380, 0.2049, 0.2662, 0.3193, 0.1225, 0.2703,\n",
            "        0.8533, 0.4647, 0.8870, 0.4642, 0.0661, 0.8671, 0.2447, 0.1898, 0.1898,\n",
            "        0.0737, 0.3806], device='cuda:0')\n"
          ]
        },
        {
          "output_type": "stream",
          "name": "stderr",
          "text": [
            "100%|██████████| 32/32 [00:48<00:00,  1.51s/it]\n"
          ]
        },
        {
          "output_type": "stream",
          "name": "stdout",
          "text": [
            "epoch=23, learning rate=0.0025\n",
            "Epoch: 24, Average val loss per epoch: 0.5365495104342699\n",
            "Epoch: 24, Average val jaccard_micro coeff per epoch: 0.7478250861167908\n",
            "Epoch: 24, Average val jaccard_macro coeff per epoch: 0.3847251236438751\n",
            "Epoch: 24, Average val jaccard_weighted coeff per epoch: 0.7638792395591736\n",
            "Epoch: 24, Average val jaccard_none coeff per epoch: tensor([0.6395, 0.8960, 0.5725, 0.7850, 0.1146, 0.1387, 0.2926, 0.0786, 0.2287,\n",
            "        0.8442, 0.3212, 0.8226, 0.3506, 0.0826, 0.7891, 0.1290, 0.2239, 0.0389,\n",
            "        0.0151, 0.3313], device='cuda:0')\n",
            "Epoch: 25\n"
          ]
        },
        {
          "output_type": "stream",
          "name": "stderr",
          "text": [
            "100%|██████████| 170/170 [04:49<00:00,  1.70s/it]\n"
          ]
        },
        {
          "output_type": "stream",
          "name": "stdout",
          "text": [
            "Epoch: 25, Average train loss per epoch: 0.3054736572153428\n",
            "Epoch: 25, Average train jaccard_micro coeff per epoch: 0.8367919921875\n",
            "Epoch: 25, Average train jaccard_macro coeff per epoch: 0.47937771677970886\n",
            "Epoch: 25, Average train jaccard_weighted coeff per epoch: 0.8457455039024353\n",
            "Epoch: 25, Average train jaccard_none coeff per epoch: tensor([0.8000, 0.9611, 0.7731, 0.8518, 0.2303, 0.3069, 0.3323, 0.1330, 0.2837,\n",
            "        0.8636, 0.4933, 0.8918, 0.4832, 0.0915, 0.8818, 0.2536, 0.2400, 0.2071,\n",
            "        0.1078, 0.4017], device='cuda:0')\n"
          ]
        },
        {
          "output_type": "stream",
          "name": "stderr",
          "text": [
            "100%|██████████| 32/32 [00:48<00:00,  1.51s/it]\n"
          ]
        },
        {
          "output_type": "stream",
          "name": "stdout",
          "text": [
            "epoch=24, learning rate=0.0025\n",
            "Epoch: 25, Average val loss per epoch: 0.5465070111677051\n",
            "Epoch: 25, Average val jaccard_micro coeff per epoch: 0.7513816356658936\n",
            "Epoch: 25, Average val jaccard_macro coeff per epoch: 0.3837306797504425\n",
            "Epoch: 25, Average val jaccard_weighted coeff per epoch: 0.7663916349411011\n",
            "Epoch: 25, Average val jaccard_none coeff per epoch: tensor([0.6468, 0.8959, 0.5833, 0.7799, 0.1172, 0.1183, 0.3150, 0.0994, 0.2206,\n",
            "        0.8494, 0.3193, 0.8199, 0.3504, 0.0499, 0.8060, 0.1463, 0.1670, 0.0376,\n",
            "        0.0125, 0.3399], device='cuda:0')\n",
            "Epoch: 26\n"
          ]
        },
        {
          "output_type": "stream",
          "name": "stderr",
          "text": [
            "100%|██████████| 170/170 [04:49<00:00,  1.71s/it]\n"
          ]
        },
        {
          "output_type": "stream",
          "name": "stdout",
          "text": [
            "Epoch: 26, Average train loss per epoch: 0.294352221225991\n",
            "Epoch: 26, Average train jaccard_micro coeff per epoch: 0.8430132865905762\n",
            "Epoch: 26, Average train jaccard_macro coeff per epoch: 0.4932355582714081\n",
            "Epoch: 26, Average train jaccard_weighted coeff per epoch: 0.8515220284461975\n",
            "Epoch: 26, Average train jaccard_none coeff per epoch: tensor([0.8132, 0.9637, 0.7789, 0.8557, 0.2456, 0.3204, 0.3382, 0.1373, 0.2905,\n",
            "        0.8676, 0.5037, 0.8950, 0.4970, 0.1123, 0.8884, 0.3193, 0.2854, 0.2310,\n",
            "        0.1108, 0.4107], device='cuda:0')\n"
          ]
        },
        {
          "output_type": "stream",
          "name": "stderr",
          "text": [
            "100%|██████████| 32/32 [00:47<00:00,  1.50s/it]\n"
          ]
        },
        {
          "output_type": "stream",
          "name": "stdout",
          "text": [
            "epoch=25, learning rate=0.0025\n",
            "Epoch: 26, Average val loss per epoch: 0.5741777569055557\n",
            "Epoch: 26, Average val jaccard_micro coeff per epoch: 0.7476379871368408\n",
            "Epoch: 26, Average val jaccard_macro coeff per epoch: 0.3844998776912689\n",
            "Epoch: 26, Average val jaccard_weighted coeff per epoch: 0.7622748017311096\n",
            "Epoch: 26, Average val jaccard_none coeff per epoch: tensor([0.6353, 0.8944, 0.5898, 0.7744, 0.0873, 0.1353, 0.3205, 0.0869, 0.2278,\n",
            "        0.8500, 0.3219, 0.8038, 0.3618, 0.0468, 0.7899, 0.1695, 0.1905, 0.0570,\n",
            "        0.0191, 0.3279], device='cuda:0')\n",
            "Epoch: 27\n"
          ]
        },
        {
          "output_type": "stream",
          "name": "stderr",
          "text": [
            "100%|██████████| 170/170 [04:49<00:00,  1.70s/it]\n"
          ]
        },
        {
          "output_type": "stream",
          "name": "stdout",
          "text": [
            "Epoch: 27, Average train loss per epoch: 0.2873340956428472\n",
            "Epoch: 27, Average train jaccard_micro coeff per epoch: 0.8468157052993774\n",
            "Epoch: 27, Average train jaccard_macro coeff per epoch: 0.5041752457618713\n",
            "Epoch: 27, Average train jaccard_weighted coeff per epoch: 0.8549713492393494\n",
            "Epoch: 27, Average train jaccard_none coeff per epoch: tensor([0.8230, 0.9647, 0.7911, 0.8581, 0.2561, 0.3342, 0.3458, 0.1409, 0.2957,\n",
            "        0.8698, 0.5074, 0.8938, 0.5118, 0.1177, 0.8893, 0.3568, 0.3087, 0.2418,\n",
            "        0.1360, 0.4407], device='cuda:0')\n"
          ]
        },
        {
          "output_type": "stream",
          "name": "stderr",
          "text": [
            "100%|██████████| 32/32 [00:48<00:00,  1.52s/it]\n"
          ]
        },
        {
          "output_type": "stream",
          "name": "stdout",
          "text": [
            "Epoch 00027: reducing learning rate of group 0 to 1.2500e-03.\n",
            "epoch=26, learning rate=0.0013\n",
            "Epoch: 27, Average val loss per epoch: 0.5734637845307589\n",
            "Epoch: 27, Average val jaccard_micro coeff per epoch: 0.7455529570579529\n",
            "Epoch: 27, Average val jaccard_macro coeff per epoch: 0.38335663080215454\n",
            "Epoch: 27, Average val jaccard_weighted coeff per epoch: 0.7620277404785156\n",
            "Epoch: 27, Average val jaccard_none coeff per epoch: tensor([0.6329, 0.8950, 0.5703, 0.7854, 0.1149, 0.1185, 0.3164, 0.0932, 0.2183,\n",
            "        0.8364, 0.3100, 0.8067, 0.3596, 0.0616, 0.7986, 0.1533, 0.1940, 0.0344,\n",
            "        0.0294, 0.3382], device='cuda:0')\n",
            "Epoch: 28\n"
          ]
        },
        {
          "output_type": "stream",
          "name": "stderr",
          "text": [
            "100%|██████████| 170/170 [04:50<00:00,  1.71s/it]\n"
          ]
        },
        {
          "output_type": "stream",
          "name": "stdout",
          "text": [
            "Epoch: 28, Average train loss per epoch: 0.2737669168149724\n",
            "Epoch: 28, Average train jaccard_micro coeff per epoch: 0.8540922403335571\n",
            "Epoch: 28, Average train jaccard_macro coeff per epoch: 0.5111247897148132\n",
            "Epoch: 28, Average train jaccard_weighted coeff per epoch: 0.8616771101951599\n",
            "Epoch: 28, Average train jaccard_none coeff per epoch: tensor([0.8402, 0.9672, 0.8033, 0.8656, 0.2692, 0.3596, 0.3548, 0.1459, 0.3080,\n",
            "        0.8728, 0.5062, 0.8908, 0.5232, 0.1332, 0.8943, 0.3656, 0.2995, 0.2236,\n",
            "        0.1334, 0.4660], device='cuda:0')\n"
          ]
        },
        {
          "output_type": "stream",
          "name": "stderr",
          "text": [
            "100%|██████████| 32/32 [00:48<00:00,  1.50s/it]\n"
          ]
        },
        {
          "output_type": "stream",
          "name": "stdout",
          "text": [
            "epoch=27, learning rate=0.0013\n",
            "Epoch: 28, Average val loss per epoch: 0.5831917598843575\n",
            "Epoch: 28, Average val jaccard_micro coeff per epoch: 0.7507922053337097\n",
            "Epoch: 28, Average val jaccard_macro coeff per epoch: 0.3912804126739502\n",
            "Epoch: 28, Average val jaccard_weighted coeff per epoch: 0.7672396302223206\n",
            "Epoch: 28, Average val jaccard_none coeff per epoch: tensor([0.6409, 0.8951, 0.5869, 0.7851, 0.1098, 0.1280, 0.3229, 0.1015, 0.2455,\n",
            "        0.8489, 0.3246, 0.8159, 0.3643, 0.0521, 0.8085, 0.1593, 0.2242, 0.0357,\n",
            "        0.0331, 0.3434], device='cuda:0')\n",
            "Epoch: 29\n"
          ]
        },
        {
          "output_type": "stream",
          "name": "stderr",
          "text": [
            "100%|██████████| 170/170 [04:48<00:00,  1.70s/it]\n"
          ]
        },
        {
          "output_type": "stream",
          "name": "stdout",
          "text": [
            "Epoch: 29, Average train loss per epoch: 0.26969645102234446\n",
            "Epoch: 29, Average train jaccard_micro coeff per epoch: 0.8568083047866821\n",
            "Epoch: 29, Average train jaccard_macro coeff per epoch: 0.5217157602310181\n",
            "Epoch: 29, Average train jaccard_weighted coeff per epoch: 0.8645315170288086\n",
            "Epoch: 29, Average train jaccard_none coeff per epoch: tensor([0.8456, 0.9675, 0.8113, 0.8689, 0.2831, 0.3802, 0.3611, 0.1499, 0.3142,\n",
            "        0.8717, 0.5329, 0.8936, 0.5293, 0.1385, 0.8973, 0.3793, 0.3414, 0.2575,\n",
            "        0.1521, 0.4588], device='cuda:0')\n"
          ]
        },
        {
          "output_type": "stream",
          "name": "stderr",
          "text": [
            "100%|██████████| 32/32 [00:47<00:00,  1.50s/it]\n"
          ]
        },
        {
          "output_type": "stream",
          "name": "stdout",
          "text": [
            "epoch=28, learning rate=0.0013\n",
            "Epoch: 29, Average val loss per epoch: 0.6018766909837723\n",
            "Epoch: 29, Average val jaccard_micro coeff per epoch: 0.749062716960907\n",
            "Epoch: 29, Average val jaccard_macro coeff per epoch: 0.386491596698761\n",
            "Epoch: 29, Average val jaccard_weighted coeff per epoch: 0.7650362253189087\n",
            "Epoch: 29, Average val jaccard_none coeff per epoch: tensor([0.6481, 0.8944, 0.5874, 0.7797, 0.0924, 0.1267, 0.3079, 0.1042, 0.2443,\n",
            "        0.8454, 0.3138, 0.8168, 0.3621, 0.0513, 0.8056, 0.1453, 0.2127, 0.0483,\n",
            "        0.0209, 0.3228], device='cuda:0')\n",
            "Epoch: 30\n"
          ]
        },
        {
          "output_type": "stream",
          "name": "stderr",
          "text": [
            "100%|██████████| 170/170 [04:48<00:00,  1.70s/it]\n"
          ]
        },
        {
          "output_type": "stream",
          "name": "stdout",
          "text": [
            "Epoch: 30, Average train loss per epoch: 0.27591291552080827\n",
            "Epoch: 30, Average train jaccard_micro coeff per epoch: 0.8537537455558777\n",
            "Epoch: 30, Average train jaccard_macro coeff per epoch: 0.5137894153594971\n",
            "Epoch: 30, Average train jaccard_weighted coeff per epoch: 0.8616525530815125\n",
            "Epoch: 30, Average train jaccard_none coeff per epoch: tensor([0.8435, 0.9675, 0.8069, 0.8617, 0.2787, 0.3671, 0.3584, 0.1486, 0.3028,\n",
            "        0.8689, 0.5272, 0.8946, 0.5230, 0.1340, 0.8951, 0.3513, 0.3289, 0.2433,\n",
            "        0.1282, 0.4463], device='cuda:0')\n"
          ]
        },
        {
          "output_type": "stream",
          "name": "stderr",
          "text": [
            "100%|██████████| 32/32 [00:48<00:00,  1.50s/it]\n"
          ]
        },
        {
          "output_type": "stream",
          "name": "stdout",
          "text": [
            "epoch=29, learning rate=0.0013\n",
            "Epoch: 30, Average val loss per epoch: 0.6136425267904997\n",
            "Epoch: 30, Average val jaccard_micro coeff per epoch: 0.7487257719039917\n",
            "Epoch: 30, Average val jaccard_macro coeff per epoch: 0.38672569394111633\n",
            "Epoch: 30, Average val jaccard_weighted coeff per epoch: 0.7628283500671387\n",
            "Epoch: 30, Average val jaccard_none coeff per epoch: tensor([0.6368, 0.8932, 0.5788, 0.7788, 0.1106, 0.1159, 0.3110, 0.0974, 0.2243,\n",
            "        0.8411, 0.3124, 0.8120, 0.3735, 0.0466, 0.8083, 0.1500, 0.2299, 0.0665,\n",
            "        0.0229, 0.3245], device='cuda:0')\n",
            "Epoch: 31\n"
          ]
        },
        {
          "output_type": "stream",
          "name": "stderr",
          "text": [
            "100%|██████████| 170/170 [04:48<00:00,  1.70s/it]\n"
          ]
        },
        {
          "output_type": "stream",
          "name": "stdout",
          "text": [
            "Epoch: 31, Average train loss per epoch: 0.26053333229878367\n",
            "Epoch: 31, Average train jaccard_micro coeff per epoch: 0.8609510064125061\n",
            "Epoch: 31, Average train jaccard_macro coeff per epoch: 0.5287431478500366\n",
            "Epoch: 31, Average train jaccard_weighted coeff per epoch: 0.8680703043937683\n",
            "Epoch: 31, Average train jaccard_none coeff per epoch: tensor([0.8542, 0.9693, 0.8161, 0.8710, 0.2894, 0.3852, 0.3675, 0.1532, 0.3147,\n",
            "        0.8770, 0.5316, 0.8956, 0.5360, 0.1551, 0.9006, 0.4128, 0.3463, 0.2707,\n",
            "        0.1536, 0.4751], device='cuda:0')\n"
          ]
        },
        {
          "output_type": "stream",
          "name": "stderr",
          "text": [
            "100%|██████████| 32/32 [00:48<00:00,  1.50s/it]\n"
          ]
        },
        {
          "output_type": "stream",
          "name": "stdout",
          "text": [
            "epoch=30, learning rate=0.0013\n",
            "Epoch: 31, Average val loss per epoch: 0.593582690693438\n",
            "Epoch: 31, Average val jaccard_micro coeff per epoch: 0.7518128752708435\n",
            "Epoch: 31, Average val jaccard_macro coeff per epoch: 0.390682190656662\n",
            "Epoch: 31, Average val jaccard_weighted coeff per epoch: 0.7671256065368652\n",
            "Epoch: 31, Average val jaccard_none coeff per epoch: tensor([0.6456, 0.8944, 0.5873, 0.7842, 0.1078, 0.1258, 0.3243, 0.0919, 0.2323,\n",
            "        0.8489, 0.3144, 0.8182, 0.3644, 0.0606, 0.8085, 0.1574, 0.2240, 0.0476,\n",
            "        0.0316, 0.3443], device='cuda:0')\n",
            "Epoch: 32\n"
          ]
        },
        {
          "output_type": "stream",
          "name": "stderr",
          "text": [
            "100%|██████████| 170/170 [04:49<00:00,  1.70s/it]\n"
          ]
        },
        {
          "output_type": "stream",
          "name": "stdout",
          "text": [
            "Epoch: 32, Average train loss per epoch: 0.2528444979120703\n",
            "Epoch: 32, Average train jaccard_micro coeff per epoch: 0.8649274110794067\n",
            "Epoch: 32, Average train jaccard_macro coeff per epoch: 0.5401559472084045\n",
            "Epoch: 32, Average train jaccard_weighted coeff per epoch: 0.8718124628067017\n",
            "Epoch: 32, Average train jaccard_none coeff per epoch: tensor([0.8617, 0.9701, 0.8183, 0.8758, 0.3054, 0.3966, 0.3746, 0.1611, 0.3227,\n",
            "        0.8800, 0.5464, 0.9012, 0.5467, 0.1668, 0.8976, 0.4275, 0.4027, 0.2658,\n",
            "        0.1896, 0.4926], device='cuda:0')\n"
          ]
        },
        {
          "output_type": "stream",
          "name": "stderr",
          "text": [
            "100%|██████████| 32/32 [00:48<00:00,  1.51s/it]\n"
          ]
        },
        {
          "output_type": "stream",
          "name": "stdout",
          "text": [
            "epoch=31, learning rate=0.0013\n",
            "Epoch: 32, Average val loss per epoch: 0.6071037724614143\n",
            "Epoch: 32, Average val jaccard_micro coeff per epoch: 0.7514333724975586\n",
            "Epoch: 32, Average val jaccard_macro coeff per epoch: 0.38998761773109436\n",
            "Epoch: 32, Average val jaccard_weighted coeff per epoch: 0.7667292952537537\n",
            "Epoch: 32, Average val jaccard_none coeff per epoch: tensor([0.6432, 0.8959, 0.5875, 0.7842, 0.0911, 0.1194, 0.3167, 0.1020, 0.2404,\n",
            "        0.8486, 0.3024, 0.8216, 0.3574, 0.0891, 0.8099, 0.1571, 0.2069, 0.0537,\n",
            "        0.0370, 0.3357], device='cuda:0')\n",
            "Epoch: 33\n"
          ]
        },
        {
          "output_type": "stream",
          "name": "stderr",
          "text": [
            "100%|██████████| 170/170 [04:48<00:00,  1.70s/it]\n"
          ]
        },
        {
          "output_type": "stream",
          "name": "stdout",
          "text": [
            "Epoch: 33, Average train loss per epoch: 0.2547928894267363\n",
            "Epoch: 33, Average train jaccard_micro coeff per epoch: 0.8641692996025085\n",
            "Epoch: 33, Average train jaccard_macro coeff per epoch: 0.5328906178474426\n",
            "Epoch: 33, Average train jaccard_weighted coeff per epoch: 0.871483564376831\n",
            "Epoch: 33, Average train jaccard_none coeff per epoch: tensor([0.8629, 0.9698, 0.8184, 0.8760, 0.2982, 0.4029, 0.3756, 0.1602, 0.3265,\n",
            "        0.8768, 0.5257, 0.8965, 0.5449, 0.1631, 0.8945, 0.4108, 0.3574, 0.2472,\n",
            "        0.1647, 0.4858], device='cuda:0')\n"
          ]
        },
        {
          "output_type": "stream",
          "name": "stderr",
          "text": [
            "100%|██████████| 32/32 [00:48<00:00,  1.51s/it]\n"
          ]
        },
        {
          "output_type": "stream",
          "name": "stdout",
          "text": [
            "epoch=32, learning rate=0.0013\n",
            "Epoch: 33, Average val loss per epoch: 0.636715603992343\n",
            "Epoch: 33, Average val jaccard_micro coeff per epoch: 0.750128448009491\n",
            "Epoch: 33, Average val jaccard_macro coeff per epoch: 0.38876840472221375\n",
            "Epoch: 33, Average val jaccard_weighted coeff per epoch: 0.7641268968582153\n",
            "Epoch: 33, Average val jaccard_none coeff per epoch: tensor([0.6439, 0.8951, 0.5876, 0.7696, 0.1040, 0.1204, 0.3146, 0.0964, 0.2305,\n",
            "        0.8497, 0.3168, 0.8233, 0.3800, 0.0772, 0.8031, 0.1539, 0.1788, 0.0569,\n",
            "        0.0360, 0.3376], device='cuda:0')\n",
            "Epoch: 34\n"
          ]
        },
        {
          "output_type": "stream",
          "name": "stderr",
          "text": [
            "100%|██████████| 170/170 [04:49<00:00,  1.70s/it]\n"
          ]
        },
        {
          "output_type": "stream",
          "name": "stdout",
          "text": [
            "Epoch: 34, Average train loss per epoch: 0.25126959278303035\n",
            "Epoch: 34, Average train jaccard_micro coeff per epoch: 0.8659452795982361\n",
            "Epoch: 34, Average train jaccard_macro coeff per epoch: 0.5389547944068909\n",
            "Epoch: 34, Average train jaccard_weighted coeff per epoch: 0.872818112373352\n",
            "Epoch: 34, Average train jaccard_none coeff per epoch: tensor([0.8667, 0.9706, 0.8241, 0.8752, 0.3075, 0.4006, 0.3776, 0.1608, 0.3254,\n",
            "        0.8763, 0.5441, 0.8958, 0.5456, 0.1766, 0.9003, 0.4240, 0.3886, 0.2653,\n",
            "        0.1711, 0.4832], device='cuda:0')\n"
          ]
        },
        {
          "output_type": "stream",
          "name": "stderr",
          "text": [
            "100%|██████████| 32/32 [00:47<00:00,  1.50s/it]\n"
          ]
        },
        {
          "output_type": "stream",
          "name": "stdout",
          "text": [
            "epoch=33, learning rate=0.0013\n",
            "Epoch: 34, Average val loss per epoch: 0.6374527812004089\n",
            "Epoch: 34, Average val jaccard_micro coeff per epoch: 0.7469615936279297\n",
            "Epoch: 34, Average val jaccard_macro coeff per epoch: 0.38656187057495117\n",
            "Epoch: 34, Average val jaccard_weighted coeff per epoch: 0.7614593505859375\n",
            "Epoch: 34, Average val jaccard_none coeff per epoch: tensor([0.6221, 0.8935, 0.5757, 0.7827, 0.0984, 0.1192, 0.3195, 0.1019, 0.2289,\n",
            "        0.8407, 0.3185, 0.8267, 0.3793, 0.0525, 0.7990, 0.1425, 0.2193, 0.0562,\n",
            "        0.0284, 0.3262], device='cuda:0')\n",
            "Epoch: 35\n"
          ]
        },
        {
          "output_type": "stream",
          "name": "stderr",
          "text": [
            "100%|██████████| 170/170 [04:49<00:00,  1.70s/it]\n"
          ]
        },
        {
          "output_type": "stream",
          "name": "stdout",
          "text": [
            "Epoch: 35, Average train loss per epoch: 0.2476478669573279\n",
            "Epoch: 35, Average train jaccard_micro coeff per epoch: 0.8672588467597961\n",
            "Epoch: 35, Average train jaccard_macro coeff per epoch: 0.541037380695343\n",
            "Epoch: 35, Average train jaccard_weighted coeff per epoch: 0.8738510012626648\n",
            "Epoch: 35, Average train jaccard_none coeff per epoch: tensor([0.8663, 0.9701, 0.8243, 0.8785, 0.3103, 0.4132, 0.3814, 0.1603, 0.3286,\n",
            "        0.8798, 0.5437, 0.8985, 0.5512, 0.1697, 0.9041, 0.4291, 0.3909, 0.2451,\n",
            "        0.1827, 0.4929], device='cuda:0')\n"
          ]
        },
        {
          "output_type": "stream",
          "name": "stderr",
          "text": [
            "100%|██████████| 32/32 [00:48<00:00,  1.51s/it]\n"
          ]
        },
        {
          "output_type": "stream",
          "name": "stdout",
          "text": [
            "epoch=34, learning rate=0.0013\n",
            "Epoch: 35, Average val loss per epoch: 0.6302066799253225\n",
            "Epoch: 35, Average val jaccard_micro coeff per epoch: 0.751196026802063\n",
            "Epoch: 35, Average val jaccard_macro coeff per epoch: 0.3926974833011627\n",
            "Epoch: 35, Average val jaccard_weighted coeff per epoch: 0.7667959332466125\n",
            "Epoch: 35, Average val jaccard_none coeff per epoch: tensor([0.6402, 0.8951, 0.5877, 0.7831, 0.1150, 0.1223, 0.3271, 0.1011, 0.2396,\n",
            "        0.8486, 0.3192, 0.8198, 0.3703, 0.0672, 0.8112, 0.1548, 0.2275, 0.0559,\n",
            "        0.0313, 0.3373], device='cuda:0')\n",
            "Epoch: 36\n"
          ]
        },
        {
          "output_type": "stream",
          "name": "stderr",
          "text": [
            "100%|██████████| 170/170 [04:50<00:00,  1.71s/it]\n"
          ]
        },
        {
          "output_type": "stream",
          "name": "stdout",
          "text": [
            "Epoch: 36, Average train loss per epoch: 0.24075922834522584\n",
            "Epoch: 36, Average train jaccard_micro coeff per epoch: 0.8709219694137573\n",
            "Epoch: 36, Average train jaccard_macro coeff per epoch: 0.5492441654205322\n",
            "Epoch: 36, Average train jaccard_weighted coeff per epoch: 0.8775281310081482\n",
            "Epoch: 36, Average train jaccard_none coeff per epoch: tensor([0.8739, 0.9720, 0.8294, 0.8815, 0.3176, 0.4186, 0.3856, 0.1675, 0.3384,\n",
            "        0.8827, 0.5511, 0.9020, 0.5580, 0.1833, 0.9009, 0.4445, 0.4036, 0.2655,\n",
            "        0.1968, 0.5122], device='cuda:0')\n"
          ]
        },
        {
          "output_type": "stream",
          "name": "stderr",
          "text": [
            "100%|██████████| 32/32 [00:48<00:00,  1.51s/it]\n"
          ]
        },
        {
          "output_type": "stream",
          "name": "stdout",
          "text": [
            "epoch=35, learning rate=0.0013\n",
            "Epoch: 36, Average val loss per epoch: 0.6258713146671653\n",
            "Epoch: 36, Average val jaccard_micro coeff per epoch: 0.7503264546394348\n",
            "Epoch: 36, Average val jaccard_macro coeff per epoch: 0.39445430040359497\n",
            "Epoch: 36, Average val jaccard_weighted coeff per epoch: 0.76839679479599\n",
            "Epoch: 36, Average val jaccard_none coeff per epoch: tensor([0.6501, 0.8946, 0.5883, 0.7832, 0.1195, 0.1360, 0.3254, 0.0936, 0.2314,\n",
            "        0.8478, 0.3210, 0.8257, 0.3741, 0.0676, 0.8066, 0.1311, 0.2508, 0.0729,\n",
            "        0.0217, 0.3476], device='cuda:0')\n",
            "Epoch: 37\n"
          ]
        },
        {
          "output_type": "stream",
          "name": "stderr",
          "text": [
            "100%|██████████| 170/170 [04:50<00:00,  1.71s/it]\n"
          ]
        },
        {
          "output_type": "stream",
          "name": "stdout",
          "text": [
            "Epoch: 37, Average train loss per epoch: 0.2450746509958716\n",
            "Epoch: 37, Average train jaccard_micro coeff per epoch: 0.871177613735199\n",
            "Epoch: 37, Average train jaccard_macro coeff per epoch: 0.5471981167793274\n",
            "Epoch: 37, Average train jaccard_weighted coeff per epoch: 0.8780884742736816\n",
            "Epoch: 37, Average train jaccard_none coeff per epoch: tensor([0.8763, 0.9721, 0.8345, 0.8770, 0.3214, 0.4246, 0.3896, 0.1698, 0.3359,\n",
            "        0.8838, 0.5515, 0.8992, 0.5593, 0.1849, 0.9081, 0.4080, 0.4065, 0.2280,\n",
            "        0.2015, 0.5117], device='cuda:0')\n"
          ]
        },
        {
          "output_type": "stream",
          "name": "stderr",
          "text": [
            "100%|██████████| 32/32 [00:48<00:00,  1.51s/it]\n"
          ]
        },
        {
          "output_type": "stream",
          "name": "stdout",
          "text": [
            "epoch=36, learning rate=0.0013\n",
            "Epoch: 37, Average val loss per epoch: 0.6370213022455573\n",
            "Epoch: 37, Average val jaccard_micro coeff per epoch: 0.7462752461433411\n",
            "Epoch: 37, Average val jaccard_macro coeff per epoch: 0.38756418228149414\n",
            "Epoch: 37, Average val jaccard_weighted coeff per epoch: 0.7627277374267578\n",
            "Epoch: 37, Average val jaccard_none coeff per epoch: tensor([0.6372, 0.8936, 0.5862, 0.7825, 0.1167, 0.1191, 0.3256, 0.0862, 0.2323,\n",
            "        0.8326, 0.3081, 0.8137, 0.3702, 0.0931, 0.8004, 0.1411, 0.1970, 0.0424,\n",
            "        0.0409, 0.3324], device='cuda:0')\n",
            "Epoch: 38\n"
          ]
        },
        {
          "output_type": "stream",
          "name": "stderr",
          "text": [
            "100%|██████████| 170/170 [04:49<00:00,  1.70s/it]\n"
          ]
        },
        {
          "output_type": "stream",
          "name": "stdout",
          "text": [
            "Epoch: 38, Average train loss per epoch: 0.2479054869974361\n",
            "Epoch: 38, Average train jaccard_micro coeff per epoch: 0.8674048185348511\n",
            "Epoch: 38, Average train jaccard_macro coeff per epoch: 0.5462794303894043\n",
            "Epoch: 38, Average train jaccard_weighted coeff per epoch: 0.8739504814147949\n",
            "Epoch: 38, Average train jaccard_none coeff per epoch: tensor([0.8690, 0.9700, 0.8272, 0.8766, 0.3060, 0.4193, 0.3856, 0.1632, 0.3326,\n",
            "        0.8775, 0.5456, 0.9010, 0.5609, 0.1890, 0.9065, 0.4300, 0.3680, 0.2691,\n",
            "        0.2103, 0.5182], device='cuda:0')\n"
          ]
        },
        {
          "output_type": "stream",
          "name": "stderr",
          "text": [
            "100%|██████████| 32/32 [00:48<00:00,  1.50s/it]\n"
          ]
        },
        {
          "output_type": "stream",
          "name": "stdout",
          "text": [
            "epoch=37, learning rate=0.0013\n",
            "Epoch: 38, Average val loss per epoch: 0.639254723675549\n",
            "Epoch: 38, Average val jaccard_micro coeff per epoch: 0.7479720115661621\n",
            "Epoch: 38, Average val jaccard_macro coeff per epoch: 0.3883514404296875\n",
            "Epoch: 38, Average val jaccard_weighted coeff per epoch: 0.7646970152854919\n",
            "Epoch: 38, Average val jaccard_none coeff per epoch: tensor([0.6315, 0.8946, 0.5859, 0.7852, 0.1089, 0.1179, 0.3267, 0.1016, 0.2350,\n",
            "        0.8449, 0.3198, 0.8221, 0.3700, 0.0613, 0.7978, 0.1416, 0.2081, 0.0528,\n",
            "        0.0280, 0.3333], device='cuda:0')\n",
            "Epoch: 39\n"
          ]
        },
        {
          "output_type": "stream",
          "name": "stderr",
          "text": [
            "100%|██████████| 170/170 [04:49<00:00,  1.70s/it]\n"
          ]
        },
        {
          "output_type": "stream",
          "name": "stdout",
          "text": [
            "Epoch: 39, Average train loss per epoch: 0.2327813752433833\n",
            "Epoch: 39, Average train jaccard_micro coeff per epoch: 0.8748034238815308\n",
            "Epoch: 39, Average train jaccard_macro coeff per epoch: 0.5554862022399902\n",
            "Epoch: 39, Average train jaccard_weighted coeff per epoch: 0.8810731172561646\n",
            "Epoch: 39, Average train jaccard_none coeff per epoch: tensor([0.8804, 0.9729, 0.8358, 0.8854, 0.3338, 0.4439, 0.3958, 0.1716, 0.3453,\n",
            "        0.8867, 0.5511, 0.9033, 0.5722, 0.1958, 0.9068, 0.4320, 0.3904, 0.2577,\n",
            "        0.2147, 0.5341], device='cuda:0')\n"
          ]
        },
        {
          "output_type": "stream",
          "name": "stderr",
          "text": [
            "100%|██████████| 32/32 [00:48<00:00,  1.51s/it]\n"
          ]
        },
        {
          "output_type": "stream",
          "name": "stdout",
          "text": [
            "epoch=38, learning rate=0.0013\n",
            "Epoch: 39, Average val loss per epoch: 0.6386233838275075\n",
            "Epoch: 39, Average val jaccard_micro coeff per epoch: 0.7516723275184631\n",
            "Epoch: 39, Average val jaccard_macro coeff per epoch: 0.3941819369792938\n",
            "Epoch: 39, Average val jaccard_weighted coeff per epoch: 0.7677556276321411\n",
            "Epoch: 39, Average val jaccard_none coeff per epoch: tensor([0.6465, 0.8958, 0.5922, 0.7783, 0.1146, 0.1110, 0.3297, 0.1073, 0.2411,\n",
            "        0.8512, 0.3169, 0.8167, 0.3753, 0.0760, 0.8109, 0.1565, 0.2260, 0.0557,\n",
            "        0.0317, 0.3501], device='cuda:0')\n",
            "Epoch: 40\n"
          ]
        },
        {
          "output_type": "stream",
          "name": "stderr",
          "text": [
            "100%|██████████| 170/170 [04:49<00:00,  1.70s/it]\n"
          ]
        },
        {
          "output_type": "stream",
          "name": "stdout",
          "text": [
            "Epoch: 40, Average train loss per epoch: 0.23603992129073423\n",
            "Epoch: 40, Average train jaccard_micro coeff per epoch: 0.8748232126235962\n",
            "Epoch: 40, Average train jaccard_macro coeff per epoch: 0.5600771903991699\n",
            "Epoch: 40, Average train jaccard_weighted coeff per epoch: 0.8813142776489258\n",
            "Epoch: 40, Average train jaccard_none coeff per epoch: tensor([0.8803, 0.9722, 0.8392, 0.8864, 0.3327, 0.4443, 0.4004, 0.1755, 0.3518,\n",
            "        0.8837, 0.5629, 0.9032, 0.5794, 0.2026, 0.9061, 0.4496, 0.4060, 0.2790,\n",
            "        0.2211, 0.5250], device='cuda:0')\n"
          ]
        },
        {
          "output_type": "stream",
          "name": "stderr",
          "text": [
            "100%|██████████| 32/32 [00:48<00:00,  1.51s/it]\n"
          ]
        },
        {
          "output_type": "stream",
          "name": "stdout",
          "text": [
            "epoch=39, learning rate=0.0013\n",
            "Epoch: 40, Average val loss per epoch: 0.7076272079721093\n",
            "Epoch: 40, Average val jaccard_micro coeff per epoch: 0.7367755770683289\n",
            "Epoch: 40, Average val jaccard_macro coeff per epoch: 0.37527090311050415\n",
            "Epoch: 40, Average val jaccard_weighted coeff per epoch: 0.7527917623519897\n",
            "Epoch: 40, Average val jaccard_none coeff per epoch: tensor([0.6137, 0.8925, 0.5689, 0.7625, 0.1003, 0.0892, 0.3208, 0.1005, 0.2242,\n",
            "        0.8382, 0.3090, 0.7564, 0.3367, 0.0687, 0.8026, 0.1372, 0.1877, 0.0350,\n",
            "        0.0386, 0.3228], device='cuda:0')\n",
            "Epoch: 41\n"
          ]
        },
        {
          "output_type": "stream",
          "name": "stderr",
          "text": [
            "100%|██████████| 170/170 [04:49<00:00,  1.71s/it]\n"
          ]
        },
        {
          "output_type": "stream",
          "name": "stdout",
          "text": [
            "Epoch: 41, Average train loss per epoch: 0.24160580196801354\n",
            "Epoch: 41, Average train jaccard_micro coeff per epoch: 0.8705582022666931\n",
            "Epoch: 41, Average train jaccard_macro coeff per epoch: 0.5506674647331238\n",
            "Epoch: 41, Average train jaccard_weighted coeff per epoch: 0.8770636320114136\n",
            "Epoch: 41, Average train jaccard_none coeff per epoch: tensor([0.8736, 0.9721, 0.8301, 0.8780, 0.3210, 0.4246, 0.3931, 0.1709, 0.3419,\n",
            "        0.8804, 0.5530, 0.8994, 0.5643, 0.1988, 0.9087, 0.4445, 0.3870, 0.2415,\n",
            "        0.2115, 0.5189], device='cuda:0')\n"
          ]
        },
        {
          "output_type": "stream",
          "name": "stderr",
          "text": [
            "100%|██████████| 32/32 [00:48<00:00,  1.50s/it]\n"
          ]
        },
        {
          "output_type": "stream",
          "name": "stdout",
          "text": [
            "epoch=40, learning rate=0.0013\n",
            "Epoch: 41, Average val loss per epoch: 0.6301542231813073\n",
            "Epoch: 41, Average val jaccard_micro coeff per epoch: 0.745664119720459\n",
            "Epoch: 41, Average val jaccard_macro coeff per epoch: 0.3953392505645752\n",
            "Epoch: 41, Average val jaccard_weighted coeff per epoch: 0.7661775350570679\n",
            "Epoch: 41, Average val jaccard_none coeff per epoch: tensor([0.6404, 0.8953, 0.5847, 0.7816, 0.0927, 0.1445, 0.3267, 0.1131, 0.2427,\n",
            "        0.8420, 0.3164, 0.8203, 0.3765, 0.0852, 0.8075, 0.1478, 0.2466, 0.0714,\n",
            "        0.0286, 0.3430], device='cuda:0')\n",
            "Epoch: 42\n"
          ]
        },
        {
          "output_type": "stream",
          "name": "stderr",
          "text": [
            "100%|██████████| 170/170 [04:49<00:00,  1.70s/it]\n"
          ]
        },
        {
          "output_type": "stream",
          "name": "stdout",
          "text": [
            "Epoch: 42, Average train loss per epoch: 0.2329798087477684\n",
            "Epoch: 42, Average train jaccard_micro coeff per epoch: 0.8744263648986816\n",
            "Epoch: 42, Average train jaccard_macro coeff per epoch: 0.5570794343948364\n",
            "Epoch: 42, Average train jaccard_weighted coeff per epoch: 0.8808726668357849\n",
            "Epoch: 42, Average train jaccard_none coeff per epoch: tensor([0.8798, 0.9733, 0.8397, 0.8841, 0.3252, 0.4238, 0.3993, 0.1729, 0.3445,\n",
            "        0.8859, 0.5667, 0.9041, 0.5681, 0.2056, 0.9104, 0.4386, 0.3969, 0.2715,\n",
            "        0.2251, 0.5262], device='cuda:0')\n"
          ]
        },
        {
          "output_type": "stream",
          "name": "stderr",
          "text": [
            "100%|██████████| 32/32 [00:48<00:00,  1.51s/it]\n"
          ]
        },
        {
          "output_type": "stream",
          "name": "stdout",
          "text": [
            "epoch=41, learning rate=0.0013\n",
            "Epoch: 42, Average val loss per epoch: 0.6446344424039125\n",
            "Epoch: 42, Average val jaccard_micro coeff per epoch: 0.7520972490310669\n",
            "Epoch: 42, Average val jaccard_macro coeff per epoch: 0.3935360312461853\n",
            "Epoch: 42, Average val jaccard_weighted coeff per epoch: 0.7680772542953491\n",
            "Epoch: 42, Average val jaccard_none coeff per epoch: tensor([0.6456, 0.8943, 0.5765, 0.7868, 0.1142, 0.1263, 0.3295, 0.1060, 0.2445,\n",
            "        0.8502, 0.3157, 0.8245, 0.3656, 0.0819, 0.8123, 0.1569, 0.2214, 0.0510,\n",
            "        0.0249, 0.3426], device='cuda:0')\n",
            "Epoch: 43\n"
          ]
        },
        {
          "output_type": "stream",
          "name": "stderr",
          "text": [
            "100%|██████████| 170/170 [04:49<00:00,  1.70s/it]\n"
          ]
        },
        {
          "output_type": "stream",
          "name": "stdout",
          "text": [
            "Epoch: 43, Average train loss per epoch: 0.22003427314407686\n",
            "Epoch: 43, Average train jaccard_micro coeff per epoch: 0.8810580372810364\n",
            "Epoch: 43, Average train jaccard_macro coeff per epoch: 0.5693718791007996\n",
            "Epoch: 43, Average train jaccard_weighted coeff per epoch: 0.8869229555130005\n",
            "Epoch: 43, Average train jaccard_none coeff per epoch: tensor([0.8923, 0.9746, 0.8439, 0.8921, 0.3383, 0.4527, 0.4091, 0.1806, 0.3573,\n",
            "        0.8908, 0.5653, 0.9062, 0.5794, 0.2203, 0.9151, 0.5053, 0.3978, 0.2758,\n",
            "        0.2424, 0.5482], device='cuda:0')\n"
          ]
        },
        {
          "output_type": "stream",
          "name": "stderr",
          "text": [
            "100%|██████████| 32/32 [00:47<00:00,  1.50s/it]\n"
          ]
        },
        {
          "output_type": "stream",
          "name": "stdout",
          "text": [
            "epoch=42, learning rate=0.0013\n",
            "Epoch: 43, Average val loss per epoch: 0.6575869070366025\n",
            "Epoch: 43, Average val jaccard_micro coeff per epoch: 0.7529340386390686\n",
            "Epoch: 43, Average val jaccard_macro coeff per epoch: 0.39623963832855225\n",
            "Epoch: 43, Average val jaccard_weighted coeff per epoch: 0.7691922187805176\n",
            "Epoch: 43, Average val jaccard_none coeff per epoch: tensor([0.6510, 0.8961, 0.5900, 0.7869, 0.1162, 0.1270, 0.3313, 0.1073, 0.2415,\n",
            "        0.8443, 0.3167, 0.8251, 0.3690, 0.0947, 0.8097, 0.1549, 0.2160, 0.0618,\n",
            "        0.0416, 0.3436], device='cuda:0')\n",
            "Epoch: 44\n"
          ]
        },
        {
          "output_type": "stream",
          "name": "stderr",
          "text": [
            "100%|██████████| 170/170 [04:48<00:00,  1.70s/it]\n"
          ]
        },
        {
          "output_type": "stream",
          "name": "stdout",
          "text": [
            "Epoch: 44, Average train loss per epoch: 0.2161441941471661\n",
            "Epoch: 44, Average train jaccard_micro coeff per epoch: 0.8828900456428528\n",
            "Epoch: 44, Average train jaccard_macro coeff per epoch: 0.5743129849433899\n",
            "Epoch: 44, Average train jaccard_weighted coeff per epoch: 0.8887214660644531\n",
            "Epoch: 44, Average train jaccard_none coeff per epoch: tensor([0.8952, 0.9753, 0.8478, 0.8945, 0.3492, 0.4612, 0.4155, 0.1845, 0.3608,\n",
            "        0.8913, 0.5705, 0.9069, 0.5870, 0.2207, 0.9154, 0.4615, 0.4315, 0.2836,\n",
            "        0.2792, 0.5547], device='cuda:0')\n"
          ]
        },
        {
          "output_type": "stream",
          "name": "stderr",
          "text": [
            "100%|██████████| 32/32 [00:48<00:00,  1.50s/it]\n"
          ]
        },
        {
          "output_type": "stream",
          "name": "stdout",
          "text": [
            "epoch=43, learning rate=0.0013\n",
            "Epoch: 44, Average val loss per epoch: 0.6619741944596171\n",
            "Epoch: 44, Average val jaccard_micro coeff per epoch: 0.7519373893737793\n",
            "Epoch: 44, Average val jaccard_macro coeff per epoch: 0.39323949813842773\n",
            "Epoch: 44, Average val jaccard_weighted coeff per epoch: 0.7675977349281311\n",
            "Epoch: 44, Average val jaccard_none coeff per epoch: tensor([0.6516, 0.8947, 0.5832, 0.7845, 0.1214, 0.1317, 0.3314, 0.0952, 0.2350,\n",
            "        0.8445, 0.3198, 0.8218, 0.3742, 0.0928, 0.8026, 0.1489, 0.2042, 0.0541,\n",
            "        0.0303, 0.3427], device='cuda:0')\n",
            "Epoch: 45\n"
          ]
        },
        {
          "output_type": "stream",
          "name": "stderr",
          "text": [
            "100%|██████████| 170/170 [04:49<00:00,  1.70s/it]\n"
          ]
        },
        {
          "output_type": "stream",
          "name": "stdout",
          "text": [
            "Epoch: 45, Average train loss per epoch: 0.21867879488888908\n",
            "Epoch: 45, Average train jaccard_micro coeff per epoch: 0.8822963237762451\n",
            "Epoch: 45, Average train jaccard_macro coeff per epoch: 0.5744916200637817\n",
            "Epoch: 45, Average train jaccard_weighted coeff per epoch: 0.8885058164596558\n",
            "Epoch: 45, Average train jaccard_none coeff per epoch: tensor([0.8946, 0.9754, 0.8501, 0.8930, 0.3514, 0.4545, 0.4157, 0.1834, 0.3648,\n",
            "        0.8883, 0.5674, 0.9019, 0.5904, 0.2291, 0.9111, 0.5007, 0.4076, 0.2647,\n",
            "        0.2811, 0.5648], device='cuda:0')\n"
          ]
        },
        {
          "output_type": "stream",
          "name": "stderr",
          "text": [
            "100%|██████████| 32/32 [00:48<00:00,  1.50s/it]\n"
          ]
        },
        {
          "output_type": "stream",
          "name": "stdout",
          "text": [
            "epoch=44, learning rate=0.0013\n",
            "Epoch: 45, Average val loss per epoch: 0.6904342668130994\n",
            "Epoch: 45, Average val jaccard_micro coeff per epoch: 0.7444512248039246\n",
            "Epoch: 45, Average val jaccard_macro coeff per epoch: 0.38401034474372864\n",
            "Epoch: 45, Average val jaccard_weighted coeff per epoch: 0.7609976530075073\n",
            "Epoch: 45, Average val jaccard_none coeff per epoch: tensor([0.6426, 0.8920, 0.5813, 0.7685, 0.1169, 0.1064, 0.3259, 0.0996, 0.2293,\n",
            "        0.8443, 0.3104, 0.7873, 0.3496, 0.0757, 0.8025, 0.1417, 0.2180, 0.0359,\n",
            "        0.0265, 0.3260], device='cuda:0')\n",
            "Epoch: 46\n"
          ]
        },
        {
          "output_type": "stream",
          "name": "stderr",
          "text": [
            "100%|██████████| 170/170 [04:49<00:00,  1.70s/it]\n"
          ]
        },
        {
          "output_type": "stream",
          "name": "stdout",
          "text": [
            "Epoch: 46, Average train loss per epoch: 0.22626392297884998\n",
            "Epoch: 46, Average train jaccard_micro coeff per epoch: 0.8773675560951233\n",
            "Epoch: 46, Average train jaccard_macro coeff per epoch: 0.566581130027771\n",
            "Epoch: 46, Average train jaccard_weighted coeff per epoch: 0.8833431601524353\n",
            "Epoch: 46, Average train jaccard_none coeff per epoch: tensor([0.8855, 0.9739, 0.8401, 0.8850, 0.3304, 0.4471, 0.4091, 0.1798, 0.3520,\n",
            "        0.8875, 0.5732, 0.9010, 0.5823, 0.2116, 0.9130, 0.4791, 0.4061, 0.2776,\n",
            "        0.2518, 0.5454], device='cuda:0')\n"
          ]
        },
        {
          "output_type": "stream",
          "name": "stderr",
          "text": [
            "100%|██████████| 32/32 [00:48<00:00,  1.50s/it]\n"
          ]
        },
        {
          "output_type": "stream",
          "name": "stdout",
          "text": [
            "epoch=45, learning rate=0.0013\n",
            "Epoch: 46, Average val loss per epoch: 0.6565273618325591\n",
            "Epoch: 46, Average val jaccard_micro coeff per epoch: 0.7508065700531006\n",
            "Epoch: 46, Average val jaccard_macro coeff per epoch: 0.39509066939353943\n",
            "Epoch: 46, Average val jaccard_weighted coeff per epoch: 0.7685591578483582\n",
            "Epoch: 46, Average val jaccard_none coeff per epoch: tensor([0.6502, 0.8956, 0.5898, 0.7820, 0.1194, 0.1192, 0.3261, 0.1124, 0.2499,\n",
            "        0.8475, 0.3219, 0.8120, 0.3616, 0.0798, 0.8182, 0.1679, 0.2264, 0.0664,\n",
            "        0.0173, 0.3382], device='cuda:0')\n",
            "Epoch: 47\n"
          ]
        },
        {
          "output_type": "stream",
          "name": "stderr",
          "text": [
            "100%|██████████| 170/170 [04:49<00:00,  1.70s/it]\n"
          ]
        },
        {
          "output_type": "stream",
          "name": "stdout",
          "text": [
            "Epoch: 47, Average train loss per epoch: 0.21010786610491136\n",
            "Epoch: 47, Average train jaccard_micro coeff per epoch: 0.8856942653656006\n",
            "Epoch: 47, Average train jaccard_macro coeff per epoch: 0.5804194808006287\n",
            "Epoch: 47, Average train jaccard_weighted coeff per epoch: 0.8913334608078003\n",
            "Epoch: 47, Average train jaccard_none coeff per epoch: tensor([0.9001, 0.9759, 0.8535, 0.8972, 0.3504, 0.4644, 0.4226, 0.1885, 0.3690,\n",
            "        0.8932, 0.5742, 0.9078, 0.5918, 0.2322, 0.9178, 0.4944, 0.4621, 0.2755,\n",
            "        0.2651, 0.5726], device='cuda:0')\n"
          ]
        },
        {
          "output_type": "stream",
          "name": "stderr",
          "text": [
            "100%|██████████| 32/32 [00:48<00:00,  1.51s/it]\n"
          ]
        },
        {
          "output_type": "stream",
          "name": "stdout",
          "text": [
            "epoch=46, learning rate=0.0013\n",
            "Epoch: 47, Average val loss per epoch: 0.6848458852618933\n",
            "Epoch: 47, Average val jaccard_micro coeff per epoch: 0.7513893246650696\n",
            "Epoch: 47, Average val jaccard_macro coeff per epoch: 0.39565664529800415\n",
            "Epoch: 47, Average val jaccard_weighted coeff per epoch: 0.7682114243507385\n",
            "Epoch: 47, Average val jaccard_none coeff per epoch: tensor([0.6453, 0.8949, 0.5815, 0.7858, 0.1188, 0.1282, 0.3320, 0.1008, 0.2463,\n",
            "        0.8478, 0.3169, 0.8136, 0.3838, 0.0845, 0.8170, 0.1603, 0.2273, 0.0626,\n",
            "        0.0235, 0.3421], device='cuda:0')\n",
            "Epoch: 48\n"
          ]
        },
        {
          "output_type": "stream",
          "name": "stderr",
          "text": [
            "100%|██████████| 170/170 [04:49<00:00,  1.70s/it]\n"
          ]
        },
        {
          "output_type": "stream",
          "name": "stdout",
          "text": [
            "Epoch: 48, Average train loss per epoch: 0.20996355580932954\n",
            "Epoch: 48, Average train jaccard_micro coeff per epoch: 0.885553777217865\n",
            "Epoch: 48, Average train jaccard_macro coeff per epoch: 0.5797101259231567\n",
            "Epoch: 48, Average train jaccard_weighted coeff per epoch: 0.8912411332130432\n",
            "Epoch: 48, Average train jaccard_none coeff per epoch: tensor([0.9010, 0.9758, 0.8531, 0.8963, 0.3605, 0.4659, 0.4262, 0.1921, 0.3681,\n",
            "        0.8946, 0.5785, 0.9056, 0.6048, 0.2378, 0.9138, 0.4816, 0.4147, 0.2849,\n",
            "        0.2736, 0.5654], device='cuda:0')\n"
          ]
        },
        {
          "output_type": "stream",
          "name": "stderr",
          "text": [
            "100%|██████████| 32/32 [00:48<00:00,  1.50s/it]\n"
          ]
        },
        {
          "output_type": "stream",
          "name": "stdout",
          "text": [
            "epoch=47, learning rate=0.0013\n",
            "Epoch: 48, Average val loss per epoch: 0.7142640659585595\n",
            "Epoch: 48, Average val jaccard_micro coeff per epoch: 0.7513015270233154\n",
            "Epoch: 48, Average val jaccard_macro coeff per epoch: 0.3944568932056427\n",
            "Epoch: 48, Average val jaccard_weighted coeff per epoch: 0.7666755318641663\n",
            "Epoch: 48, Average val jaccard_none coeff per epoch: tensor([0.6484, 0.8919, 0.5712, 0.7819, 0.1121, 0.1211, 0.3302, 0.0984, 0.2389,\n",
            "        0.8504, 0.3218, 0.8184, 0.3860, 0.0903, 0.8139, 0.1445, 0.2263, 0.0739,\n",
            "        0.0275, 0.3420], device='cuda:0')\n",
            "Epoch: 49\n"
          ]
        },
        {
          "output_type": "stream",
          "name": "stderr",
          "text": [
            "100%|██████████| 170/170 [04:50<00:00,  1.71s/it]\n"
          ]
        },
        {
          "output_type": "stream",
          "name": "stdout",
          "text": [
            "Epoch: 49, Average train loss per epoch: 0.211333848185399\n",
            "Epoch: 49, Average train jaccard_micro coeff per epoch: 0.885002076625824\n",
            "Epoch: 49, Average train jaccard_macro coeff per epoch: 0.5786671042442322\n",
            "Epoch: 49, Average train jaccard_weighted coeff per epoch: 0.890832245349884\n",
            "Epoch: 49, Average train jaccard_none coeff per epoch: tensor([0.8992, 0.9754, 0.8445, 0.8938, 0.3502, 0.4601, 0.4307, 0.1905, 0.3720,\n",
            "        0.8946, 0.5823, 0.9054, 0.5975, 0.2307, 0.9170, 0.4766, 0.4190, 0.2818,\n",
            "        0.2779, 0.5743], device='cuda:0')\n"
          ]
        },
        {
          "output_type": "stream",
          "name": "stderr",
          "text": [
            "100%|██████████| 32/32 [00:48<00:00,  1.51s/it]\n"
          ]
        },
        {
          "output_type": "stream",
          "name": "stdout",
          "text": [
            "epoch=48, learning rate=0.0013\n",
            "Epoch: 49, Average val loss per epoch: 0.6956873461604118\n",
            "Epoch: 49, Average val jaccard_micro coeff per epoch: 0.7371800541877747\n",
            "Epoch: 49, Average val jaccard_macro coeff per epoch: 0.3869055211544037\n",
            "Epoch: 49, Average val jaccard_weighted coeff per epoch: 0.7540435194969177\n",
            "Epoch: 49, Average val jaccard_none coeff per epoch: tensor([0.6412, 0.8949, 0.5755, 0.7668, 0.1100, 0.1234, 0.3241, 0.0881, 0.2390,\n",
            "        0.7866, 0.3130, 0.8134, 0.3665, 0.1029, 0.8002, 0.1473, 0.2375, 0.0491,\n",
            "        0.0337, 0.3250], device='cuda:0')\n",
            "Epoch: 50\n"
          ]
        },
        {
          "output_type": "stream",
          "name": "stderr",
          "text": [
            "100%|██████████| 170/170 [04:49<00:00,  1.70s/it]\n"
          ]
        },
        {
          "output_type": "stream",
          "name": "stdout",
          "text": [
            "Epoch: 50, Average train loss per epoch: 0.24576938055893954\n",
            "Epoch: 50, Average train jaccard_micro coeff per epoch: 0.8798310160636902\n",
            "Epoch: 50, Average train jaccard_macro coeff per epoch: 0.5724087357521057\n",
            "Epoch: 50, Average train jaccard_weighted coeff per epoch: 0.8863012194633484\n",
            "Epoch: 50, Average train jaccard_none coeff per epoch: tensor([0.8931, 0.9698, 0.8480, 0.8924, 0.3419, 0.4630, 0.4234, 0.1867, 0.3680,\n",
            "        0.8896, 0.5693, 0.9052, 0.5887, 0.2281, 0.9133, 0.4581, 0.4055, 0.2787,\n",
            "        0.2644, 0.5610], device='cuda:0')\n"
          ]
        },
        {
          "output_type": "stream",
          "name": "stderr",
          "text": [
            "100%|██████████| 32/32 [00:48<00:00,  1.50s/it]"
          ]
        },
        {
          "output_type": "stream",
          "name": "stdout",
          "text": [
            "epoch=49, learning rate=0.0013\n",
            "Epoch: 50, Average val loss per epoch: 0.7214858280494809\n",
            "Epoch: 50, Average val jaccard_micro coeff per epoch: 0.7456471920013428\n",
            "Epoch: 50, Average val jaccard_macro coeff per epoch: 0.3840322196483612\n",
            "Epoch: 50, Average val jaccard_weighted coeff per epoch: 0.7614551186561584\n",
            "Epoch: 50, Average val jaccard_none coeff per epoch: tensor([0.6329, 0.8913, 0.5625, 0.7847, 0.1216, 0.1206, 0.3141, 0.0759, 0.2179,\n",
            "        0.8405, 0.3150, 0.8168, 0.3715, 0.0963, 0.7970, 0.1315, 0.1852, 0.0572,\n",
            "        0.0395, 0.3085], device='cuda:0')\n"
          ]
        },
        {
          "output_type": "stream",
          "name": "stderr",
          "text": [
            "\n"
          ]
        }
      ]
    },
    {
      "cell_type": "code",
      "source": [],
      "metadata": {
        "id": "21RNEC4q3K0p"
      },
      "execution_count": null,
      "outputs": []
    }
  ]
}