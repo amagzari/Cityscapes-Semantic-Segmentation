{
  "nbformat": 4,
  "nbformat_minor": 0,
  "metadata": {
    "colab": {
      "provenance": [],
      "machine_shape": "hm"
    },
    "kernelspec": {
      "name": "python3",
      "display_name": "Python 3"
    },
    "language_info": {
      "name": "python"
    },
    "accelerator": "GPU",
    "gpuClass": "premium"
  },
  "cells": [
    {
      "cell_type": "code",
      "source": [
        "from google.colab import drive\n",
        "drive.mount('/content/drive/')"
      ],
      "metadata": {
        "id": "icbMGyRgGS6l"
      },
      "execution_count": null,
      "outputs": []
    },
    {
      "cell_type": "code",
      "source": [
        "from collections import namedtuple\n",
        "import os\n",
        "import numpy as np\n",
        "import cv2"
      ],
      "metadata": {
        "id": "Oc0HDZhxdvqS"
      },
      "execution_count": null,
      "outputs": []
    },
    {
      "cell_type": "code",
      "source": [
        "# a label and all meta information\n",
        "Label = namedtuple( 'Label' , [\n",
        "\n",
        "    'name'        , # The identifier of this label, e.g. 'car', 'person', ... .\n",
        "                    # We use them to uniquely name a class\n",
        "\n",
        "    'id'          , # An integer ID that is associated with this label.\n",
        "                    # The IDs are used to represent the label in ground truth images\n",
        "                    # An ID of -1 means that this label does not have an ID and thus\n",
        "                    # is ignored when creating ground truth images (e.g. license plate).\n",
        "                    # Do not modify these IDs, since exactly these IDs are expected by the\n",
        "                    # evaluation server.\n",
        "\n",
        "    'trainId'     , # Feel free to modify these IDs as suitable for your method. Then create\n",
        "                    # ground truth images with train IDs, using the tools provided in the\n",
        "                    # 'preparation' folder. However, make sure to validate or submit results\n",
        "                    # to our evaluation server using the regular IDs above!\n",
        "                    # For trainIds, multiple labels might have the same ID. Then, these labels\n",
        "                    # are mapped to the same class in the ground truth images. For the inverse\n",
        "                    # mapping, we use the label that is defined first in the list below.\n",
        "                    # For example, mapping all void-type classes to the same ID in training,\n",
        "                    # might make sense for some approaches.\n",
        "                    # Max value is 255!\n",
        "\n",
        "    'category'    , # The name of the category that this label belongs to\n",
        "\n",
        "    'categoryId'  , # The ID of this category. Used to create ground truth images\n",
        "                    # on category level.\n",
        "\n",
        "    'hasInstances', # Whether this label distinguishes between single instances or not\n",
        "\n",
        "    'ignoreInEval', # Whether pixels having this class as ground truth label are ignored\n",
        "                    # during evaluations or not\n",
        "\n",
        "    'color'       , # The color of this label\n",
        "    ] )\n",
        "\n",
        "labels = [\n",
        "    #       name                     id    trainId   category            catId     hasInstances   ignoreInEval   color\n",
        "    Label(  'unlabeled'            ,  0 ,      0 , 'void'            , 0       , False        , True         , (  0,  0,  0) ),\n",
        "    Label(  'ego vehicle'          ,  1 ,      0 , 'void'            , 0       , False        , True         , (  0,  0,  0) ),\n",
        "    Label(  'rectification border' ,  2 ,      0 , 'void'            , 0       , False        , True         , (  0,  0,  0) ),\n",
        "    Label(  'out of roi'           ,  3 ,      0 , 'void'            , 0       , False        , True         , (  0,  0,  0) ),\n",
        "    Label(  'static'               ,  4 ,      0 , 'void'            , 0       , False        , True         , (  0,  0,  0) ),\n",
        "    Label(  'dynamic'              ,  5 ,      0 , 'void'            , 0       , False        , True         , (111, 74,  0) ),\n",
        "    Label(  'ground'               ,  6 ,      0 , 'void'            , 0       , False        , True         , ( 81,  0, 81) ),\n",
        "    Label(  'road'                 ,  7 ,      1 , 'flat'            , 1       , False        , False        , (128, 64,128) ),\n",
        "    Label(  'sidewalk'             ,  8 ,      2 , 'flat'            , 1       , False        , False        , (244, 35,232) ),\n",
        "    Label(  'parking'              ,  9 ,      0 , 'flat'            , 1       , False        , True         , (250,170,160) ),\n",
        "    Label(  'rail track'           , 10 ,      0 , 'flat'            , 1       , False        , True         , (230,150,140) ),\n",
        "    Label(  'building'             , 11 ,      3 , 'construction'    , 2       , False        , False        , ( 70, 70, 70) ),\n",
        "    Label(  'wall'                 , 12 ,      4 , 'construction'    , 2       , False        , False        , (102,102,156) ),\n",
        "    Label(  'fence'                , 13 ,      5 , 'construction'    , 2       , False        , False        , (190,153,153) ),\n",
        "    Label(  'guard rail'           , 14 ,      0 , 'construction'    , 2       , False        , True         , (180,165,180) ),\n",
        "    Label(  'bridge'               , 15 ,      0 , 'construction'    , 2       , False        , True         , (150,100,100) ),\n",
        "    Label(  'tunnel'               , 16 ,      0 , 'construction'    , 2       , False        , True         , (150,120, 90) ),\n",
        "    Label(  'pole'                 , 17 ,      6 , 'object'          , 3       , False        , False        , (153,153,153) ),\n",
        "    Label(  'polegroup'            , 18 ,      0 , 'object'          , 3       , False        , True         , (153,153,153) ),\n",
        "    Label(  'traffic light'        , 19 ,      7 , 'object'          , 3       , False        , False        , (250,170, 30) ),\n",
        "    Label(  'traffic sign'         , 20 ,      8 , 'object'          , 3       , False        , False        , (220,220,  0) ),\n",
        "    Label(  'vegetation'           , 21 ,      9 , 'nature'          , 4       , False        , False        , (107,142, 35) ),\n",
        "    Label(  'terrain'              , 22 ,     10 , 'nature'          , 4       , False        , False        , (152,251,152) ),\n",
        "    Label(  'sky'                  , 23 ,     11 , 'sky'             , 5       , False        , False        , ( 70,130,180) ),\n",
        "    Label(  'person'               , 24 ,     12 , 'human'           , 6       , True         , False        , (220, 20, 60) ),\n",
        "    Label(  'rider'                , 25 ,     13 , 'human'           , 6       , True         , False        , (255,  0,  0) ),\n",
        "    Label(  'car'                  , 26 ,     14 , 'vehicle'         , 7       , True         , False        , (  0,  0,142) ),\n",
        "    Label(  'truck'                , 27 ,     15 , 'vehicle'         , 7       , True         , False        , (  0,  0, 70) ),\n",
        "    Label(  'bus'                  , 28 ,     16 , 'vehicle'         , 7       , True         , False        , (  0, 60,100) ),\n",
        "    Label(  'caravan'              , 29 ,      0 , 'vehicle'         , 7       , True         , True         , (  0,  0, 90) ),\n",
        "    Label(  'trailer'              , 30 ,      0 , 'vehicle'         , 7       , True         , True         , (  0,  0,110) ),\n",
        "    Label(  'train'                , 31 ,     17 , 'vehicle'         , 7       , True         , False        , (  0, 80,100) ),\n",
        "    Label(  'motorcycle'           , 32 ,     18 , 'vehicle'         , 7       , True         , False        , (  0,  0,230) ),\n",
        "    Label(  'bicycle'              , 33 ,     19 , 'vehicle'         , 7       , True         , False        , (119, 11, 32) ),\n",
        "    Label(  'license plate'        , -1 ,      0 , 'vehicle'         , 7       , False        , True         , (  0,  0,142) ),\n",
        "]"
      ],
      "metadata": {
        "id": "Gpg6TNxtc5Hm"
      },
      "execution_count": null,
      "outputs": []
    },
    {
      "cell_type": "code",
      "source": [
        "# Create a function which maps id to trainId\n",
        "# Method inspired from: https://github.com/fregu856/deeplabv3/blob/master/datasets.py\n",
        "# This assusmes that you have downloaded the Cityscpes dataset\n",
        "id_to_trainId_map_func = np.vectorize(id_to_trainId.get)\n",
        "\n",
        "train_dirs = [\"jena/\", \"zurich/\", \"weimar/\", \"ulm/\", \"tubingen/\", \"stuttgart/\",\n",
        "              \"strasbourg/\", \"monchengladbach/\", \"krefeld/\", \"hanover/\",\n",
        "              \"hamburg/\", \"erfurt/\", \"dusseldorf/\", \"darmstadt/\", \"cologne/\",\n",
        "              \"bremen/\", \"bochum/\", \"aachen/\"]\n",
        "val_dirs = [\"frankfurt/\", \"munster/\", \"lindau/\"]"
      ],
      "metadata": {
        "id": "hdwi5DRbd2J-"
      },
      "execution_count": null,
      "outputs": []
    },
    {
      "cell_type": "code",
      "source": [
        "cityscapes_data_path = '../content/drive/MyDrive/Cityscapes_data'\n",
        "cityscapes_meta_path = '../content/drive/MyDrive/Cityscapes_data/meta'\n",
        "\n",
        "if not os.path.exists(cityscapes_meta_path):\n",
        "    os.makedirs(cityscapes_meta_path)\n",
        "if not os.path.exists(cityscapes_meta_path + \"/label_imgs\"):\n",
        "    os.makedirs(cityscapes_meta_path + \"/label_imgs\")"
      ],
      "metadata": {
        "id": "CFBLylNNiSGM"
      },
      "execution_count": null,
      "outputs": []
    },
    {
      "cell_type": "code",
      "source": [
        "# Convert provided masks with masks annotated with trainIDs\n",
        "\n",
        "train_label_img_paths = []\n",
        "\n",
        "img_dir = cityscapes_data_path + \"/leftImg8bit/train/\"\n",
        "label_dir = cityscapes_data_path + \"/gtFine/train/\"\n",
        "#for train_dir in train_dirs:\n",
        "    print (train_dir)\n",
        "\n",
        "    train_img_dir_path = img_dir + train_dir\n",
        "    train_label_dir_path = label_dir + train_dir\n",
        "\n",
        "    file_names = os.listdir(train_img_dir_path)\n",
        "    for file_name in file_names:\n",
        "        img_id = file_name.split(\"_leftImg8bit.png\")[0]\n",
        "\n",
        "        gtFine_img_path = train_label_dir_path + img_id + \"_gtFine_labelIds.png\"\n",
        "        gtFine_img = cv2.imread(gtFine_img_path, -1) \n",
        "\n",
        "        label_img = id_to_trainId_map_func(gtFine_img) \n",
        "        label_img = label_img.astype(np.uint8)\n",
        "\n",
        "        cv2.imwrite(cityscapes_meta_path + \"/label_imgs/\" + img_id + \".png\", label_img)\n",
        "        train_label_img_paths.append(cityscapes_meta_path + \"/label_imgs/\" + img_id + \".png\")\n",
        "\n",
        "img_dir = cityscapes_data_path + \"/leftImg8bit/val/\"\n",
        "label_dir = cityscapes_data_path + \"/gtFine/val/\"\n",
        "for val_dir in val_dirs:\n",
        "    print (val_dir)\n",
        "\n",
        "    val_img_dir_path = img_dir + val_dir\n",
        "    val_label_dir_path = label_dir + val_dir\n",
        "\n",
        "    file_names = os.listdir(val_img_dir_path)\n",
        "    for file_name in file_names:\n",
        "        img_id = file_name.split(\"_leftImg8bit.png\")[0]\n",
        "\n",
        "        gtFine_img_path = val_label_dir_path + img_id + \"_gtFine_labelIds.png\"\n",
        "        gtFine_img = cv2.imread(gtFine_img_path, -1) \n",
        "\n",
        "        label_img = id_to_trainId_map_func(gtFine_img) \n",
        "        label_img = label_img.astype(np.uint8)\n",
        "\n",
        "        cv2.imwrite(cityscapes_meta_path + \"/label_imgs/\" + img_id + \".png\", label_img)"
      ],
      "metadata": {
        "colab": {
          "base_uri": "https://localhost:8080/"
        },
        "id": "pvglCTaGjFaM",
        "outputId": "3ebcea93-ae70-4509-e225-870a26d7b0f6"
      },
      "execution_count": null,
      "outputs": [
        {
          "output_type": "stream",
          "name": "stdout",
          "text": [
            "jena/\n",
            "zurich/\n",
            "weimar/\n",
            "ulm/\n",
            "tubingen/\n",
            "stuttgart/\n",
            "strasbourg/\n",
            "monchengladbach/\n",
            "krefeld/\n",
            "hanover/\n",
            "hamburg/\n",
            "erfurt/\n",
            "dusseldorf/\n",
            "darmstadt/\n",
            "cologne/\n",
            "bremen/\n",
            "bochum/\n",
            "aachen/\n",
            "frankfurt/\n",
            "munster/\n",
            "lindau/\n"
          ]
        }
      ]
    }
  ]
}